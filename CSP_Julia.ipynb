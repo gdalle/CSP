{
 "cells": [
  {
   "cell_type": "markdown",
   "metadata": {},
   "source": [
    "# Binary CSP solver"
   ]
  },
  {
   "cell_type": "markdown",
   "metadata": {},
   "source": [
    "*Guillaume DALLE*"
   ]
  },
  {
   "cell_type": "markdown",
   "metadata": {},
   "source": [
    "## 1. CSP structure and backtracking"
   ]
  },
  {
   "cell_type": "code",
   "execution_count": 1,
   "metadata": {
    "ExecuteTime": {
     "end_time": "2019-02-06T13:32:59.717000+01:00",
     "start_time": "2019-02-06T12:32:58.332Z"
    }
   },
   "outputs": [],
   "source": [
    "mutable struct CSP\n",
    "    n_variables::Int64\n",
    "    domain::Array{Array{Int64}, 1}\n",
    "    possible_value::Dict{Tuple{Int64, Int64}, Bool}\n",
    "        \n",
    "    n_constraints::Int64\n",
    "    constraint_var1::Array{Int64, 1}\n",
    "    constraint_var2::Array{Int64, 1}\n",
    "    constraint_satisfaction::Array{Array{Bool, 2}, 1}\n",
    "    \n",
    "    var1_constraints::Array{Array{Int64, 1}, 1}\n",
    "    var2_constraints::Array{Array{Int64, 1}, 1}\n",
    "    \n",
    "    CSP() = new(\n",
    "        0, [], Dict{Tuple{Int64, Int64}, Bool}(),\n",
    "        0, [], [], [],\n",
    "        [], [],\n",
    "    )\n",
    "end"
   ]
  },
  {
   "cell_type": "code",
   "execution_count": 2,
   "metadata": {
    "ExecuteTime": {
     "end_time": "2019-02-06T13:33:00.344000+01:00",
     "start_time": "2019-02-06T12:32:58.333Z"
    }
   },
   "outputs": [
    {
     "data": {
      "text/plain": [
       "add_variable! (generic function with 1 method)"
      ]
     },
     "execution_count": 2,
     "metadata": {},
     "output_type": "execute_result"
    }
   ],
   "source": [
    "function add_variable!(csp::CSP, domain::Array{Int64})\n",
    "    csp.n_variables += 1\n",
    "    push!(csp.domain, domain)\n",
    "    push!(csp.var1_constraints, Array{Int64, 1}(undef, 0))\n",
    "    push!(csp.var2_constraints, Array{Int64, 1}(undef, 0))\n",
    "    for value in domain\n",
    "        csp.possible_value[(csp.n_variables, value)] = true\n",
    "    end\n",
    "end"
   ]
  },
  {
   "cell_type": "code",
   "execution_count": 3,
   "metadata": {
    "ExecuteTime": {
     "end_time": "2019-02-06T13:33:00.571000+01:00",
     "start_time": "2019-02-06T12:32:58.334Z"
    }
   },
   "outputs": [
    {
     "data": {
      "text/plain": [
       "add_constraint! (generic function with 1 method)"
      ]
     },
     "execution_count": 3,
     "metadata": {},
     "output_type": "execute_result"
    }
   ],
   "source": [
    "function add_constraint!(csp::CSP, var1::Int64, var2::Int64, compatibility::Function)\n",
    "    csp.n_constraints += 1\n",
    "\n",
    "    m1::Int64 = length(csp.domain[var1])\n",
    "    m2::Int64 = length(csp.domain[var2])\n",
    "    satisfaction::Array{Bool, 2} = zeros(Int64, m1, m2)\n",
    "    for value1 in csp.domain[var1], value2 in csp.domain[var2]\n",
    "        satisfaction[value1, value2] = compatibility(var1, var2, value1, value2)\n",
    "    end\n",
    "    \n",
    "    push!(csp.constraint_var1, var1)\n",
    "    push!(csp.constraint_var2, var2)\n",
    "    push!(csp.constraint_satisfaction, satisfaction)\n",
    "    \n",
    "    push!(csp.var1_constraints[var1], csp.n_constraints)\n",
    "    push!(csp.var2_constraints[var2], csp.n_constraints)\n",
    "end"
   ]
  },
  {
   "cell_type": "code",
   "execution_count": 4,
   "metadata": {
    "ExecuteTime": {
     "end_time": "2019-02-06T13:33:00.854000+01:00",
     "start_time": "2019-02-06T12:32:58.336Z"
    }
   },
   "outputs": [
    {
     "data": {
      "text/plain": [
       "check_feasibility (generic function with 1 method)"
      ]
     },
     "execution_count": 4,
     "metadata": {},
     "output_type": "execute_result"
    }
   ],
   "source": [
    "function check_feasibility(csp::CSP, instantiation::Array{Int64, 1}, new_var::Int64)\n",
    "    if new_var == 0\n",
    "        return true\n",
    "    end\n",
    "    for cons in csp.var1_constraints[new_var]\n",
    "        var2::Int64 = csp.constraint_var2[cons]\n",
    "        satisfaction = csp.constraint_satisfaction[cons]\n",
    "        value1 = instantiation[new_var]\n",
    "        value2 = instantiation[var2]\n",
    "        if (value1 !== 0) && (value2 !== 0)\n",
    "            if !satisfaction[value1, value2]\n",
    "                return false\n",
    "            end\n",
    "        end\n",
    "    end\n",
    "    return true\n",
    "end"
   ]
  },
  {
   "cell_type": "code",
   "execution_count": 5,
   "metadata": {
    "ExecuteTime": {
     "end_time": "2019-02-06T13:33:01.081000+01:00",
     "start_time": "2019-02-06T12:32:58.337Z"
    }
   },
   "outputs": [
    {
     "data": {
      "text/plain": [
       "undo_look_ahead! (generic function with 1 method)"
      ]
     },
     "execution_count": 5,
     "metadata": {},
     "output_type": "execute_result"
    }
   ],
   "source": [
    "function undo_look_ahead!(csp::CSP, discarded::Dict{Int64, Array{Int64, 1}})\n",
    "    for (var2, discarded_var2) in discarded\n",
    "        for value2 in discarded_var2\n",
    "            csp.possible_value[(var2, value2)] = true\n",
    "        end\n",
    "    end\n",
    "end"
   ]
  },
  {
   "cell_type": "code",
   "execution_count": 6,
   "metadata": {
    "ExecuteTime": {
     "end_time": "2019-02-06T13:33:01.317000+01:00",
     "start_time": "2019-02-06T12:32:58.339Z"
    }
   },
   "outputs": [
    {
     "data": {
      "text/plain": [
       "forward_checking (generic function with 1 method)"
      ]
     },
     "execution_count": 6,
     "metadata": {},
     "output_type": "execute_result"
    }
   ],
   "source": [
    "function forward_checking(csp::CSP, instantiation::Array{Int64, 1}, x::Int64)\n",
    "    to_discard::Dict{Int64, Array{Int64, 1}} = Dict{Int64, Array{Int64}}()\n",
    "    \n",
    "    a::Int64 = instantiation[x]\n",
    "    to_discard[x] = Array{Int64, 1}()\n",
    "    for aa in csp.domain[x]\n",
    "        if (aa != a) && csp.possible_value[(x, aa)]\n",
    "            push!(to_discard[x], aa)\n",
    "        end\n",
    "    end\n",
    "    \n",
    "    for cons in csp.var1_constraints[x]\n",
    "        y = csp.constraint_var2[cons]\n",
    "        if instantiation[y] != 0\n",
    "            continue\n",
    "        end\n",
    "        \n",
    "        to_discard[y] = Array{Int64, 1}()\n",
    "        for b in csp.domain[y]\n",
    "            if (!csp.constraint_satisfaction[cons][a, b]) && csp.possible_value[(y, b)]\n",
    "                push!(to_discard[y], b)\n",
    "            end\n",
    "        end\n",
    "    end\n",
    "    \n",
    "    for (var2, discarded_var2) in to_discard\n",
    "        for value2 in discarded_var2\n",
    "            csp.possible_value[(var2, value2)] = false\n",
    "        end\n",
    "    end\n",
    "    \n",
    "    return to_discard\n",
    "end"
   ]
  },
  {
   "cell_type": "code",
   "execution_count": 7,
   "metadata": {
    "ExecuteTime": {
     "end_time": "2019-02-06T13:33:01.549000+01:00",
     "start_time": "2019-02-06T12:32:58.341Z"
    }
   },
   "outputs": [
    {
     "data": {
      "text/plain": [
       "AC3 (generic function with 1 method)"
      ]
     },
     "execution_count": 7,
     "metadata": {},
     "output_type": "execute_result"
    }
   ],
   "source": [
    "function AC3(csp::CSP, instantiation::Array{Int64, 1}, new_var::Int64)\n",
    "    to_discard::Dict{Int64, Array{Int64, 1}} = Dict{Int64, Array{Int64}}()\n",
    "    for z in 1:csp.n_variables\n",
    "        to_discard[z] = Array{Int64, 1}()\n",
    "    end\n",
    "    \n",
    "    for other_value in csp.domain[new_var]\n",
    "        if (other_value != instantiation[new_var]) && csp.possible_value[(new_var, other_value)]\n",
    "            push!(to_discard[new_var], other_value)\n",
    "            csp.possible_value[(new_var, other_value)] = false\n",
    "        end\n",
    "    end\n",
    "    \n",
    "    to_test = Set{Int64}()\n",
    "    for cons in 1:csp.n_constraints\n",
    "        push!(to_test, cons)\n",
    "    end\n",
    "    \n",
    "    while !isempty(to_test)\n",
    "        cons = pop!(to_test)\n",
    "        x = csp.constraint_var1[cons]\n",
    "        y = csp.constraint_var2[cons]\n",
    "        for a in csp.domain[x]\n",
    "            \n",
    "            if !csp.possible_value[(x, a)]\n",
    "                continue\n",
    "            end\n",
    "            \n",
    "            supported::Bool = false\n",
    "            for b in csp.domain[y]\n",
    "                if !csp.possible_value[(y, b)]\n",
    "                    continue\n",
    "                end\n",
    "                if csp.constraint_satisfaction[cons][a, b]\n",
    "                    supported = true\n",
    "                    break\n",
    "                end\n",
    "            end\n",
    "            \n",
    "            if !supported\n",
    "                push!(to_discard[x], a)\n",
    "                csp.possible_value[(x, a)] = false\n",
    "                for cons_impacted in csp.var2_constraints[x]\n",
    "                    if csp.constraint_var1[cons] != y\n",
    "                        push!(to_test, cons_impacted)\n",
    "                    end\n",
    "                end\n",
    "            end\n",
    "        end\n",
    "    end\n",
    "    \n",
    "    return to_discard\n",
    "end"
   ]
  },
  {
   "cell_type": "code",
   "execution_count": 8,
   "metadata": {
    "ExecuteTime": {
     "end_time": "2019-02-06T13:33:01.778000+01:00",
     "start_time": "2019-02-06T12:32:58.343Z"
    }
   },
   "outputs": [
    {
     "data": {
      "text/plain": [
       "choose_next_variable (generic function with 1 method)"
      ]
     },
     "execution_count": 8,
     "metadata": {},
     "output_type": "execute_result"
    }
   ],
   "source": [
    "function choose_next_variable(csp::CSP, instantiation::Array{Int64, 1})\n",
    "    best_var::Int64 = 0\n",
    "    min_domain_size::Int64 = typemax(Int64)\n",
    "    \n",
    "    for var in 1:csp.n_variables\n",
    "        if instantiation[var] != 0\n",
    "            continue\n",
    "        end\n",
    "        \n",
    "        domain_size::Int64 = 0\n",
    "        for value in csp.domain[var]\n",
    "            if csp.possible_value[(var, value)]\n",
    "                domain_size += 1\n",
    "            end\n",
    "        end\n",
    "\n",
    "        if domain_size < min_domain_size\n",
    "            best_var = var\n",
    "            min_domain_size = domain_size\n",
    "        end\n",
    "    end\n",
    "    \n",
    "    return best_var\n",
    "end"
   ]
  },
  {
   "cell_type": "code",
   "execution_count": 9,
   "metadata": {
    "ExecuteTime": {
     "end_time": "2019-02-06T13:33:02.011000+01:00",
     "start_time": "2019-02-06T12:32:58.344Z"
    }
   },
   "outputs": [
    {
     "data": {
      "text/plain": [
       "backtrack! (generic function with 2 methods)"
      ]
     },
     "execution_count": 9,
     "metadata": {},
     "output_type": "execute_result"
    }
   ],
   "source": [
    "function backtrack!(\n",
    "        csp::CSP,\n",
    "        instantiation::Array{Int64, 1},\n",
    "        new_var::Int64,\n",
    "        nodes_explored::Int64,\n",
    "        look_ahead_method::String\n",
    "    )\n",
    "    if !check_feasibility(csp, instantiation, new_var)\n",
    "        return (false, instantiation, nodes_explored)\n",
    "    end\n",
    "    \n",
    "    new_var = choose_next_variable(csp, instantiation)\n",
    "    if new_var == 0\n",
    "        return true, instantiation, nodes_explored\n",
    "    end\n",
    "        \n",
    "    for new_value in csp.domain[new_var]\n",
    "                \n",
    "        if !csp.possible_value[(new_var, new_value)]\n",
    "            continue\n",
    "        end\n",
    "\n",
    "        nodes_explored += 1\n",
    "        instantiation[new_var] = new_value\n",
    "                    \n",
    "        if look_ahead_method == \"FC\"\n",
    "            discarded = forward_checking(csp, instantiation, new_var)\n",
    "        elseif look_ahead_method == \"MAC3\"\n",
    "            discarded = AC3(csp, instantiation, new_var)\n",
    "        end\n",
    "                \n",
    "        (solution_found, solution, nodes_explored) = backtrack!(\n",
    "            csp, instantiation, new_var, nodes_explored, look_ahead_method)\n",
    "        if solution_found\n",
    "            return (true, solution, nodes_explored)\n",
    "        end\n",
    "        \n",
    "        instantiation[new_var] = 0\n",
    "        if look_ahead_method != \"none\"\n",
    "            undo_look_ahead!(csp, discarded)\n",
    "        end\n",
    "\n",
    "    end\n",
    "    \n",
    "    return false, instantiation, nodes_explored\n",
    "end\n",
    "\n",
    "function backtrack!(csp::CSP, look_ahead_method::String)\n",
    "    return backtrack!(csp, zeros(Int64, csp.n_variables), 0, 0, look_ahead_method)\n",
    "end"
   ]
  },
  {
   "cell_type": "markdown",
   "metadata": {},
   "source": [
    "## 2. Applications"
   ]
  },
  {
   "cell_type": "markdown",
   "metadata": {},
   "source": [
    "### 2.1. N-queens problem"
   ]
  },
  {
   "cell_type": "code",
   "execution_count": 10,
   "metadata": {
    "ExecuteTime": {
     "end_time": "2019-02-06T13:33:02.250000+01:00",
     "start_time": "2019-02-06T12:32:58.345Z"
    }
   },
   "outputs": [
    {
     "data": {
      "text/plain": [
       "visualize_nqueens (generic function with 1 method)"
      ]
     },
     "execution_count": 10,
     "metadata": {},
     "output_type": "execute_result"
    }
   ],
   "source": [
    "function compatibility_nqueens(var1::Int64, var2::Int64, value1::Int64, value2::Int64)\n",
    "    # Exclude same row\n",
    "    if value1 == value2\n",
    "        return false\n",
    "    # Exlude same diagonal\n",
    "    elseif (value1 - value2) == (var1 - var2)\n",
    "        return false\n",
    "    # Exclude same antidiagonal\n",
    "    elseif (value1 - value2) == -(var1 - var2)\n",
    "        return false\n",
    "    else\n",
    "        return true\n",
    "    end\n",
    "end\n",
    "\n",
    "function define_nqueens(n::Int64)\n",
    "    csp = CSP()\n",
    "    domain = collect(1:n)\n",
    "    for i in 1:n\n",
    "        add_variable!(csp, domain)\n",
    "    end\n",
    "    for i in 1:n, j in 1:n\n",
    "        if (i != j)\n",
    "            add_constraint!(csp, i, j, compatibility_nqueens)\n",
    "        end\n",
    "    end\n",
    "    return csp\n",
    "end\n",
    "\n",
    "function visualize_nqueens(instantiation::Array{Int64})\n",
    "    n::Int64 = length(instantiation)\n",
    "    for i in 1:n\n",
    "        println()\n",
    "        for j in 1:n\n",
    "            if instantiation[i] == j\n",
    "                print(\" o\")\n",
    "            else\n",
    "                print(\" .\")\n",
    "            end\n",
    "        end\n",
    "    end\n",
    "end        "
   ]
  },
  {
   "cell_type": "code",
   "execution_count": 11,
   "metadata": {
    "ExecuteTime": {
     "end_time": "2019-02-06T13:33:03.143000+01:00",
     "start_time": "2019-02-06T12:32:58.347Z"
    }
   },
   "outputs": [
    {
     "name": "stdout",
     "output_type": "stream",
     "text": [
      "  0.246429 seconds (757.55 k allocations: 38.952 MiB, 5.02% gc time)\n",
      "  0.294154 seconds (532.63 k allocations: 26.611 MiB, 1.64% gc time)\n",
      "Nodes explored: 52 - Solution: [1, 3, 5, 14, 17, 4, 16, 7, 12, 18, 15, 19, 6, 10, 20, 11, 8, 2, 13, 9]\n",
      " o . . . . . . . . . . . . . . . . . . .\n",
      " . . o . . . . . . . . . . . . . . . . .\n",
      " . . . . o . . . . . . . . . . . . . . .\n",
      " . . . . . . . . . . . . . o . . . . . .\n",
      " . . . . . . . . . . . . . . . . o . . .\n",
      " . . . o . . . . . . . . . . . . . . . .\n",
      " . . . . . . . . . . . . . . . o . . . .\n",
      " . . . . . . o . . . . . . . . . . . . .\n",
      " . . . . . . . . . . . o . . . . . . . .\n",
      " . . . . . . . . . . . . . . . . . o . .\n",
      " . . . . . . . . . . . . . . o . . . . .\n",
      " . . . . . . . . . . . . . . . . . . o .\n",
      " . . . . . o . . . . . . . . . . . . . .\n",
      " . . . . . . . . . o . . . . . . . . . .\n",
      " . . . . . . . . . . . . . . . . . . . o\n",
      " . . . . . . . . . . o . . . . . . . . .\n",
      " . . . . . . . o . . . . . . . . . . . .\n",
      " . o . . . . . . . . . . . . . . . . . .\n",
      " . . . . . . . . . . . . o . . . . . . .\n",
      " . . . . . . . . o . . . . . . . . . . ."
     ]
    }
   ],
   "source": [
    "@time nqueens = define_nqueens(20)\n",
    "@time solution_exists, solution, nodes_explored = backtrack!(nqueens, \"MAC3\")\n",
    "print(\"Nodes explored: \", nodes_explored, \" - Solution: \", solution)\n",
    "visualize_nqueens(solution)"
   ]
  },
  {
   "cell_type": "markdown",
   "metadata": {},
   "source": [
    "### 2.2 Graph coloring"
   ]
  },
  {
   "cell_type": "code",
   "execution_count": 12,
   "metadata": {
    "ExecuteTime": {
     "end_time": "2019-02-06T13:33:03.349000+01:00",
     "start_time": "2019-02-06T12:32:58.348Z"
    }
   },
   "outputs": [
    {
     "data": {
      "text/plain": [
       "read_graph (generic function with 1 method)"
      ]
     },
     "execution_count": 12,
     "metadata": {},
     "output_type": "execute_result"
    }
   ],
   "source": [
    "function read_graph(path::String)\n",
    "    edges = Array{Tuple{Int64, Int64}, 1}()\n",
    "    open(path) do file\n",
    "        for line in eachline(file)\n",
    "            split_line = split(line)\n",
    "            if line[1] == 'p'\n",
    "                n_vertices = split_line[3]\n",
    "            elseif line[1] == 'e'\n",
    "                u = parse(Int64, split_line[2])\n",
    "                v = parse(Int64, split_line[3])\n",
    "                push!(edges, (u, v))\n",
    "            end\n",
    "        end\n",
    "    end\n",
    "    return n_vertices, edges\n",
    "end"
   ]
  }
 ],
 "metadata": {
  "kernelspec": {
   "display_name": "Julia 1.0.3",
   "language": "julia",
   "name": "julia-1.0"
  },
  "language_info": {
   "file_extension": ".jl",
   "mimetype": "application/julia",
   "name": "julia",
   "version": "1.0.3"
  }
 },
 "nbformat": 4,
 "nbformat_minor": 2
}
