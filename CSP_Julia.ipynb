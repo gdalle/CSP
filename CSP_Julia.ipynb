{
 "cells": [
  {
   "cell_type": "markdown",
   "metadata": {},
   "source": [
    "# Binary CSP solver"
   ]
  },
  {
   "cell_type": "code",
   "execution_count": null,
   "metadata": {
    "ExecuteTime": {
     "end_time": "2019-02-01T10:31:56.295000+01:00",
     "start_time": "2019-02-01T09:31:51.162Z"
    }
   },
   "outputs": [],
   "source": [
    "mutable struct CSP\n",
    "    n_variables::Int64\n",
    "    domain::Array{Set{Int64}, 1}\n",
    "    possible_value::Array{Bool, 2}\n",
    "    \n",
    "    max_domain::Int64\n",
    "    \n",
    "    n_constraints::Int64\n",
    "    constraints_var1::Array{Int64, 1}\n",
    "    constraints_var2::Array{Int64, 1}\n",
    "    constraints_satisfaction::Array{Array{Bool, 2}, 1}\n",
    "    \n",
    "    var1_constraints::Array{Array{Int64, 1}, 1}\n",
    "    var2_constraints::Array{Array{Int64, 1}, 1}\n",
    "    \n",
    "    CSP() = new(\n",
    "        0, [], Array{Bool, 2}(undef, 0, 0),\n",
    "        0,\n",
    "        0, [], [], [],\n",
    "        [], [],\n",
    "    )\n",
    "end"
   ]
  },
  {
   "cell_type": "code",
   "execution_count": 2,
   "metadata": {
    "ExecuteTime": {
     "end_time": "2019-02-01T10:31:57.434000+01:00",
     "start_time": "2019-02-01T09:31:56.780Z"
    }
   },
   "outputs": [
    {
     "data": {
      "text/plain": [
       "add_variable! (generic function with 1 method)"
      ]
     },
     "execution_count": 2,
     "metadata": {},
     "output_type": "execute_result"
    }
   ],
   "source": [
    "function add_variable!(csp::CSP, domain::Set{Int64})\n",
    "    csp.n_variables += 1\n",
    "    push!(csp.domain, domain)\n",
    "    push!(csp.var1_constraints, Array{Int64, 1}(undef, 0))\n",
    "    push!(csp.var2_constraints, Array{Int64, 1}(undef, 0))\n",
    "    csp.max_domain = max(csp.max_domain, length(domain))\n",
    "end"
   ]
  },
  {
   "cell_type": "code",
   "execution_count": 3,
   "metadata": {
    "ExecuteTime": {
     "end_time": "2019-02-01T10:31:58.146000+01:00",
     "start_time": "2019-02-01T09:31:57.893Z"
    }
   },
   "outputs": [
    {
     "data": {
      "text/plain": [
       "build_possible_values! (generic function with 1 method)"
      ]
     },
     "execution_count": 3,
     "metadata": {},
     "output_type": "execute_result"
    }
   ],
   "source": [
    "function build_possible_values!(csp::CSP)\n",
    "    possible_value = convert(Array{Bool, 2}, zeros(csp.n_variables, csp.max_domain))\n",
    "    for var in 1:csp.n_variables\n",
    "        for value in csp.domain[var]\n",
    "            possible_value[var, value] = true\n",
    "        end\n",
    "    end\n",
    "    csp.possible_value = possible_value\n",
    "end"
   ]
  },
  {
   "cell_type": "code",
   "execution_count": 4,
   "metadata": {
    "ExecuteTime": {
     "end_time": "2019-02-01T10:31:58.906000+01:00",
     "start_time": "2019-02-01T09:31:58.643Z"
    }
   },
   "outputs": [
    {
     "data": {
      "text/plain": [
       "add_constraint! (generic function with 1 method)"
      ]
     },
     "execution_count": 4,
     "metadata": {},
     "output_type": "execute_result"
    }
   ],
   "source": [
    "function add_constraint!(csp::CSP, var1::Int64, var2::Int64, compatibility::Function)\n",
    "    csp.n_constraints += 1\n",
    "    push!(csp.constraints_var1, var1)\n",
    "    push!(csp.constraints_var2, var2)\n",
    "    \n",
    "    m1::Int64 = length(csp.domain[var1])\n",
    "    m2::Int64 = length(csp.domain[var2])\n",
    "    satisfaction::Array{Bool, 2} = zeros(Int64, m1, m2)\n",
    "    for value1 in csp.domain[var1], value2 in csp.domain[var2]\n",
    "        satisfaction[value1, value2] = compatibility(var1, var2, value1, value2)\n",
    "    end\n",
    "    push!(csp.constraints_satisfaction, satisfaction)\n",
    "    \n",
    "    push!(csp.var1_constraints[var1], csp.n_constraints)\n",
    "    push!(csp.var2_constraints[var2], csp.n_constraints)\n",
    "end"
   ]
  },
  {
   "cell_type": "code",
   "execution_count": 23,
   "metadata": {
    "ExecuteTime": {
     "end_time": "2019-02-01T10:34:18.228000+01:00",
     "start_time": "2019-02-01T09:34:18.105Z"
    }
   },
   "outputs": [
    {
     "data": {
      "text/plain": [
       "check_feasibility (generic function with 1 method)"
      ]
     },
     "execution_count": 23,
     "metadata": {},
     "output_type": "execute_result"
    }
   ],
   "source": [
    "function check_feasibility(csp::CSP, instantiation::Array{Int64, 1}, new_var::Int64)\n",
    "    if new_var == 0\n",
    "        return true\n",
    "    end\n",
    "    for cons in csp.var1_constraints[new_var]\n",
    "        var2::Int64 = csp.constraints_var2[cons]\n",
    "        satisfaction = csp.constraints_satisfaction[cons]\n",
    "        value1 = instantiation[new_var]\n",
    "        value2 = instantiation[var2]\n",
    "        if (value1 !== 0) && (value2 !== 0)\n",
    "            if !satisfaction[value1, value2]\n",
    "                return false\n",
    "            end\n",
    "        end\n",
    "    end\n",
    "    return true\n",
    "end"
   ]
  },
  {
   "cell_type": "code",
   "execution_count": 24,
   "metadata": {
    "ExecuteTime": {
     "end_time": "2019-02-01T10:34:18.727000+01:00",
     "start_time": "2019-02-01T09:34:18.605Z"
    }
   },
   "outputs": [
    {
     "data": {
      "text/plain": [
       "undo_discard_values! (generic function with 1 method)"
      ]
     },
     "execution_count": 24,
     "metadata": {},
     "output_type": "execute_result"
    }
   ],
   "source": [
    "function discard_values!(csp::CSP, to_discard::Dict{Int64, Array{Int64}})\n",
    "    for (var2, discarded_var2) in to_discard\n",
    "        for value2 in discarded_var2\n",
    "            csp.possible_value[var2, value2] = false\n",
    "        end\n",
    "    end\n",
    "end\n",
    "\n",
    "function undo_discard_values!(csp::CSP, to_discard::Dict{Int64, Array{Int64}})\n",
    "    for (var2, discarded_var2) in to_discard\n",
    "        for value2 in discarded_var2\n",
    "            csp.possible_value[var2, value2] = true\n",
    "        end\n",
    "    end\n",
    "end"
   ]
  },
  {
   "cell_type": "code",
   "execution_count": 7,
   "metadata": {
    "ExecuteTime": {
     "end_time": "2019-02-01T10:32:01.438000+01:00",
     "start_time": "2019-02-01T09:32:01.169Z"
    }
   },
   "outputs": [
    {
     "data": {
      "text/plain": [
       "forward_checking (generic function with 1 method)"
      ]
     },
     "execution_count": 7,
     "metadata": {},
     "output_type": "execute_result"
    }
   ],
   "source": [
    "function forward_checking(csp::CSP, instantiation::Array{Int64, 1}, x::Int64)\n",
    "    to_discard::Dict{Int64, Array{Int64}} = Dict{Int64, Array{Int64}}()\n",
    "    \n",
    "    a = instantiation[x]\n",
    "    to_discard[x] = []\n",
    "    for aa in csp.domain[x]\n",
    "        if (aa != a) && csp.possible_value[x, aa]\n",
    "            push!(to_discard[x], aa)\n",
    "        end\n",
    "    end\n",
    "    \n",
    "    for cons in csp.var1_constraints[x]\n",
    "        y = csp.constraints_var2[cons]\n",
    "        if instantiation[y] != 0\n",
    "            continue\n",
    "        end\n",
    "        \n",
    "        to_discard[y] = []\n",
    "        for b in csp.domain[y]\n",
    "            if (!csp.constraints_satisfaction[cons][a, b]) && csp.possible_value[y, b]\n",
    "                push!(to_discard[y], b)\n",
    "            end\n",
    "        end\n",
    "    end\n",
    "    return to_discard\n",
    "end"
   ]
  },
  {
   "cell_type": "code",
   "execution_count": 19,
   "metadata": {
    "ExecuteTime": {
     "end_time": "2019-02-01T10:32:54.224000+01:00",
     "start_time": "2019-02-01T09:32:54.100Z"
    }
   },
   "outputs": [
    {
     "data": {
      "text/plain": [
       "backtrack! (generic function with 2 methods)"
      ]
     },
     "execution_count": 19,
     "metadata": {},
     "output_type": "execute_result"
    }
   ],
   "source": [
    "function backtrack!(csp::CSP, instantiation::Array{Int64, 1}, new_var::Int64, nodes_explored::Int64)\n",
    "    if !check_feasibility(csp, instantiation, new_var)\n",
    "        return (false, instantiation, nodes_explored)\n",
    "    end\n",
    "    \n",
    "    new_var = argmin(instantiation)\n",
    "    if instantiation[new_var] != 0\n",
    "        return true, instantiation, nodes_explored\n",
    "    end\n",
    "        \n",
    "    for new_value in csp.domain[new_var]\n",
    "                \n",
    "        if !csp.possible_value[new_var, new_value]\n",
    "            continue\n",
    "        end\n",
    "\n",
    "        nodes_explored += 1\n",
    "        instantiation[new_var] = new_value\n",
    "        \n",
    "        to_discard = forward_checking(csp, instantiation, new_var)\n",
    "        discard_values!(csp, to_discard)\n",
    "                \n",
    "        (solution_found, solution, nodes_explored) = backtrack!(csp, instantiation, new_var, nodes_explored)\n",
    "        if solution_found\n",
    "            return (true, solution, nodes_explored)\n",
    "        end\n",
    "        \n",
    "        instantiation[new_var] = 0\n",
    "        undo_discard_values!(csp, to_discard)\n",
    "\n",
    "    end\n",
    "    \n",
    "    return false, instantiation, nodes_explored\n",
    "end\n",
    "\n",
    "function backtrack!(csp::CSP)\n",
    "    return backtrack!(csp, zeros(Int64, csp.n_variables), 0, 0)\n",
    "end"
   ]
  },
  {
   "cell_type": "code",
   "execution_count": 20,
   "metadata": {
    "ExecuteTime": {
     "end_time": "2019-02-01T10:32:54.524000+01:00",
     "start_time": "2019-02-01T09:32:54.403Z"
    }
   },
   "outputs": [
    {
     "data": {
      "text/plain": [
       "visualize_nqueens (generic function with 1 method)"
      ]
     },
     "execution_count": 20,
     "metadata": {},
     "output_type": "execute_result"
    }
   ],
   "source": [
    "function compatibility_nqueens(var1::Int64, var2::Int64, value1::Int64, value2::Int64)\n",
    "    if value1 == value2\n",
    "        return false\n",
    "    elseif (value1 - value2) == (var1 - var2)\n",
    "        return false\n",
    "    elseif (value1 - value2) == -(var1 - var2)\n",
    "        return false\n",
    "    else\n",
    "        return true\n",
    "    end\n",
    "end\n",
    "\n",
    "function define_nqueens(n::Int64)\n",
    "    csp = CSP()\n",
    "    domain = Set(1:n)\n",
    "    for i in 1:n\n",
    "        add_variable!(csp, domain)\n",
    "    end\n",
    "    build_possible_values!(csp)\n",
    "    for i in 1:n, j in 1:n\n",
    "        if (i != j)\n",
    "            add_constraint!(csp, i, j, compatibility_nqueens)\n",
    "        end\n",
    "    end\n",
    "    return csp\n",
    "end\n",
    "\n",
    "function visualize_nqueens(instantiation::Array{Int64})\n",
    "    n::Int64 = length(instantiation)\n",
    "    for i in 1:n\n",
    "        println()\n",
    "        for j in 1:n\n",
    "            if instantiation[i] == j\n",
    "                print(\" o\")\n",
    "            else\n",
    "                print(\" .\")\n",
    "            end\n",
    "        end\n",
    "    end\n",
    "end        "
   ]
  },
  {
   "cell_type": "code",
   "execution_count": 22,
   "metadata": {
    "ExecuteTime": {
     "end_time": "2019-02-01T10:32:58.487000+01:00",
     "start_time": "2019-02-01T09:32:58.461Z"
    }
   },
   "outputs": [
    {
     "name": "stdout",
     "output_type": "stream",
     "text": [
      "  0.000616 seconds (3.56 k allocations: 311.969 KiB)\n",
      "Nodes explored: 124 - Solution: [30, 2, 11, 7, 25, 29, 9, 20, 8, 3, 12, 21, 26, 18, 10, 22, 24, 16, 5, 1, 6, 4, 28, 13, 17, 14, 23, 15, 19, 27]\n",
      " . . . . . . . . . . . . . . . . . . . . . . . . . . . . . o\n",
      " . o . . . . . . . . . . . . . . . . . . . . . . . . . . . .\n",
      " . . . . . . . . . . o . . . . . . . . . . . . . . . . . . .\n",
      " . . . . . . o . . . . . . . . . . . . . . . . . . . . . . .\n",
      " . . . . . . . . . . . . . . . . . . . . . . . . o . . . . .\n",
      " . . . . . . . . . . . . . . . . . . . . . . . . . . . . o .\n",
      " . . . . . . . . o . . . . . . . . . . . . . . . . . . . . .\n",
      " . . . . . . . . . . . . . . . . . . . o . . . . . . . . . .\n",
      " . . . . . . . o . . . . . . . . . . . . . . . . . . . . . .\n",
      " . . o . . . . . . . . . . . . . . . . . . . . . . . . . . .\n",
      " . . . . . . . . . . . o . . . . . . . . . . . . . . . . . .\n",
      " . . . . . . . . . . . . . . . . . . . . o . . . . . . . . .\n",
      " . . . . . . . . . . . . . . . . . . . . . . . . . o . . . .\n",
      " . . . . . . . . . . . . . . . . . o . . . . . . . . . . . .\n",
      " . . . . . . . . . o . . . . . . . . . . . . . . . . . . . .\n",
      " . . . . . . . . . . . . . . . . . . . . . o . . . . . . . .\n",
      " . . . . . . . . . . . . . . . . . . . . . . . o . . . . . .\n",
      " . . . . . . . . . . . . . . . o . . . . . . . . . . . . . .\n",
      " . . . . o . . . . . . . . . . . . . . . . . . . . . . . . .\n",
      " o . . . . . . . . . . . . . . . . . . . . . . . . . . . . .\n",
      " . . . . . o . . . . . . . . . . . . . . . . . . . . . . . .\n",
      " . . . o . . . . . . . . . . . . . . . . . . . . . . . . . .\n",
      " . . . . . . . . . . . . . . . . . . . . . . . . . . . o . .\n",
      " . . . . . . . . . . . . o . . . . . . . . . . . . . . . . .\n",
      " . . . . . . . . . . . . . . . . o . . . . . . . . . . . . .\n",
      " . . . . . . . . . . . . . o . . . . . . . . . . . . . . . .\n",
      " . . . . . . . . . . . . . . . . . . . . . . o . . . . . . .\n",
      " . . . . . . . . . . . . . . o . . . . . . . . . . . . . . .\n",
      " . . . . . . . . . . . . . . . . . . o . . . . . . . . . . .\n",
      " . . . . . . . . . . . . . . . . . . . . . . . . . . o . . ."
     ]
    }
   ],
   "source": [
    "nqueens = define_nqueens(30)\n",
    "@time solution_exists, solution, nodes_explored = backtrack!(nqueens)\n",
    "print(\"Nodes explored: \", nodes_explored, \" - Solution: \", solution)\n",
    "visualize_nqueens(solution)"
   ]
  },
  {
   "cell_type": "code",
   "execution_count": null,
   "metadata": {},
   "outputs": [],
   "source": []
  }
 ],
 "metadata": {
  "kernelspec": {
   "display_name": "Julia 1.0.3",
   "language": "julia",
   "name": "julia-1.0"
  },
  "language_info": {
   "file_extension": ".jl",
   "mimetype": "application/julia",
   "name": "julia",
   "version": "1.0.3"
  }
 },
 "nbformat": 4,
 "nbformat_minor": 2
}
