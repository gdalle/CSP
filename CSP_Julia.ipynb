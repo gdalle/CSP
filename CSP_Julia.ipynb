{
 "cells": [
  {
   "cell_type": "markdown",
   "metadata": {},
   "source": [
    "# Binary CSP solver"
   ]
  },
  {
   "cell_type": "markdown",
   "metadata": {},
   "source": [
    "*Guillaume DALLE*"
   ]
  },
  {
   "cell_type": "markdown",
   "metadata": {},
   "source": [
    "## 1. CSP structure and backtracking"
   ]
  },
  {
   "cell_type": "code",
   "execution_count": 1,
   "metadata": {
    "ExecuteTime": {
     "end_time": "2019-02-23T15:55:14.719000+01:00",
     "start_time": "2019-02-23T14:55:12.844Z"
    }
   },
   "outputs": [],
   "source": [
    "mutable struct CSP\n",
    "    n_variables::Int64\n",
    "    names::Array{String, 1}\n",
    "    domain_sizes::Array{Int64, 1}\n",
    "    \n",
    "    possible_value::Array{Array{Bool, 1}, 1}\n",
    "    value_scores::Array{Array{Int64, 1}, 1}\n",
    "    value_order::Array{Array{Int64, 1}}\n",
    "        \n",
    "    n_constraints::Int64\n",
    "    constraint_var1::Array{Int64, 1}\n",
    "    constraint_var2::Array{Int64, 1}\n",
    "    constraint_satisfaction::Array{Array{Bool, 2}, 1}\n",
    "    \n",
    "    var1_constraints::Array{Array{Int64, 1}, 1}\n",
    "    var2_constraints::Array{Array{Int64, 1}, 1}\n",
    "    \n",
    "    CSP() = new(\n",
    "        0,\n",
    "        String[],\n",
    "        Int64[],\n",
    "        \n",
    "        Array{Bool, 1}[],\n",
    "        Array{Int64, 1}[],\n",
    "        Array{Int64, 1}[],\n",
    "        \n",
    "        0,\n",
    "        Int64[],\n",
    "        Int64[],\n",
    "        Array{Bool, 1}[],\n",
    "        \n",
    "        Array{Int64, 1}[],\n",
    "        Array{Int64, 1}[],\n",
    "    )\n",
    "end"
   ]
  },
  {
   "cell_type": "code",
   "execution_count": 2,
   "metadata": {
    "ExecuteTime": {
     "end_time": "2019-02-23T15:55:15.448000+01:00",
     "start_time": "2019-02-23T14:55:12.845Z"
    }
   },
   "outputs": [
    {
     "data": {
      "text/plain": [
       "add_variable! (generic function with 1 method)"
      ]
     },
     "execution_count": 2,
     "metadata": {},
     "output_type": "execute_result"
    }
   ],
   "source": [
    "function add_variable!(csp::CSP, name::String, domain_size::Int64)\n",
    "    csp.n_variables += 1\n",
    "    push!(csp.names, name)\n",
    "    push!(csp.domain_sizes, domain_size)\n",
    "    push!(csp.possible_value, ones(Bool, domain_size))\n",
    "    push!(csp.value_scores, zeros(Int64, domain_size))\n",
    "    push!(csp.value_order, collect(1:domain_size))\n",
    "    \n",
    "    push!(csp.var1_constraints, Int64[])\n",
    "    push!(csp.var2_constraints, Int64[])\n",
    "end"
   ]
  },
  {
   "cell_type": "code",
   "execution_count": 3,
   "metadata": {
    "ExecuteTime": {
     "end_time": "2019-02-23T15:55:15.686000+01:00",
     "start_time": "2019-02-23T14:55:12.847Z"
    }
   },
   "outputs": [
    {
     "data": {
      "text/plain": [
       "add_constraint! (generic function with 1 method)"
      ]
     },
     "execution_count": 3,
     "metadata": {},
     "output_type": "execute_result"
    }
   ],
   "source": [
    "function add_constraint!(csp::CSP, var1::Int64, domain::Array{Int64, 1})\n",
    "    for value1 in 1:csp.domain_sizes[var1]\n",
    "        if !(value1 in domain)\n",
    "            csp.possible_value[var1][value1] = false\n",
    "        end\n",
    "    end    \n",
    "end"
   ]
  },
  {
   "cell_type": "code",
   "execution_count": 4,
   "metadata": {
    "ExecuteTime": {
     "end_time": "2019-02-23T15:55:15.846000+01:00",
     "start_time": "2019-02-23T14:55:12.849Z"
    }
   },
   "outputs": [
    {
     "data": {
      "text/plain": [
       "add_constraint! (generic function with 2 methods)"
      ]
     },
     "execution_count": 4,
     "metadata": {},
     "output_type": "execute_result"
    }
   ],
   "source": [
    "function add_constraint!(csp::CSP, var1::Int64, var2::Int64, compatibility::Function)\n",
    "    csp.n_constraints += 1\n",
    "\n",
    "    m1::Int64 = csp.domain_sizes[var1]\n",
    "    m2::Int64 = csp.domain_sizes[var2]\n",
    "    \n",
    "    #values1 = repeat(collect(1:m1), outer=(1, m2))\n",
    "    #values2 = transpose(repeat(collect(1:m2), inner=(1, m1)))\n",
    "    #satisfaction::Array{Bool, 2} = compatibility.([csp], var1, var2, values1, values2)\n",
    "    \n",
    "    satisfaction::Array{Bool, 2} = zeros(Bool, m1, m2)\n",
    "    for value1 in 1:m1, value2 in 1:m2\n",
    "        if compatibility(csp, var1, var2, value1, value2)\n",
    "            satisfaction[value1, value2] = true\n",
    "            csp.value_scores[var1][value1] += 1\n",
    "            csp.value_scores[var2][value2] += 1\n",
    "        end\n",
    "    end\n",
    "    \n",
    "    push!(csp.constraint_var1, var1)\n",
    "    push!(csp.constraint_var2, var2)\n",
    "    push!(csp.constraint_satisfaction, satisfaction)\n",
    "    \n",
    "    push!(csp.var1_constraints[var1], csp.n_constraints)\n",
    "    push!(csp.var2_constraints[var2], csp.n_constraints)\n",
    "    \n",
    "end"
   ]
  },
  {
   "cell_type": "code",
   "execution_count": 5,
   "metadata": {
    "ExecuteTime": {
     "end_time": "2019-02-23T15:55:16.090000+01:00",
     "start_time": "2019-02-23T14:55:12.850Z"
    }
   },
   "outputs": [
    {
     "data": {
      "text/plain": [
       "check_feasibility (generic function with 1 method)"
      ]
     },
     "execution_count": 5,
     "metadata": {},
     "output_type": "execute_result"
    }
   ],
   "source": [
    "function check_feasibility(csp::CSP, instantiation::Array{Int64, 1}, new_var::Int64)\n",
    "    if new_var == -1\n",
    "        return true\n",
    "    end\n",
    "    for cons in csp.var1_constraints[new_var]\n",
    "        var2::Int64 = csp.constraint_var2[cons]\n",
    "        satisfaction = csp.constraint_satisfaction[cons]\n",
    "        value1 = instantiation[new_var]\n",
    "        value2 = instantiation[var2]\n",
    "        if (value1 !== -1) && (value2 !== -1)\n",
    "            if !satisfaction[value1, value2]\n",
    "                return false\n",
    "            end\n",
    "        end\n",
    "    end\n",
    "    return true\n",
    "end"
   ]
  },
  {
   "cell_type": "code",
   "execution_count": 6,
   "metadata": {
    "ExecuteTime": {
     "end_time": "2019-02-23T15:55:16.312000+01:00",
     "start_time": "2019-02-23T14:55:12.852Z"
    }
   },
   "outputs": [
    {
     "data": {
      "text/plain": [
       "undo_look_ahead! (generic function with 1 method)"
      ]
     },
     "execution_count": 6,
     "metadata": {},
     "output_type": "execute_result"
    }
   ],
   "source": [
    "function undo_look_ahead!(csp::CSP, discarded::Array{Tuple{Int64, Int64}, 1})\n",
    "    for (var2, value2) in discarded\n",
    "        csp.possible_value[var2][value2] = true\n",
    "    end\n",
    "end"
   ]
  },
  {
   "cell_type": "code",
   "execution_count": 7,
   "metadata": {
    "ExecuteTime": {
     "end_time": "2019-02-23T15:55:16.533000+01:00",
     "start_time": "2019-02-23T14:55:12.854Z"
    }
   },
   "outputs": [
    {
     "data": {
      "text/plain": [
       "forward_checking (generic function with 1 method)"
      ]
     },
     "execution_count": 7,
     "metadata": {},
     "output_type": "execute_result"
    }
   ],
   "source": [
    "function forward_checking(csp::CSP, instantiation::Array{Int64, 1}, x::Int64)\n",
    "    to_discard::Array{Tuple{Int64, Int64}, 1} = Tuple{Int64, Int64}[]\n",
    "    \n",
    "    a::Int64 = instantiation[x]\n",
    "    for aa in 1:csp.domain_sizes[x]\n",
    "        if (aa != a) && csp.possible_value[x][aa]\n",
    "            push!(to_discard, (x, aa))\n",
    "        end\n",
    "    end\n",
    "    \n",
    "    for cons in csp.var1_constraints[x]\n",
    "        y = csp.constraint_var2[cons]\n",
    "        if instantiation[y] != -1\n",
    "            continue\n",
    "        end\n",
    "        \n",
    "        for b in 1:csp.domain_sizes[y]\n",
    "            if (!csp.constraint_satisfaction[cons][a, b]) && csp.possible_value[y][b]\n",
    "                push!(to_discard, (y, b))\n",
    "            end\n",
    "        end\n",
    "    end\n",
    "    \n",
    "    for (var2, value2) in to_discard\n",
    "        csp.possible_value[var2][value2] = false\n",
    "    end\n",
    "    \n",
    "    return to_discard\n",
    "end"
   ]
  },
  {
   "cell_type": "code",
   "execution_count": 8,
   "metadata": {
    "ExecuteTime": {
     "end_time": "2019-02-23T15:55:16.758000+01:00",
     "start_time": "2019-02-23T14:55:12.856Z"
    }
   },
   "outputs": [
    {
     "data": {
      "text/plain": [
       "AC3 (generic function with 1 method)"
      ]
     },
     "execution_count": 8,
     "metadata": {},
     "output_type": "execute_result"
    }
   ],
   "source": [
    "function AC3(csp::CSP, instantiation::Array{Int64, 1}, new_var::Int64)\n",
    "    to_discard::Array{Tuple{Int64, Int64}, 1} = Tuple{Int64, Int64}[]\n",
    "    \n",
    "    for other_value in 1:csp.domain_sizes[new_var]\n",
    "        if (other_value != instantiation[new_var]) && csp.possible_value[new_var][other_value]\n",
    "            push!(to_discard, (new_var, other_value))\n",
    "            csp.possible_value[new_var][other_value] = false\n",
    "        end\n",
    "    end\n",
    "    \n",
    "    to_test = Set{Int64}()\n",
    "    for cons in 1:csp.n_constraints\n",
    "        push!(to_test, cons)\n",
    "    end\n",
    "    \n",
    "    while !isempty(to_test)\n",
    "        cons = pop!(to_test)\n",
    "        x = csp.constraint_var1[cons]\n",
    "        y = csp.constraint_var2[cons]\n",
    "        for a in 1:csp.domain_sizes[x]\n",
    "            \n",
    "            if !csp.possible_value[x][a]\n",
    "                continue\n",
    "            end\n",
    "            \n",
    "            supported::Bool = false\n",
    "            for b in 1:csp.domain_sizes[y]\n",
    "                if !csp.possible_value[y][b]\n",
    "                    continue\n",
    "                end\n",
    "                if csp.constraint_satisfaction[cons][a, b]\n",
    "                    supported = true\n",
    "                    break\n",
    "                end\n",
    "            end\n",
    "            \n",
    "            if !supported\n",
    "                push!(to_discard, (x, a))\n",
    "                csp.possible_value[x][a] = false\n",
    "                for cons_impacted in csp.var2_constraints[x]\n",
    "                    if csp.constraint_var1[cons] != y\n",
    "                        push!(to_test, cons_impacted)\n",
    "                    end\n",
    "                end\n",
    "            end\n",
    "        end\n",
    "    end\n",
    "    \n",
    "    return to_discard\n",
    "end"
   ]
  },
  {
   "cell_type": "code",
   "execution_count": 9,
   "metadata": {
    "ExecuteTime": {
     "end_time": "2019-02-23T15:55:17+01:00",
     "start_time": "2019-02-23T14:55:12.858Z"
    }
   },
   "outputs": [
    {
     "data": {
      "text/plain": [
       "sort_values (generic function with 1 method)"
      ]
     },
     "execution_count": 9,
     "metadata": {},
     "output_type": "execute_result"
    }
   ],
   "source": [
    "function sort_values(csp::CSP)\n",
    "    for var in 1:csp.n_variables\n",
    "        value_sorting_criterion(value::Int64) = csp.value_scores[var][value]\n",
    "        csp.value_order[var] = sort(csp.value_order[var], by=value_sorting_criterion)\n",
    "    end\n",
    "end"
   ]
  },
  {
   "cell_type": "code",
   "execution_count": 10,
   "metadata": {
    "ExecuteTime": {
     "end_time": "2019-02-23T15:55:17.231000+01:00",
     "start_time": "2019-02-23T14:55:12.859Z"
    }
   },
   "outputs": [
    {
     "data": {
      "text/plain": [
       "choose_next_variable (generic function with 1 method)"
      ]
     },
     "execution_count": 10,
     "metadata": {},
     "output_type": "execute_result"
    }
   ],
   "source": [
    "function choose_next_variable(csp::CSP, instantiation::Array{Int64, 1})\n",
    "    best_var::Int64 = -1\n",
    "    min_domain_size::Int64 = typemax(Int64)\n",
    "    max_constraints::Int64 = 0\n",
    "    \n",
    "    criterion = \"domain_size\"\n",
    "    \n",
    "    for var in 1:csp.n_variables\n",
    "        if instantiation[var] != -1\n",
    "            continue\n",
    "        end\n",
    "        \n",
    "        if criterion == \"domain_size\"\n",
    "            current_domain_size::Int64 = 0\n",
    "            for value in 1:csp.domain_sizes[var]\n",
    "                if csp.possible_value[var][value]\n",
    "                    current_domain_size += 1\n",
    "                end\n",
    "            end\n",
    "\n",
    "            if current_domain_size < min_domain_size\n",
    "                best_var = var\n",
    "                min_domain_size = current_domain_size\n",
    "            end\n",
    "        end\n",
    "        \n",
    "        if criterion == \"constraints\"\n",
    "            current_constraints::Int64 = length(csp.var1_constraints[var])\n",
    "\n",
    "            if current_constraints > max_constraints\n",
    "                best_var = var\n",
    "                max_constraints = current_constraints\n",
    "            end\n",
    "        end\n",
    "        \n",
    "    end\n",
    "    \n",
    "    return best_var\n",
    "end"
   ]
  },
  {
   "cell_type": "code",
   "execution_count": 11,
   "metadata": {
    "ExecuteTime": {
     "end_time": "2019-02-23T15:55:17.476000+01:00",
     "start_time": "2019-02-23T14:55:12.866Z"
    }
   },
   "outputs": [
    {
     "data": {
      "text/plain": [
       "backtrack! (generic function with 1 method)"
      ]
     },
     "execution_count": 11,
     "metadata": {},
     "output_type": "execute_result"
    }
   ],
   "source": [
    "function backtrack!(\n",
    "        csp::CSP,\n",
    "        instantiation::Array{Int64, 1},\n",
    "        new_var::Int64,\n",
    "        nodes_explored::Int64,\n",
    "        look_ahead_method::String\n",
    "    )\n",
    "    if !check_feasibility(csp, instantiation, new_var)\n",
    "        return (false, instantiation, nodes_explored)\n",
    "    end\n",
    "    \n",
    "    new_var = choose_next_variable(csp, instantiation)\n",
    "    if new_var == -1\n",
    "        return true, instantiation, nodes_explored\n",
    "    end\n",
    "        \n",
    "    for new_value in csp.value_order[new_var]\n",
    "                \n",
    "        if !csp.possible_value[new_var][new_value]\n",
    "            continue\n",
    "        end\n",
    "\n",
    "        nodes_explored += 1\n",
    "        instantiation[new_var] = new_value\n",
    "                    \n",
    "        if look_ahead_method == \"FC\"\n",
    "            discarded = forward_checking(csp, instantiation, new_var)\n",
    "        elseif look_ahead_method == \"MAC3\"\n",
    "            discarded = AC3(csp, instantiation, new_var)\n",
    "        end\n",
    "                \n",
    "        (solution_found, solution, nodes_explored) = backtrack!(\n",
    "            csp, instantiation, new_var, nodes_explored, look_ahead_method)\n",
    "        if solution_found\n",
    "            return (true, solution, nodes_explored)\n",
    "        end\n",
    "        \n",
    "        instantiation[new_var] = -1\n",
    "        if look_ahead_method != \"none\"\n",
    "            undo_look_ahead!(csp, discarded)\n",
    "        end\n",
    "\n",
    "    end\n",
    "    \n",
    "    return false, instantiation, nodes_explored\n",
    "end"
   ]
  },
  {
   "cell_type": "code",
   "execution_count": 12,
   "metadata": {
    "ExecuteTime": {
     "end_time": "2019-02-23T15:55:17.632000+01:00",
     "start_time": "2019-02-23T14:55:12.868Z"
    }
   },
   "outputs": [
    {
     "data": {
      "text/plain": [
       "backtrack! (generic function with 3 methods)"
      ]
     },
     "execution_count": 12,
     "metadata": {},
     "output_type": "execute_result"
    }
   ],
   "source": [
    "function backtrack!(csp::CSP, look_ahead_method::String)\n",
    "    return backtrack!(\n",
    "        csp, -ones(Int64, csp.n_variables), -1, 0, look_ahead_method)\n",
    "end\n",
    "\n",
    "function backtrack!(csp::CSP)\n",
    "    return backtrack!(\n",
    "        csp, -ones(Int64, csp.n_variables), -1, 0, \"FC\")\n",
    "end"
   ]
  },
  {
   "cell_type": "code",
   "execution_count": 13,
   "metadata": {
    "ExecuteTime": {
     "end_time": "2019-02-23T15:55:17.859000+01:00",
     "start_time": "2019-02-23T14:55:12.869Z"
    }
   },
   "outputs": [
    {
     "data": {
      "text/plain": [
       "solve (generic function with 1 method)"
      ]
     },
     "execution_count": 13,
     "metadata": {},
     "output_type": "execute_result"
    }
   ],
   "source": [
    "function solve(csp::CSP)\n",
    "    (status, instantiation, nodes_explored) = backtrack!(csp)\n",
    "    if !status\n",
    "        println(\"\\nStatus: unfeasible\")\n",
    "    else\n",
    "        println(\"\\nStatus: solved\")\n",
    "        println(\"\\nNodes explored: \", nodes_explored)\n",
    "        println(\"\\nSolution: \")\n",
    "        for var in 1:csp.n_variables\n",
    "            println(csp.names[var], \": \", instantiation[var])\n",
    "        end\n",
    "    end\n",
    "    println()\n",
    "    instantiation_dict::Dict{String, Int64} = Dict(\n",
    "        csp.names[var] => instantiation[var] for var in 1:csp.n_variables)\n",
    "    return instantiation_dict\n",
    "end"
   ]
  },
  {
   "cell_type": "markdown",
   "metadata": {},
   "source": [
    "## 2. Applications"
   ]
  },
  {
   "cell_type": "markdown",
   "metadata": {},
   "source": [
    "### 2.1. N-queens problem"
   ]
  },
  {
   "cell_type": "code",
   "execution_count": 14,
   "metadata": {
    "ExecuteTime": {
     "end_time": "2019-02-23T15:55:18.086000+01:00",
     "start_time": "2019-02-23T14:55:12.871Z"
    }
   },
   "outputs": [
    {
     "data": {
      "text/plain": [
       "visualize_nqueens (generic function with 1 method)"
      ]
     },
     "execution_count": 14,
     "metadata": {},
     "output_type": "execute_result"
    }
   ],
   "source": [
    "function compatibility_nqueens(csp::CSP, var1::Int64, var2::Int64, value1::Int64, value2::Int64)\n",
    "    # Exclude same row, same diagonal, same antidiagonal\n",
    "    if (value1 == value2) || abs(value1 - value2) == abs(var1 - var2)\n",
    "        return false\n",
    "    else\n",
    "        return true\n",
    "    end\n",
    "end\n",
    "\n",
    "function symmetry_redundent_nqueens(csp::CSP, var1::Int64, var2::Int64, value1::Int64, value2::Int64)\n",
    "    # Horizontal symmetry\n",
    "    if (var1 == 1) && (var2 == 2)\n",
    "        if value1 < value2\n",
    "            return true\n",
    "        end\n",
    "    end\n",
    "    return false\n",
    "end\n",
    "\n",
    "function define_nqueens(n::Int64)\n",
    "    csp = CSP()\n",
    "    for i in 1:n\n",
    "        name = \"row_\" * string(i)\n",
    "        domain_size = n\n",
    "        add_variable!(csp, name, domain_size)\n",
    "    end\n",
    "    for i in 1:n, j in 1:n\n",
    "        if (i != j)\n",
    "            add_constraint!(csp, i, j, compatibility_nqueens)\n",
    "        end\n",
    "    end\n",
    "    return csp\n",
    "end\n",
    "\n",
    "function visualize_nqueens(instantiation_dict::Dict{String, Int64})\n",
    "    n::Int64 = length(instantiation_dict)\n",
    "    for j in 1:n\n",
    "        println()\n",
    "        for i in 1:n\n",
    "            if instantiation_dict[\"row_\" * string(j)] == i\n",
    "                print(\" Q\")\n",
    "            else\n",
    "                print(\" .\")\n",
    "            end\n",
    "        end\n",
    "    end\n",
    "end   "
   ]
  },
  {
   "cell_type": "code",
   "execution_count": 15,
   "metadata": {
    "ExecuteTime": {
     "end_time": "2019-02-23T15:55:19.657000+01:00",
     "start_time": "2019-02-23T14:55:12.873Z"
    }
   },
   "outputs": [
    {
     "name": "stdout",
     "output_type": "stream",
     "text": [
      "  0.458924 seconds (226.31 k allocations: 108.185 MiB, 10.79% gc time)\n",
      "  0.164013 seconds (390.28 k allocations: 19.478 MiB)\n"
     ]
    },
    {
     "data": {
      "text/plain": [
       "(true, [1, 3, 5, 57, 59, 4, 64, 7, 58, 71  …  38, 86, 16, 79, 24, 39, 28, 23, 31, 89], 185)"
      ]
     },
     "execution_count": 15,
     "metadata": {},
     "output_type": "execute_result"
    }
   ],
   "source": [
    "@time nqueens = define_nqueens(100);\n",
    "@time backtrack!(nqueens, \"FC\")"
   ]
  },
  {
   "cell_type": "code",
   "execution_count": 16,
   "metadata": {
    "ExecuteTime": {
     "end_time": "2019-02-23T15:55:19.857000+01:00",
     "start_time": "2019-02-23T14:55:12.874Z"
    }
   },
   "outputs": [
    {
     "name": "stdout",
     "output_type": "stream",
     "text": [
      "\n",
      "Status: solved\n",
      "\n",
      "Nodes explored: 35\n",
      "\n",
      "Solution: \n",
      "row_1: 1\n",
      "row_2: 3\n",
      "row_3: 6\n",
      "row_4: 9\n",
      "row_5: 7\n",
      "row_6: 10\n",
      "row_7: 4\n",
      "row_8: 2\n",
      "row_9: 5\n",
      "row_10: 8\n",
      "\n",
      "\n",
      " Q . . . . . . . . .\n",
      " . . Q . . . . . . .\n",
      " . . . . . Q . . . .\n",
      " . . . . . . . . Q .\n",
      " . . . . . . Q . . .\n",
      " . . . . . . . . . Q\n",
      " . . . Q . . . . . .\n",
      " . Q . . . . . . . .\n",
      " . . . . Q . . . . .\n",
      " . . . . . . . Q . ."
     ]
    }
   ],
   "source": [
    "nqueens_small = define_nqueens(10);\n",
    "instantiation_dict = solve(nqueens_small)\n",
    "visualize_nqueens(instantiation_dict)"
   ]
  },
  {
   "cell_type": "markdown",
   "metadata": {},
   "source": [
    "### 2.2 Knight's tour"
   ]
  },
  {
   "cell_type": "code",
   "execution_count": 17,
   "metadata": {
    "ExecuteTime": {
     "end_time": "2019-02-23T15:55:19.968000+01:00",
     "start_time": "2019-02-23T14:55:12.876Z"
    }
   },
   "outputs": [
    {
     "data": {
      "text/plain": [
       "square_from_coord (generic function with 1 method)"
      ]
     },
     "execution_count": 17,
     "metadata": {},
     "output_type": "execute_result"
    }
   ],
   "source": [
    "function coord_from_square(square::Int64, board_size::Int64)\n",
    "    row = div(square - 1, board_size) + 1\n",
    "    col = rem(square - 1, board_size) + 1\n",
    "    return (row, col)\n",
    "end\n",
    "\n",
    "function square_from_coord(row::Int64, col::Int64, board_size::Int64)\n",
    "    square = (row-1) * board_size + col\n",
    "    return square\n",
    "end"
   ]
  },
  {
   "cell_type": "code",
   "execution_count": 18,
   "metadata": {
    "ExecuteTime": {
     "end_time": "2019-02-23T15:55:20.085000+01:00",
     "start_time": "2019-02-23T14:55:12.878Z"
    }
   },
   "outputs": [
    {
     "data": {
      "text/plain": [
       "piece_move (generic function with 1 method)"
      ]
     },
     "execution_count": 18,
     "metadata": {},
     "output_type": "execute_result"
    }
   ],
   "source": [
    "function rook_move(square1::Int64, square2::Int64, n::Int64)\n",
    "    row1, col1 = coord_from_square(square1, n)\n",
    "    row2, col2 = coord_from_square(square2, n)\n",
    "    return (square1 != square2) && ((row1 == row2) || (col1 == col2))\n",
    "end\n",
    "\n",
    "function bishop_move(square1::Int64, square2::Int64, n::Int64)\n",
    "    row1, col1 = coord_from_square(square1, n)\n",
    "    row2, col2 = coord_from_square(square2, n)\n",
    "    return (square1 != square2) && (abs(row1 - row2) == abs(col1 - col2))\n",
    "end\n",
    "\n",
    "function knight_move(square1::Int64, square2::Int64, n::Int64)\n",
    "    row1, col1 = coord_from_square(square1, n)\n",
    "    row2, col2 = coord_from_square(square2, n)\n",
    "    return (\n",
    "        (abs(row1 - row2) == 1 && abs(col1 - col2) == 2) ||\n",
    "        (abs(row1 - row2) == 2 && abs(col1 - col2) == 1)\n",
    "    )\n",
    "end\n",
    "\n",
    "function queen_move(square1::Int64, square2::Int64, n::Int64)\n",
    "    return rook_move(square1, square2, n) || bishop_move(square1, square2, n)\n",
    "end\n",
    "\n",
    "function king_move(square1::Int64, square2::Int64, n::Int64)\n",
    "    row1, col1 = coord_from_square(square1, n)\n",
    "    row2, col2 = coord_from_square(square2, n)\n",
    "    return (square1 != square2) && (max(abs(row1 - row2), abs(col1 - col2)) == 1)\n",
    "end\n",
    "\n",
    "function piece_move(square1::Int64, square2::Int64, n::Int64, piece::String)\n",
    "    if piece == \"knight\"\n",
    "        return knight_move(square1, square2, n)\n",
    "    elseif piece == \"bishop\"\n",
    "        return bishop_move(square1, square2, n)\n",
    "    elseif piece == \"rook\"\n",
    "        return rook_move(square1, square2, n)\n",
    "    elseif piece == \"queen\"\n",
    "        return queen_move(square1, square2, n)\n",
    "    elseif piece == \"king\"\n",
    "        return king_move(square1, square2, n)\n",
    "    end\n",
    "end"
   ]
  },
  {
   "cell_type": "code",
   "execution_count": 19,
   "metadata": {
    "ExecuteTime": {
     "end_time": "2019-02-23T15:55:20.201000+01:00",
     "start_time": "2019-02-23T14:55:12.879Z"
    }
   },
   "outputs": [
    {
     "data": {
      "text/plain": [
       "visualize_tour (generic function with 1 method)"
      ]
     },
     "execution_count": 19,
     "metadata": {},
     "output_type": "execute_result"
    }
   ],
   "source": [
    "function compatibility_tour(\n",
    "        csp::CSP,\n",
    "        var1::Int64, var2::Int64,\n",
    "        value1::Int64, value2::Int64,\n",
    "        n::Int64, piece::String\n",
    "    )\n",
    "    if abs(var1 - var2) > 1\n",
    "        return value1 != value2\n",
    "    else\n",
    "        return piece_move(value1, value2, n, piece)\n",
    "    end\n",
    "end\n",
    "\n",
    "function define_tour(n::Int64, piece::String)\n",
    "    csp = CSP()\n",
    "    if piece == \"bishop\"\n",
    "        n_pieces = div(n^2, 2)\n",
    "    else\n",
    "        n_pieces = n^2\n",
    "    end\n",
    "    for i in 1:n_pieces\n",
    "        name = \"position_\" * string(i)\n",
    "        domain_size = n^2\n",
    "        add_variable!(csp, name, domain_size)\n",
    "    end\n",
    "    for i in 1:n_pieces, j in 1:n_pieces\n",
    "        if (i != j)\n",
    "            compatibility_tour_piece(a, b, c, d, e) = compatibility_tour(a, b, c, d, e, n, piece)\n",
    "            add_constraint!(csp, i, j, compatibility_tour_piece)\n",
    "        end\n",
    "    end\n",
    "    return csp\n",
    "end\n",
    "\n",
    "function visualize_tour(instantiation_dict::Dict{String, Int64}, n::Int64)\n",
    "    for x in 1:n\n",
    "        println()\n",
    "        for y in 1:n\n",
    "            rank::Int64 = 0\n",
    "            for var in 1:length(instantiation_dict)\n",
    "                if instantiation_dict[\"position_\" * string(var)] == square_from_coord(x, y, n)\n",
    "                    rank = var\n",
    "                    break\n",
    "                end\n",
    "            end\n",
    "            print(string(rank) * \" \"^(3 - length(string(rank))))\n",
    "        end\n",
    "    end\n",
    "end "
   ]
  },
  {
   "cell_type": "code",
   "execution_count": 20,
   "metadata": {
    "ExecuteTime": {
     "end_time": "2019-02-23T15:55:20.316000+01:00",
     "start_time": "2019-02-23T14:55:12.881Z"
    }
   },
   "outputs": [
    {
     "name": "stdout",
     "output_type": "stream",
     "text": [
      "\n",
      "Status: solved\n",
      "\n",
      "Nodes explored: 42\n",
      "\n",
      "Solution: \n",
      "position_1: 1\n",
      "position_2: 2\n",
      "position_3: 3\n",
      "position_4: 4\n",
      "position_5: 5\n",
      "position_6: 6\n",
      "position_7: 11\n",
      "position_8: 10\n",
      "position_9: 9\n",
      "position_10: 8\n",
      "position_11: 7\n",
      "position_12: 13\n",
      "position_13: 14\n",
      "position_14: 15\n",
      "position_15: 16\n",
      "position_16: 17\n",
      "position_17: 12\n",
      "position_18: 18\n",
      "position_19: 23\n",
      "position_20: 22\n",
      "position_21: 21\n",
      "position_22: 20\n",
      "position_23: 19\n",
      "position_24: 25\n",
      "position_25: 26\n",
      "position_26: 27\n",
      "position_27: 28\n",
      "position_28: 29\n",
      "position_29: 24\n",
      "position_30: 30\n",
      "position_31: 36\n",
      "position_32: 35\n",
      "position_33: 34\n",
      "position_34: 33\n",
      "position_35: 32\n",
      "position_36: 31\n",
      "\n",
      "\n",
      "1  2  3  4  5  6  \n",
      "11 10 9  8  7  17 \n",
      "12 13 14 15 16 18 \n",
      "23 22 21 20 19 29 \n",
      "24 25 26 27 28 30 \n",
      "36 35 34 33 32 31 "
     ]
    }
   ],
   "source": [
    "tour = define_tour(6, \"king\")\n",
    "instantiation_dict = solve(tour)\n",
    "visualize_tour(instantiation_dict, 6)"
   ]
  },
  {
   "cell_type": "markdown",
   "metadata": {},
   "source": [
    "### 2.3 Graph coloring"
   ]
  },
  {
   "cell_type": "code",
   "execution_count": 21,
   "metadata": {
    "ExecuteTime": {
     "end_time": "2019-02-23T15:55:21.840000+01:00",
     "start_time": "2019-02-23T14:55:12.883Z"
    }
   },
   "outputs": [
    {
     "data": {
      "text/plain": [
       "find_maxclique (generic function with 1 method)"
      ]
     },
     "execution_count": 21,
     "metadata": {},
     "output_type": "execute_result"
    }
   ],
   "source": [
    "function generate_combinations(n::Int64, k::Int64)\n",
    "    if k==1\n",
    "        combs = Set([[i] for i in 1:n])\n",
    "    else\n",
    "        combs::Set{Array{Int64, 1}} = Set()\n",
    "        for c in generate_combinations(n, k-1)\n",
    "            for i in 1:n\n",
    "                if !(i in c)\n",
    "                    new_c = copy(c)\n",
    "                    push!(new_c, i)\n",
    "                    push!(combs, sort(new_c))\n",
    "                end\n",
    "            end\n",
    "        end\n",
    "        return combs\n",
    "    end\n",
    "end\n",
    "\n",
    "function check_clique(adj, c)\n",
    "    for u in c, v in c\n",
    "        if (u != v) && adj[u, v] == 0\n",
    "            return false\n",
    "        end\n",
    "    end\n",
    "    return true\n",
    "end\n",
    "\n",
    "function find_kclique(n_vertices, edges, k)\n",
    "    adj = zeros(Bool, n_vertices, n_vertices)\n",
    "    for (u, v) in edges\n",
    "        adj[u, v] = true\n",
    "        adj[v, u] = 1\n",
    "    end\n",
    "    for c in generate_combinations(n_vertices, k)\n",
    "       if check_clique(adj, c)\n",
    "            return c\n",
    "        end\n",
    "    end\n",
    "    return 0\n",
    "end\n",
    "\n",
    "import LightGraphs\n",
    "\n",
    "function find_maxclique(n_vertices, edges)\n",
    "    g = LightGraphs.SimpleGraph(n_vertices)\n",
    "    for (u, v) in edges\n",
    "        LightGraphs.add_edge!(g, u, v)\n",
    "    end\n",
    "    k = 0\n",
    "    maxclique = []\n",
    "    for c in LightGraphs.maximal_cliques(g)\n",
    "        if length(c) >= k\n",
    "            k = length(c)\n",
    "            maxclique = c\n",
    "        end\n",
    "    end\n",
    "    return maxclique\n",
    "end"
   ]
  },
  {
   "cell_type": "code",
   "execution_count": 22,
   "metadata": {
    "ExecuteTime": {
     "end_time": "2019-02-23T15:55:22.630000+01:00",
     "start_time": "2019-02-23T14:55:12.885Z"
    }
   },
   "outputs": [
    {
     "data": {
      "text/plain": [
       "read_graph (generic function with 1 method)"
      ]
     },
     "execution_count": 22,
     "metadata": {},
     "output_type": "execute_result"
    }
   ],
   "source": [
    "function read_graph(path::String)\n",
    "    n_vertices = 0\n",
    "    edges = Array{Tuple{Int64, Int64}, 1}()\n",
    "    open(path) do file\n",
    "        for line in eachline(file)\n",
    "            split_line = split(line)\n",
    "            if line[1] == 'p'\n",
    "                n_vertices = parse(Int64, split_line[3])\n",
    "            elseif line[1] == 'e'\n",
    "                u = parse(Int64, split_line[2])\n",
    "                v = parse(Int64, split_line[3])\n",
    "                push!(edges, (u, v))\n",
    "            end\n",
    "        end\n",
    "    end\n",
    "    return n_vertices, edges\n",
    "end"
   ]
  },
  {
   "cell_type": "code",
   "execution_count": 23,
   "metadata": {
    "ExecuteTime": {
     "end_time": "2019-02-23T15:55:22.834000+01:00",
     "start_time": "2019-02-23T14:55:12.886Z"
    }
   },
   "outputs": [
    {
     "data": {
      "text/plain": [
       "define_coloring (generic function with 1 method)"
      ]
     },
     "execution_count": 23,
     "metadata": {},
     "output_type": "execute_result"
    }
   ],
   "source": [
    "function compatibility_coloring(csp::CSP, var1::Int64, var2::Int64, value1::Int64, value2::Int64)\n",
    "    return value1 != value2\n",
    "end\n",
    "\n",
    "function define_coloring(n_vertices::Int64, edges::Array{Tuple{Int64, Int64}, 1}, n_colors::Int64)\n",
    "    csp = CSP()\n",
    "    for u in 1:n_vertices\n",
    "        name = \"color_\" * string(u)\n",
    "        domain_size = n_colors\n",
    "        add_variable!(csp, name, domain_size)\n",
    "    end\n",
    "    for (u, v) in edges\n",
    "        add_constraint!(csp, u, v, compatibility_coloring)\n",
    "        add_constraint!(csp, v, u, compatibility_coloring)\n",
    "    end\n",
    "    # Symmetry constraints\n",
    "    maxclique = find_maxclique(n_vertices, edges)\n",
    "    if length(maxclique) > n_colors\n",
    "        maxclique = maxclique[1:n_colors]\n",
    "    end\n",
    "    print(\"Max clique size \", length(maxclique))\n",
    "    for (i, u) in enumerate(maxclique)\n",
    "        add_constraint!(csp, u, [i])\n",
    "    end\n",
    "    \n",
    "    sort_values(csp)\n",
    "    return csp\n",
    "end"
   ]
  },
  {
   "cell_type": "code",
   "execution_count": 24,
   "metadata": {
    "ExecuteTime": {
     "end_time": "2019-02-23T15:55:23.510000+01:00",
     "start_time": "2019-02-23T14:55:12.888Z"
    }
   },
   "outputs": [
    {
     "name": "stdout",
     "output_type": "stream",
     "text": [
      "Max clique size 9"
     ]
    }
   ],
   "source": [
    "n_vertices, edges = read_graph(\"graphs/jean.col\")\n",
    "n_colors = 9\n",
    "coloring = define_coloring(n_vertices, edges, n_colors);"
   ]
  },
  {
   "cell_type": "code",
   "execution_count": 25,
   "metadata": {
    "ExecuteTime": {
     "end_time": "2019-02-23T15:55:23.618000+01:00",
     "start_time": "2019-02-23T14:55:12.889Z"
    }
   },
   "outputs": [
    {
     "name": "stdout",
     "output_type": "stream",
     "text": [
      "  0.000048 seconds (50 allocations: 7.281 KiB)\n"
     ]
    },
    {
     "data": {
      "text/plain": [
       "(false, [-1, -1, -1, -1, -1, -1, -1, -1, -1, -1  …  -1, -1, -1, -1, -1, -1, -1, -1, -1, -1], 9)"
      ]
     },
     "execution_count": 25,
     "metadata": {},
     "output_type": "execute_result"
    }
   ],
   "source": [
    "@time backtrack!(coloring, \"FC\")"
   ]
  }
 ],
 "metadata": {
  "kernelspec": {
   "display_name": "Julia 1.0.3",
   "language": "julia",
   "name": "julia-1.0"
  },
  "language_info": {
   "file_extension": ".jl",
   "mimetype": "application/julia",
   "name": "julia",
   "version": "1.0.3"
  }
 },
 "nbformat": 4,
 "nbformat_minor": 2
}
