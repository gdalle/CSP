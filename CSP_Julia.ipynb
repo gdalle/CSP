{
 "cells": [
  {
   "cell_type": "markdown",
   "metadata": {},
   "source": [
    "# Binary CSP solver"
   ]
  },
  {
   "cell_type": "markdown",
   "metadata": {},
   "source": [
    "*Guillaume DALLE*"
   ]
  },
  {
   "cell_type": "markdown",
   "metadata": {},
   "source": [
    "## 1. CSP structure and backtracking"
   ]
  },
  {
   "cell_type": "markdown",
   "metadata": {},
   "source": [
    "### 1.1) CSP object"
   ]
  },
  {
   "cell_type": "code",
   "execution_count": 1,
   "metadata": {
    "ExecuteTime": {
     "end_time": "2019-03-01T10:46:27.425000+01:00",
     "start_time": "2019-03-01T09:46:26.087Z"
    }
   },
   "outputs": [],
   "source": [
    "mutable struct CSP\n",
    "    n_variables::Int64\n",
    "    names::Array{String, 1}\n",
    "    domain_sizes::Array{Int64, 1}\n",
    "    \n",
    "    possible_value::Array{Array{Bool, 1}, 1}\n",
    "    value_scores::Array{Array{Int64, 1}, 1}\n",
    "    value_order::Array{Array{Int64, 1}}\n",
    "        \n",
    "    n_constraints::Int64\n",
    "    constraint_var1::Array{Int64, 1}\n",
    "    constraint_var2::Array{Int64, 1}\n",
    "    constraint_satisfaction::Array{Array{Bool, 2}, 1}\n",
    "    \n",
    "    var1_constraints::Array{Array{Int64, 1}, 1}\n",
    "    var2_constraints::Array{Array{Int64, 1}, 1}\n",
    "    \n",
    "    CSP() = new(\n",
    "        0,\n",
    "        String[],\n",
    "        Int64[],\n",
    "        \n",
    "        Array{Bool, 1}[],\n",
    "        Array{Int64, 1}[],\n",
    "        Array{Int64, 1}[],\n",
    "        \n",
    "        0,\n",
    "        Int64[],\n",
    "        Int64[],\n",
    "        Array{Bool, 1}[],\n",
    "        \n",
    "        Array{Int64, 1}[],\n",
    "        Array{Int64, 1}[],\n",
    "    )\n",
    "end"
   ]
  },
  {
   "cell_type": "markdown",
   "metadata": {},
   "source": [
    "### 1.2) Variables and constraints"
   ]
  },
  {
   "cell_type": "code",
   "execution_count": 2,
   "metadata": {
    "ExecuteTime": {
     "end_time": "2019-03-01T10:46:28.035000+01:00",
     "start_time": "2019-03-01T09:46:26.089Z"
    }
   },
   "outputs": [
    {
     "data": {
      "text/plain": [
       "add_variable! (generic function with 1 method)"
      ]
     },
     "execution_count": 2,
     "metadata": {},
     "output_type": "execute_result"
    }
   ],
   "source": [
    "function add_variable!(csp::CSP, name::String, domain_size::Int64)\n",
    "    csp.n_variables += 1\n",
    "    push!(csp.names, name)\n",
    "    push!(csp.domain_sizes, domain_size)\n",
    "    push!(csp.possible_value, ones(Bool, domain_size))\n",
    "    push!(csp.value_scores, zeros(Int64, domain_size))\n",
    "    push!(csp.value_order, collect(1:domain_size))\n",
    "    \n",
    "    push!(csp.var1_constraints, Int64[])\n",
    "    push!(csp.var2_constraints, Int64[])\n",
    "end"
   ]
  },
  {
   "cell_type": "code",
   "execution_count": 3,
   "metadata": {
    "ExecuteTime": {
     "end_time": "2019-03-01T10:46:28.257000+01:00",
     "start_time": "2019-03-01T09:46:26.091Z"
    }
   },
   "outputs": [
    {
     "data": {
      "text/plain": [
       "add_constraint! (generic function with 1 method)"
      ]
     },
     "execution_count": 3,
     "metadata": {},
     "output_type": "execute_result"
    }
   ],
   "source": [
    "function add_constraint!(csp::CSP, var1::Int64, domain::Array{Int64, 1})\n",
    "    for value1 in 1:csp.domain_sizes[var1]\n",
    "        if !(value1 in domain)\n",
    "            csp.possible_value[var1][value1] = false\n",
    "        end\n",
    "    end    \n",
    "end"
   ]
  },
  {
   "cell_type": "code",
   "execution_count": 4,
   "metadata": {
    "ExecuteTime": {
     "end_time": "2019-03-01T10:46:28.426000+01:00",
     "start_time": "2019-03-01T09:46:26.092Z"
    }
   },
   "outputs": [
    {
     "data": {
      "text/plain": [
       "add_constraint! (generic function with 2 methods)"
      ]
     },
     "execution_count": 4,
     "metadata": {},
     "output_type": "execute_result"
    }
   ],
   "source": [
    "function add_constraint!(csp::CSP, var1::Int64, var2::Int64, compatibility::Function)\n",
    "    csp.n_constraints += 1\n",
    "\n",
    "    m1::Int64 = csp.domain_sizes[var1]\n",
    "    m2::Int64 = csp.domain_sizes[var2]\n",
    "    satisfaction::Array{Bool, 2} = zeros(Bool, m1, m2)\n",
    "    for value1 in 1:m1, value2 in 1:m2\n",
    "        if compatibility(csp, var1, var2, value1, value2)\n",
    "            satisfaction[value1, value2] = true\n",
    "            csp.value_scores[var1][value1] += 1\n",
    "            csp.value_scores[var2][value2] += 1\n",
    "        end\n",
    "    end\n",
    "    \n",
    "    push!(csp.constraint_var1, var1)\n",
    "    push!(csp.constraint_var2, var2)\n",
    "    push!(csp.constraint_satisfaction, satisfaction)\n",
    "    \n",
    "    push!(csp.var1_constraints[var1], csp.n_constraints)\n",
    "    push!(csp.var2_constraints[var2], csp.n_constraints)\n",
    "    \n",
    "end"
   ]
  },
  {
   "cell_type": "markdown",
   "metadata": {},
   "source": [
    "### 1.3) Consistency check"
   ]
  },
  {
   "cell_type": "code",
   "execution_count": 5,
   "metadata": {
    "ExecuteTime": {
     "end_time": "2019-03-01T10:46:28.671000+01:00",
     "start_time": "2019-03-01T09:46:26.094Z"
    }
   },
   "outputs": [
    {
     "data": {
      "text/plain": [
       "check_feasibility (generic function with 1 method)"
      ]
     },
     "execution_count": 5,
     "metadata": {},
     "output_type": "execute_result"
    }
   ],
   "source": [
    "function check_feasibility(csp::CSP, instantiation::Array{Int64, 1}, new_var::Int64)\n",
    "    if new_var == -1\n",
    "        return true\n",
    "    end\n",
    "    for cons in csp.var1_constraints[new_var]\n",
    "        var2::Int64 = csp.constraint_var2[cons]\n",
    "        satisfaction = csp.constraint_satisfaction[cons]\n",
    "        value1 = instantiation[new_var]\n",
    "        value2 = instantiation[var2]\n",
    "        if (value1 !== -1) && (value2 !== -1)\n",
    "            if !satisfaction[value1, value2]\n",
    "                return false\n",
    "            end\n",
    "        end\n",
    "    end\n",
    "    return true\n",
    "end"
   ]
  },
  {
   "cell_type": "markdown",
   "metadata": {},
   "source": [
    "### 1.4) Choice of variable / value"
   ]
  },
  {
   "cell_type": "code",
   "execution_count": 6,
   "metadata": {
    "ExecuteTime": {
     "end_time": "2019-03-01T10:46:28.904000+01:00",
     "start_time": "2019-03-01T09:46:26.096Z"
    }
   },
   "outputs": [
    {
     "data": {
      "text/plain": [
       "choose_next_variable (generic function with 2 methods)"
      ]
     },
     "execution_count": 6,
     "metadata": {},
     "output_type": "execute_result"
    }
   ],
   "source": [
    "function evaluate_variable(csp::CSP, var::Int64, criterion::String)\n",
    "    if criterion == \"domain_size\"\n",
    "        current_domain_size::Int64 = 0\n",
    "        for value in 1:csp.domain_sizes[var]\n",
    "            if csp.possible_value[var][value]\n",
    "                current_domain_size += 1\n",
    "            end\n",
    "        end\n",
    "        return - current_domain_size + rand()\n",
    "    elseif criterion == \"constraints\"\n",
    "        return length(csp.var1_constraints[var]) + rand()\n",
    "    end\n",
    "end\n",
    "\n",
    "function choose_next_variable(csp::CSP, instantiation::Array{Int64, 1}, criterion=\"domain_size\")\n",
    "    best_var::Int64 = -1\n",
    "    best_eval::Float64 = -Inf\n",
    "        \n",
    "    for var in 1:csp.n_variables\n",
    "        if instantiation[var] != -1\n",
    "            continue\n",
    "        else\n",
    "            eval = evaluate_variable(csp, var, criterion)\n",
    "            if eval > best_eval\n",
    "                best_var = var\n",
    "                best_eval = eval\n",
    "            end\n",
    "        end\n",
    "    end\n",
    "    return best_var\n",
    "end"
   ]
  },
  {
   "cell_type": "code",
   "execution_count": 7,
   "metadata": {
    "ExecuteTime": {
     "end_time": "2019-03-01T10:46:29.131000+01:00",
     "start_time": "2019-03-01T09:46:26.098Z"
    },
    "scrolled": true
   },
   "outputs": [
    {
     "data": {
      "text/plain": [
       "sort_values (generic function with 1 method)"
      ]
     },
     "execution_count": 7,
     "metadata": {},
     "output_type": "execute_result"
    }
   ],
   "source": [
    "function sort_values(csp::CSP)\n",
    "    for var in 1:csp.n_variables\n",
    "        value_sorting_criterion(value::Int64) = csp.value_scores[var][value]\n",
    "        csp.value_order[var] = sort(csp.value_order[var], by=value_sorting_criterion)\n",
    "    end\n",
    "end"
   ]
  },
  {
   "cell_type": "markdown",
   "metadata": {},
   "source": [
    "### 1.4) Look-ahead"
   ]
  },
  {
   "cell_type": "code",
   "execution_count": 8,
   "metadata": {
    "ExecuteTime": {
     "end_time": "2019-03-01T10:46:29.360000+01:00",
     "start_time": "2019-03-01T09:46:26.100Z"
    }
   },
   "outputs": [
    {
     "data": {
      "text/plain": [
       "undo_look_ahead! (generic function with 1 method)"
      ]
     },
     "execution_count": 8,
     "metadata": {},
     "output_type": "execute_result"
    }
   ],
   "source": [
    "function do_look_ahead!(\n",
    "        csp::CSP, instantiation::Array{Int64, 1}, new_var::Int64,\n",
    "        look_ahead_method::String)\n",
    "    if look_ahead_method == \"FC\"\n",
    "        to_discard = forward_checking(csp, instantiation, new_var)\n",
    "    elseif look_ahead_method == \"MAC3\"\n",
    "        to_discard = AC3(csp, instantiation, new_var)\n",
    "    else\n",
    "        to_discard = Tuple{Int64, Int64}[]\n",
    "    end\n",
    "    for (var, value) in to_discard\n",
    "        csp.possible_value[var][value] = false\n",
    "    end\n",
    "    return to_discard\n",
    "end\n",
    "\n",
    "function undo_look_ahead!(csp::CSP, discarded::Array{Tuple{Int64, Int64}, 1})\n",
    "    for (var, value) in discarded\n",
    "        csp.possible_value[var][value] = true\n",
    "    end\n",
    "end"
   ]
  },
  {
   "cell_type": "code",
   "execution_count": 9,
   "metadata": {
    "ExecuteTime": {
     "end_time": "2019-03-01T10:46:29.591000+01:00",
     "start_time": "2019-03-01T09:46:26.102Z"
    }
   },
   "outputs": [
    {
     "data": {
      "text/plain": [
       "forward_checking (generic function with 1 method)"
      ]
     },
     "execution_count": 9,
     "metadata": {},
     "output_type": "execute_result"
    }
   ],
   "source": [
    "function forward_checking(csp::CSP, instantiation::Array{Int64, 1}, x::Int64)\n",
    "    to_discard::Array{Tuple{Int64, Int64}, 1} = Tuple{Int64, Int64}[]\n",
    "    \n",
    "    a::Int64 = instantiation[x]\n",
    "    for aa in 1:csp.domain_sizes[x]\n",
    "        if (aa != a) && csp.possible_value[x][aa]\n",
    "            push!(to_discard, (x, aa))\n",
    "        end\n",
    "    end\n",
    "    \n",
    "    for cons in csp.var1_constraints[x]\n",
    "        y = csp.constraint_var2[cons]\n",
    "        if instantiation[y] != -1\n",
    "            continue\n",
    "        end\n",
    "        \n",
    "        for b in 1:csp.domain_sizes[y]\n",
    "            if (!csp.constraint_satisfaction[cons][a, b]) && csp.possible_value[y][b]\n",
    "                push!(to_discard, (y, b))\n",
    "            end\n",
    "        end\n",
    "    end\n",
    "    \n",
    "    return to_discard\n",
    "end"
   ]
  },
  {
   "cell_type": "code",
   "execution_count": 10,
   "metadata": {
    "ExecuteTime": {
     "end_time": "2019-03-01T10:46:29.826000+01:00",
     "start_time": "2019-03-01T09:46:26.104Z"
    }
   },
   "outputs": [
    {
     "data": {
      "text/plain": [
       "AC3 (generic function with 1 method)"
      ]
     },
     "execution_count": 10,
     "metadata": {},
     "output_type": "execute_result"
    }
   ],
   "source": [
    "function AC3(csp::CSP, instantiation::Array{Int64, 1}, new_var::Int64)\n",
    "    to_discard::Array{Tuple{Int64, Int64}, 1} = Tuple{Int64, Int64}[]\n",
    "    \n",
    "    for other_value in 1:csp.domain_sizes[new_var]\n",
    "        if (other_value != instantiation[new_var]) && csp.possible_value[new_var][other_value]\n",
    "            push!(to_discard, (new_var, other_value))\n",
    "        end\n",
    "    end\n",
    "    \n",
    "    to_test = Set{Int64}()\n",
    "    for cons in 1:csp.n_constraints\n",
    "        push!(to_test, cons)\n",
    "    end\n",
    "    \n",
    "    while !isempty(to_test)\n",
    "        cons = pop!(to_test)\n",
    "        x = csp.constraint_var1[cons]\n",
    "        y = csp.constraint_var2[cons]\n",
    "        for a in 1:csp.domain_sizes[x]\n",
    "            \n",
    "            if !csp.possible_value[x][a]\n",
    "                continue\n",
    "            end\n",
    "            \n",
    "            supported::Bool = false\n",
    "            for b in 1:csp.domain_sizes[y]\n",
    "                if !csp.possible_value[y][b]\n",
    "                    continue\n",
    "                end\n",
    "                if csp.constraint_satisfaction[cons][a, b]\n",
    "                    supported = true\n",
    "                    break\n",
    "                end\n",
    "            end\n",
    "            \n",
    "            if !supported\n",
    "                push!(to_discard, (x, a))\n",
    "                csp.possible_value[x][a] = false\n",
    "                for cons_impacted in csp.var2_constraints[x]\n",
    "                    if csp.constraint_var1[cons] != y\n",
    "                        push!(to_test, cons_impacted)\n",
    "                    end\n",
    "                end\n",
    "            end\n",
    "        end\n",
    "    end\n",
    "    \n",
    "    return to_discard\n",
    "end"
   ]
  },
  {
   "cell_type": "code",
   "execution_count": 11,
   "metadata": {
    "ExecuteTime": {
     "end_time": "2019-03-01T10:46:30.077000+01:00",
     "start_time": "2019-03-01T09:46:26.106Z"
    }
   },
   "outputs": [
    {
     "data": {
      "text/plain": [
       "AC4 (generic function with 1 method)"
      ]
     },
     "execution_count": 11,
     "metadata": {},
     "output_type": "execute_result"
    }
   ],
   "source": [
    "function initAC4(csp::CSP)\n",
    "    Q::Set{Tuple{Int64, Int64}} = Set()\n",
    "    S::Dict{Tuple{Int64, Int64}, Set{Tuple{Int64, Int64}}} = Dict()   \n",
    "    count::Dict{Tuple{Int64, Int64, Int64}, Int64} = Dict()\n",
    "    \n",
    "    for cons in 1:csp.n_constraints\n",
    "        x::Int64 = csp.constraint_var1[cons]\n",
    "        y::Int64 = csp.constraint_var2[cons]\n",
    "        total::Int64 = 0\n",
    "        \n",
    "        for a in 1:csp.domain_sizes[x]\n",
    "            if !csp.possible_value[x][a]\n",
    "                continue\n",
    "            end\n",
    "            \n",
    "            for b in 1:csp.domain_sizes[y]\n",
    "                if !csp.possible_value[y][b]\n",
    "                    continue\n",
    "                end\n",
    "                \n",
    "                if csp.constraint_satisfaction[cons][a, b]\n",
    "                    total += 1\n",
    "                    if (y, b) in keys(S)\n",
    "                        push!(S[(y, b)], (x, a))\n",
    "                    else\n",
    "                        S[(y, b)] = Set([(x, a)])\n",
    "                    end\n",
    "                end\n",
    "            end\n",
    "            count[(x, y, a)] = total\n",
    "            if count[(x, y, a)] == 0\n",
    "                csp.possible_value[x][a] = false\n",
    "                push!(Q, (x, a))\n",
    "            end\n",
    "        end\n",
    "    end\n",
    "    return Q, S, count\n",
    "end\n",
    "\n",
    "function AC4(csp::CSP)\n",
    "    return 0\n",
    "end"
   ]
  },
  {
   "cell_type": "markdown",
   "metadata": {},
   "source": [
    "### 1.5) Backtracking"
   ]
  },
  {
   "cell_type": "code",
   "execution_count": 12,
   "metadata": {
    "ExecuteTime": {
     "end_time": "2019-03-01T10:46:30.309000+01:00",
     "start_time": "2019-03-01T09:46:26.108Z"
    }
   },
   "outputs": [
    {
     "data": {
      "text/plain": [
       "backtrack! (generic function with 1 method)"
      ]
     },
     "execution_count": 12,
     "metadata": {},
     "output_type": "execute_result"
    }
   ],
   "source": [
    "function backtrack!(\n",
    "        csp::CSP,\n",
    "        instantiation::Array{Int64, 1},\n",
    "        new_var::Int64,\n",
    "        nodes_explored::Int64,\n",
    "        look_ahead_method::String\n",
    "    )\n",
    "    if !check_feasibility(csp, instantiation, new_var)\n",
    "        return (false, instantiation, nodes_explored)\n",
    "    end\n",
    "    \n",
    "    new_var = choose_next_variable(csp, instantiation)\n",
    "    if new_var == -1\n",
    "        return true, instantiation, nodes_explored\n",
    "    end\n",
    "        \n",
    "    for new_value in csp.value_order[new_var]\n",
    "                \n",
    "        if !csp.possible_value[new_var][new_value]\n",
    "            continue\n",
    "        end\n",
    "\n",
    "        nodes_explored += 1\n",
    "        instantiation[new_var] = new_value\n",
    "        discarded = do_look_ahead!(csp, instantiation, new_var, look_ahead_method)\n",
    "                \n",
    "        (solution_found, solution, nodes_explored) = backtrack!(\n",
    "            csp, instantiation, new_var, nodes_explored, look_ahead_method)\n",
    "        if solution_found\n",
    "            return (true, solution, nodes_explored)\n",
    "        end\n",
    "        \n",
    "        instantiation[new_var] = -1\n",
    "        undo_look_ahead!(csp, discarded)\n",
    "\n",
    "    end\n",
    "    \n",
    "    return false, instantiation, nodes_explored\n",
    "end"
   ]
  },
  {
   "cell_type": "code",
   "execution_count": 13,
   "metadata": {
    "ExecuteTime": {
     "end_time": "2019-03-01T10:46:30.472000+01:00",
     "start_time": "2019-03-01T09:46:26.110Z"
    }
   },
   "outputs": [
    {
     "data": {
      "text/plain": [
       "backtrack! (generic function with 3 methods)"
      ]
     },
     "execution_count": 13,
     "metadata": {},
     "output_type": "execute_result"
    }
   ],
   "source": [
    "function backtrack!(csp::CSP, look_ahead_method::String)\n",
    "    return backtrack!(\n",
    "        csp, -ones(Int64, csp.n_variables), -1, 0, look_ahead_method)\n",
    "end\n",
    "\n",
    "function backtrack!(csp::CSP)\n",
    "    return backtrack!(\n",
    "        csp, -ones(Int64, csp.n_variables), -1, 0, \"FC\")\n",
    "end"
   ]
  },
  {
   "cell_type": "code",
   "execution_count": 14,
   "metadata": {
    "ExecuteTime": {
     "end_time": "2019-03-01T10:46:30.704000+01:00",
     "start_time": "2019-03-01T09:46:26.111Z"
    }
   },
   "outputs": [
    {
     "data": {
      "text/plain": [
       "solve (generic function with 1 method)"
      ]
     },
     "execution_count": 14,
     "metadata": {},
     "output_type": "execute_result"
    }
   ],
   "source": [
    "function solve(csp::CSP)\n",
    "    (status, instantiation, nodes_explored) = backtrack!(csp)\n",
    "    if !status\n",
    "        println(\"\\nStatus: unfeasible\")\n",
    "    else\n",
    "        println(\"\\nStatus: solved\")\n",
    "        println(\"\\nNodes explored: \", nodes_explored)\n",
    "        println(\"\\nSolution: \")\n",
    "        for var in 1:csp.n_variables\n",
    "            println(csp.names[var], \": \", instantiation[var])\n",
    "        end\n",
    "    end\n",
    "    println()\n",
    "    instantiation_dict::Dict{String, Int64} = Dict(\n",
    "        csp.names[var] => instantiation[var] for var in 1:csp.n_variables)\n",
    "    return instantiation_dict\n",
    "end"
   ]
  },
  {
   "cell_type": "markdown",
   "metadata": {},
   "source": [
    "## 2. Applications"
   ]
  },
  {
   "cell_type": "markdown",
   "metadata": {},
   "source": [
    "### 2.1) N-queens problem"
   ]
  },
  {
   "cell_type": "code",
   "execution_count": 15,
   "metadata": {
    "ExecuteTime": {
     "end_time": "2019-03-01T10:46:30.952000+01:00",
     "start_time": "2019-03-01T09:46:26.112Z"
    }
   },
   "outputs": [
    {
     "data": {
      "text/plain": [
       "visualize_nqueens (generic function with 1 method)"
      ]
     },
     "execution_count": 15,
     "metadata": {},
     "output_type": "execute_result"
    }
   ],
   "source": [
    "function compatibility_nqueens(csp::CSP, var1::Int64, var2::Int64, value1::Int64, value2::Int64)\n",
    "    # Exclude same row, same diagonal, same antidiagonal\n",
    "    if (value1 == value2) || abs(value1 - value2) == abs(var1 - var2)\n",
    "        return false\n",
    "    else\n",
    "        return true\n",
    "    end\n",
    "end\n",
    "\n",
    "function symmetry_redundent_nqueens(csp::CSP, var1::Int64, var2::Int64, value1::Int64, value2::Int64)\n",
    "    # Horizontal symmetry\n",
    "    if (var1 == 1) && (var2 == 2)\n",
    "        if value1 < value2\n",
    "            return true\n",
    "        end\n",
    "    end\n",
    "    return false\n",
    "end\n",
    "\n",
    "function define_nqueens(n::Int64)\n",
    "    csp = CSP()\n",
    "    for i in 1:n\n",
    "        name = \"row_\" * string(i)\n",
    "        domain_size = n\n",
    "        add_variable!(csp, name, domain_size)\n",
    "    end\n",
    "    for i in 1:n, j in 1:n\n",
    "        if (i != j)\n",
    "            add_constraint!(csp, i, j, compatibility_nqueens)\n",
    "        end\n",
    "    end\n",
    "    return csp\n",
    "end\n",
    "\n",
    "function visualize_nqueens(instantiation_dict::Dict{String, Int64})\n",
    "    n::Int64 = length(instantiation_dict)\n",
    "    for j in 1:n\n",
    "        println()\n",
    "        for i in 1:n\n",
    "            if instantiation_dict[\"row_\" * string(j)] == i\n",
    "                print(\" Q\")\n",
    "            else\n",
    "                print(\" .\")\n",
    "            end\n",
    "        end\n",
    "    end\n",
    "end   "
   ]
  },
  {
   "cell_type": "code",
   "execution_count": 16,
   "metadata": {
    "ExecuteTime": {
     "end_time": "2019-03-01T10:46:31.778000+01:00",
     "start_time": "2019-03-01T09:46:26.114Z"
    }
   },
   "outputs": [
    {
     "name": "stdout",
     "output_type": "stream",
     "text": [
      "  0.589915 seconds (226.31 k allocations: 108.185 MiB, 13.59% gc time)\n"
     ]
    }
   ],
   "source": [
    "@time big_nqueens = define_nqueens(100);"
   ]
  },
  {
   "cell_type": "code",
   "execution_count": 17,
   "metadata": {
    "ExecuteTime": {
     "end_time": "2019-03-01T10:46:32.990000+01:00",
     "start_time": "2019-03-01T09:46:26.116Z"
    }
   },
   "outputs": [
    {
     "name": "stdout",
     "output_type": "stream",
     "text": [
      "  0.241354 seconds (411.95 k allocations: 20.600 MiB)\n"
     ]
    },
    {
     "data": {
      "text/plain": [
       "(true, [62, 16, 9, 54, 15, 47, 64, 67, 20, 17  …  45, 40, 32, 3, 31, 84, 72, 94, 98, 91], 113)"
      ]
     },
     "execution_count": 17,
     "metadata": {},
     "output_type": "execute_result"
    }
   ],
   "source": [
    "@time b, i, n = backtrack!(big_nqueens)"
   ]
  },
  {
   "cell_type": "code",
   "execution_count": 18,
   "metadata": {
    "ExecuteTime": {
     "end_time": "2019-03-01T10:46:33.179000+01:00",
     "start_time": "2019-03-01T09:46:26.118Z"
    }
   },
   "outputs": [
    {
     "name": "stdout",
     "output_type": "stream",
     "text": [
      "\n",
      "Status: solved\n",
      "\n",
      "Nodes explored: 19\n",
      "\n",
      "Solution: \n",
      "row_1: 2\n",
      "row_2: 5\n",
      "row_3: 8\n",
      "row_4: 4\n",
      "row_5: 7\n",
      "row_6: 10\n",
      "row_7: 3\n",
      "row_8: 1\n",
      "row_9: 6\n",
      "row_10: 9\n",
      "\n",
      "\n",
      " . Q . . . . . . . .\n",
      " . . . . Q . . . . .\n",
      " . . . . . . . Q . .\n",
      " . . . Q . . . . . .\n",
      " . . . . . . Q . . .\n",
      " . . . . . . . . . Q\n",
      " . . Q . . . . . . .\n",
      " Q . . . . . . . . .\n",
      " . . . . . Q . . . .\n",
      " . . . . . . . . Q ."
     ]
    }
   ],
   "source": [
    "nqueens_small = define_nqueens(10);\n",
    "instantiation_dict = solve(nqueens_small)\n",
    "visualize_nqueens(instantiation_dict)"
   ]
  },
  {
   "cell_type": "markdown",
   "metadata": {},
   "source": [
    "### 2.2) Knight's tour"
   ]
  },
  {
   "cell_type": "code",
   "execution_count": 19,
   "metadata": {
    "ExecuteTime": {
     "end_time": "2019-03-01T10:46:33.296000+01:00",
     "start_time": "2019-03-01T09:46:26.120Z"
    }
   },
   "outputs": [
    {
     "data": {
      "text/plain": [
       "square_from_coord (generic function with 1 method)"
      ]
     },
     "execution_count": 19,
     "metadata": {},
     "output_type": "execute_result"
    }
   ],
   "source": [
    "function coord_from_square(square::Int64, board_size::Int64)\n",
    "    row = div(square - 1, board_size) + 1\n",
    "    col = rem(square - 1, board_size) + 1\n",
    "    return (row, col)\n",
    "end\n",
    "\n",
    "function square_from_coord(row::Int64, col::Int64, board_size::Int64)\n",
    "    square = (row-1) * board_size + col\n",
    "    return square\n",
    "end"
   ]
  },
  {
   "cell_type": "code",
   "execution_count": 20,
   "metadata": {
    "ExecuteTime": {
     "end_time": "2019-03-01T10:46:33.424000+01:00",
     "start_time": "2019-03-01T09:46:26.121Z"
    }
   },
   "outputs": [
    {
     "data": {
      "text/plain": [
       "piece_move (generic function with 1 method)"
      ]
     },
     "execution_count": 20,
     "metadata": {},
     "output_type": "execute_result"
    }
   ],
   "source": [
    "function rook_move(square1::Int64, square2::Int64, n::Int64)\n",
    "    row1, col1 = coord_from_square(square1, n)\n",
    "    row2, col2 = coord_from_square(square2, n)\n",
    "    return (square1 != square2) && ((row1 == row2) || (col1 == col2))\n",
    "end\n",
    "\n",
    "function bishop_move(square1::Int64, square2::Int64, n::Int64)\n",
    "    row1, col1 = coord_from_square(square1, n)\n",
    "    row2, col2 = coord_from_square(square2, n)\n",
    "    return (square1 != square2) && (abs(row1 - row2) == abs(col1 - col2))\n",
    "end\n",
    "\n",
    "function knight_move(square1::Int64, square2::Int64, n::Int64)\n",
    "    row1, col1 = coord_from_square(square1, n)\n",
    "    row2, col2 = coord_from_square(square2, n)\n",
    "    return (\n",
    "        (abs(row1 - row2) == 1 && abs(col1 - col2) == 2) ||\n",
    "        (abs(row1 - row2) == 2 && abs(col1 - col2) == 1)\n",
    "    )\n",
    "end\n",
    "\n",
    "function queen_move(square1::Int64, square2::Int64, n::Int64)\n",
    "    return rook_move(square1, square2, n) || bishop_move(square1, square2, n)\n",
    "end\n",
    "\n",
    "function king_move(square1::Int64, square2::Int64, n::Int64)\n",
    "    row1, col1 = coord_from_square(square1, n)\n",
    "    row2, col2 = coord_from_square(square2, n)\n",
    "    return (square1 != square2) && (max(abs(row1 - row2), abs(col1 - col2)) == 1)\n",
    "end\n",
    "\n",
    "function piece_move(square1::Int64, square2::Int64, n::Int64, piece::String)\n",
    "    if piece == \"knight\"\n",
    "        return knight_move(square1, square2, n)\n",
    "    elseif piece == \"bishop\"\n",
    "        return bishop_move(square1, square2, n)\n",
    "    elseif piece == \"rook\"\n",
    "        return rook_move(square1, square2, n)\n",
    "    elseif piece == \"queen\"\n",
    "        return queen_move(square1, square2, n)\n",
    "    elseif piece == \"king\"\n",
    "        return king_move(square1, square2, n)\n",
    "    end\n",
    "end"
   ]
  },
  {
   "cell_type": "code",
   "execution_count": 21,
   "metadata": {
    "ExecuteTime": {
     "end_time": "2019-03-01T10:46:33.548000+01:00",
     "start_time": "2019-03-01T09:46:26.123Z"
    }
   },
   "outputs": [
    {
     "data": {
      "text/plain": [
       "visualize_tour (generic function with 1 method)"
      ]
     },
     "execution_count": 21,
     "metadata": {},
     "output_type": "execute_result"
    }
   ],
   "source": [
    "function compatibility_tour(\n",
    "        csp::CSP,\n",
    "        var1::Int64, var2::Int64,\n",
    "        value1::Int64, value2::Int64,\n",
    "        n::Int64, piece::String\n",
    "    )\n",
    "    if abs(var1 - var2) > 1\n",
    "        return value1 != value2\n",
    "    else\n",
    "        return piece_move(value1, value2, n, piece)\n",
    "    end\n",
    "end\n",
    "\n",
    "function define_tour(n::Int64, piece::String)\n",
    "    csp = CSP()\n",
    "    if piece == \"bishop\"\n",
    "        n_pieces = div(n^2, 2)\n",
    "    else\n",
    "        n_pieces = n^2\n",
    "    end\n",
    "    for i in 1:n_pieces\n",
    "        name = \"position_\" * string(i)\n",
    "        domain_size = n^2\n",
    "        add_variable!(csp, name, domain_size)\n",
    "    end\n",
    "    for i in 1:n_pieces, j in 1:n_pieces\n",
    "        if (i != j)\n",
    "            compatibility_tour_piece(a, b, c, d, e) = compatibility_tour(a, b, c, d, e, n, piece)\n",
    "            add_constraint!(csp, i, j, compatibility_tour_piece)\n",
    "        end\n",
    "    end\n",
    "    return csp\n",
    "end\n",
    "\n",
    "function visualize_tour(instantiation_dict::Dict{String, Int64}, n::Int64)\n",
    "    for x in 1:n\n",
    "        println()\n",
    "        for y in 1:n\n",
    "            rank::Int64 = 0\n",
    "            for var in 1:length(instantiation_dict)\n",
    "                if instantiation_dict[\"position_\" * string(var)] == square_from_coord(x, y, n)\n",
    "                    rank = var\n",
    "                    break\n",
    "                end\n",
    "            end\n",
    "            print(string(rank) * \" \"^(3 - length(string(rank))))\n",
    "        end\n",
    "    end\n",
    "end "
   ]
  },
  {
   "cell_type": "code",
   "execution_count": 22,
   "metadata": {
    "ExecuteTime": {
     "end_time": "2019-03-01T10:46:33.668000+01:00",
     "start_time": "2019-03-01T09:46:26.125Z"
    }
   },
   "outputs": [
    {
     "name": "stdout",
     "output_type": "stream",
     "text": [
      "\n",
      "Status: solved\n",
      "\n",
      "Nodes explored: 36\n",
      "\n",
      "Solution: \n",
      "position_1: 36\n",
      "position_2: 30\n",
      "position_3: 35\n",
      "position_4: 34\n",
      "position_5: 33\n",
      "position_6: 32\n",
      "position_7: 31\n",
      "position_8: 25\n",
      "position_9: 26\n",
      "position_10: 27\n",
      "position_11: 28\n",
      "position_12: 29\n",
      "position_13: 24\n",
      "position_14: 18\n",
      "position_15: 23\n",
      "position_16: 22\n",
      "position_17: 21\n",
      "position_18: 20\n",
      "position_19: 19\n",
      "position_20: 13\n",
      "position_21: 14\n",
      "position_22: 15\n",
      "position_23: 16\n",
      "position_24: 17\n",
      "position_25: 12\n",
      "position_26: 11\n",
      "position_27: 6\n",
      "position_28: 5\n",
      "position_29: 4\n",
      "position_30: 3\n",
      "position_31: 2\n",
      "position_32: 1\n",
      "position_33: 7\n",
      "position_34: 8\n",
      "position_35: 9\n",
      "position_36: 10\n",
      "\n",
      "\n",
      "32 31 30 29 28 27 \n",
      "33 34 35 36 26 25 \n",
      "20 21 22 23 24 14 \n",
      "19 18 17 16 15 13 \n",
      "8  9  10 11 12 2  \n",
      "7  6  5  4  3  1  "
     ]
    }
   ],
   "source": [
    "tour = define_tour(6, \"king\")\n",
    "instantiation_dict = solve(tour)\n",
    "visualize_tour(instantiation_dict, 6)"
   ]
  },
  {
   "cell_type": "markdown",
   "metadata": {},
   "source": [
    "### 2.3) Graph coloring"
   ]
  },
  {
   "cell_type": "code",
   "execution_count": 23,
   "metadata": {
    "ExecuteTime": {
     "end_time": "2019-03-01T10:46:47.797000+01:00",
     "start_time": "2019-03-01T09:46:26.126Z"
    }
   },
   "outputs": [
    {
     "name": "stderr",
     "output_type": "stream",
     "text": [
      "┌ Info: Recompiling stale cache file /Users/guillaume/.julia/compiled/v1.0/LightGraphs/Xm08G.ji for LightGraphs [093fc24a-ae57-5d10-9952-331d41423f4d]\n",
      "└ @ Base loading.jl:1190\n"
     ]
    },
    {
     "data": {
      "text/plain": [
       "find_maxclique (generic function with 1 method)"
      ]
     },
     "execution_count": 23,
     "metadata": {},
     "output_type": "execute_result"
    }
   ],
   "source": [
    "function generate_combinations(n::Int64, k::Int64)\n",
    "    if k==1\n",
    "        combs = Set([[i] for i in 1:n])\n",
    "    else\n",
    "        combs::Set{Array{Int64, 1}} = Set()\n",
    "        for c in generate_combinations(n, k-1)\n",
    "            for i in 1:n\n",
    "                if !(i in c)\n",
    "                    new_c = copy(c)\n",
    "                    push!(new_c, i)\n",
    "                    push!(combs, sort(new_c))\n",
    "                end\n",
    "            end\n",
    "        end\n",
    "        return combs\n",
    "    end\n",
    "end\n",
    "\n",
    "function check_clique(adj, c)\n",
    "    for u in c, v in c\n",
    "        if (u != v) && adj[u, v] == 0\n",
    "            return false\n",
    "        end\n",
    "    end\n",
    "    return true\n",
    "end\n",
    "\n",
    "function find_kclique(n_vertices, edges, k)\n",
    "    adj = zeros(Bool, n_vertices, n_vertices)\n",
    "    for (u, v) in edges\n",
    "        adj[u, v] = true\n",
    "        adj[v, u] = 1\n",
    "    end\n",
    "    for c in generate_combinations(n_vertices, k)\n",
    "       if check_clique(adj, c)\n",
    "            return c\n",
    "        end\n",
    "    end\n",
    "    return 0\n",
    "end\n",
    "\n",
    "import LightGraphs\n",
    "\n",
    "function find_maxclique(n_vertices, edges)\n",
    "    g = LightGraphs.SimpleGraph(n_vertices)\n",
    "    for (u, v) in edges\n",
    "        LightGraphs.add_edge!(g, u, v)\n",
    "    end\n",
    "    k = 0\n",
    "    maxclique = []\n",
    "    for c in LightGraphs.maximal_cliques(g)\n",
    "        if length(c) >= k\n",
    "            k = length(c)\n",
    "            maxclique = c\n",
    "        end\n",
    "    end\n",
    "    return maxclique\n",
    "end"
   ]
  },
  {
   "cell_type": "code",
   "execution_count": 24,
   "metadata": {
    "ExecuteTime": {
     "end_time": "2019-03-01T10:46:48.725000+01:00",
     "start_time": "2019-03-01T09:46:26.128Z"
    }
   },
   "outputs": [
    {
     "data": {
      "text/plain": [
       "read_graph (generic function with 1 method)"
      ]
     },
     "execution_count": 24,
     "metadata": {},
     "output_type": "execute_result"
    }
   ],
   "source": [
    "function read_graph(path::String)\n",
    "    n_vertices = 0\n",
    "    edges = Array{Tuple{Int64, Int64}, 1}()\n",
    "    open(path) do file\n",
    "        for line in eachline(file)\n",
    "            split_line = split(line)\n",
    "            if line[1] == 'p'\n",
    "                n_vertices = parse(Int64, split_line[3])\n",
    "            elseif line[1] == 'e'\n",
    "                u = parse(Int64, split_line[2])\n",
    "                v = parse(Int64, split_line[3])\n",
    "                push!(edges, (u, v))\n",
    "            end\n",
    "        end\n",
    "    end\n",
    "    return n_vertices, edges\n",
    "end"
   ]
  },
  {
   "cell_type": "code",
   "execution_count": 25,
   "metadata": {
    "ExecuteTime": {
     "end_time": "2019-03-01T10:46:48.951000+01:00",
     "start_time": "2019-03-01T09:46:26.130Z"
    }
   },
   "outputs": [
    {
     "data": {
      "text/plain": [
       "define_coloring (generic function with 1 method)"
      ]
     },
     "execution_count": 25,
     "metadata": {},
     "output_type": "execute_result"
    }
   ],
   "source": [
    "function compatibility_coloring(csp::CSP, var1::Int64, var2::Int64, value1::Int64, value2::Int64)\n",
    "    return value1 != value2\n",
    "end\n",
    "\n",
    "function define_coloring(n_vertices::Int64, edges::Array{Tuple{Int64, Int64}, 1}, n_colors::Int64)\n",
    "    csp = CSP()\n",
    "    for u in 1:n_vertices\n",
    "        name = \"color_\" * string(u)\n",
    "        domain_size = n_colors\n",
    "        add_variable!(csp, name, domain_size)\n",
    "    end\n",
    "    for (u, v) in edges\n",
    "        add_constraint!(csp, u, v, compatibility_coloring)\n",
    "        add_constraint!(csp, v, u, compatibility_coloring)\n",
    "    end\n",
    "    # Symmetry constraints\n",
    "    maxclique = find_maxclique(n_vertices, edges)\n",
    "    if length(maxclique) > n_colors\n",
    "        maxclique = maxclique[1:n_colors]\n",
    "    end\n",
    "    print(\"Max clique size \", length(maxclique))\n",
    "    for (i, u) in enumerate(maxclique)\n",
    "        add_constraint!(csp, u, [i])\n",
    "    end\n",
    "    \n",
    "    sort_values(csp)\n",
    "    return csp\n",
    "end"
   ]
  },
  {
   "cell_type": "code",
   "execution_count": 26,
   "metadata": {
    "ExecuteTime": {
     "end_time": "2019-03-01T10:46:49.731000+01:00",
     "start_time": "2019-03-01T09:46:26.131Z"
    }
   },
   "outputs": [
    {
     "name": "stdout",
     "output_type": "stream",
     "text": [
      "Max clique size 9"
     ]
    }
   ],
   "source": [
    "n_vertices, edges = read_graph(\"graphs/jean.col\")\n",
    "n_colors = 9\n",
    "coloring = define_coloring(n_vertices, edges, n_colors);"
   ]
  },
  {
   "cell_type": "code",
   "execution_count": 27,
   "metadata": {
    "ExecuteTime": {
     "end_time": "2019-03-01T10:46:49.850000+01:00",
     "start_time": "2019-03-01T09:46:26.133Z"
    }
   },
   "outputs": [
    {
     "name": "stdout",
     "output_type": "stream",
     "text": [
      "  0.004911 seconds (2.21 k allocations: 123.631 KiB)\n"
     ]
    },
    {
     "data": {
      "text/plain": [
       "(false, [-1, -1, -1, -1, -1, -1, -1, -1, -1, -1  …  -1, -1, -1, -1, -1, -1, -1, -1, -1, -1], 9)"
      ]
     },
     "execution_count": 27,
     "metadata": {},
     "output_type": "execute_result"
    }
   ],
   "source": [
    "@time backtrack!(coloring, \"FC\")"
   ]
  }
 ],
 "metadata": {
  "kernelspec": {
   "display_name": "Julia 1.0.3",
   "language": "julia",
   "name": "julia-1.0"
  },
  "language_info": {
   "file_extension": ".jl",
   "mimetype": "application/julia",
   "name": "julia",
   "version": "1.0.3"
  }
 },
 "nbformat": 4,
 "nbformat_minor": 2
}
