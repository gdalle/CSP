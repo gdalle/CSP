{
 "cells": [
  {
   "cell_type": "code",
   "execution_count": 1,
   "metadata": {
    "ExecuteTime": {
     "end_time": "2019-01-28T13:59:15.232000+01:00",
     "start_time": "2019-01-28T12:59:13.959Z"
    }
   },
   "outputs": [],
   "source": [
    "mutable struct Constraint\n",
    "    var1::Int64\n",
    "    var2::Int64\n",
    "    tuples::Set{Tuple{Int64, Int64}}\n",
    "end"
   ]
  },
  {
   "cell_type": "code",
   "execution_count": 2,
   "metadata": {
    "ExecuteTime": {
     "end_time": "2019-01-28T13:59:15.830000+01:00",
     "start_time": "2019-01-28T12:59:15.766Z"
    }
   },
   "outputs": [],
   "source": [
    "mutable struct CSP\n",
    "    variables::Array{Int64}\n",
    "    constraints::Array{Array{Int64}}\n",
    "end"
   ]
  },
  {
   "cell_type": "code",
   "execution_count": 5,
   "metadata": {
    "ExecuteTime": {
     "end_time": "2019-01-28T13:59:21.845000+01:00",
     "start_time": "2019-01-28T12:59:21.304Z"
    }
   },
   "outputs": [
    {
     "data": {
      "text/plain": [
       "Constraint(1, 2, Set(Tuple{Int64,Int64}[(8, 2), (3, 7)]))"
      ]
     },
     "execution_count": 5,
     "metadata": {},
     "output_type": "execute_result"
    }
   ],
   "source": [
    "cons = Constraint(1, 2, Set([(3, 7), (8, 2)]))"
   ]
  },
  {
   "cell_type": "code",
   "execution_count": null,
   "metadata": {},
   "outputs": [],
   "source": []
  }
 ],
 "metadata": {
  "kernelspec": {
   "display_name": "Julia 1.0.3",
   "language": "julia",
   "name": "julia-1.0"
  },
  "language_info": {
   "file_extension": ".jl",
   "mimetype": "application/julia",
   "name": "julia",
   "version": "1.0.3"
  }
 },
 "nbformat": 4,
 "nbformat_minor": 2
}
