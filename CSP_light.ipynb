{
 "cells": [
  {
   "cell_type": "markdown",
   "metadata": {},
   "source": [
    "# Binary CSP solver"
   ]
  },
  {
   "cell_type": "markdown",
   "metadata": {},
   "source": [
    "*Guillaume DALLE*"
   ]
  },
  {
   "cell_type": "markdown",
   "metadata": {},
   "source": [
    "## 1. CSP structure and backtracking"
   ]
  },
  {
   "cell_type": "markdown",
   "metadata": {},
   "source": [
    "### 1.1) CSP object"
   ]
  },
  {
   "cell_type": "code",
   "execution_count": 1,
   "metadata": {
    "ExecuteTime": {
     "end_time": "2019-03-16T14:40:36.467000+01:00",
     "start_time": "2019-03-16T13:40:35.089Z"
    }
   },
   "outputs": [],
   "source": [
    "mutable struct CSP\n",
    "    n_variables::Int64\n",
    "    names::Array{String, 1}\n",
    "    domain::Array{Array{Int64, 1}, 1}\n",
    "    domain_max::Array{Int64, 1}\n",
    "        \n",
    "    n_constraints::Int64\n",
    "    constraint_var1::Array{Int64, 1}\n",
    "    constraint_var2::Array{Int64, 1}\n",
    "    matrix_storage::Bool\n",
    "    constraint_satisfaction_mat::Array{Array{Bool, 2}, 1}\n",
    "    constraint_satisfaction_fun::Array{Function, 1}\n",
    "    \n",
    "    var1_constraints::Array{Array{Int64, 1}, 1}\n",
    "    var2_constraints::Array{Array{Int64, 1}, 1}\n",
    "    \n",
    "    backtracking_params::Dict{String, Any}\n",
    "    \n",
    "    CSP() = new(\n",
    "        0,\n",
    "        String[],\n",
    "        Array{Int64, 1}[],\n",
    "        Int64[],\n",
    "        \n",
    "        0,\n",
    "        Int64[],\n",
    "        Int64[],\n",
    "        false,\n",
    "        Array{Bool, 2}[],\n",
    "        Function[],\n",
    "        \n",
    "        Array{Int64, 1}[],\n",
    "        Array{Int64, 1}[],\n",
    "        \n",
    "        Dict{String, Any}(\n",
    "            \"matrix_storage\"=>false,\n",
    "            \"variable_selection\"=>\"domain_size\",\n",
    "            \"look_ahead_method\"=>\"FC\",\n",
    "            \"time_limit\"=>10.,\n",
    "        ),\n",
    "    )\n",
    "end"
   ]
  },
  {
   "cell_type": "markdown",
   "metadata": {},
   "source": [
    "### 1.2) Variables and constraints"
   ]
  },
  {
   "cell_type": "code",
   "execution_count": 2,
   "metadata": {
    "ExecuteTime": {
     "end_time": "2019-03-16T14:40:37.168000+01:00",
     "start_time": "2019-03-16T13:40:35.319Z"
    }
   },
   "outputs": [
    {
     "data": {
      "text/plain": [
       "add_variable! (generic function with 1 method)"
      ]
     },
     "execution_count": 2,
     "metadata": {},
     "output_type": "execute_result"
    }
   ],
   "source": [
    "function add_variable!(csp::CSP, name::String, domain_size::Int64)\n",
    "    csp.n_variables += 1\n",
    "    push!(csp.names, name)\n",
    "    push!(csp.domain, collect(1:domain_size))\n",
    "    push!(csp.domain_max, domain_size)\n",
    "    \n",
    "    push!(csp.var1_constraints, Int64[])\n",
    "    push!(csp.var2_constraints, Int64[])\n",
    "end"
   ]
  },
  {
   "cell_type": "code",
   "execution_count": 3,
   "metadata": {
    "ExecuteTime": {
     "end_time": "2019-03-16T14:40:37.419000+01:00",
     "start_time": "2019-03-16T13:40:35.423Z"
    }
   },
   "outputs": [
    {
     "data": {
      "text/plain": [
       "add_individual_constraint! (generic function with 1 method)"
      ]
     },
     "execution_count": 3,
     "metadata": {},
     "output_type": "execute_result"
    }
   ],
   "source": [
    "function add_individual_constraint!(csp::CSP, var::Int64, individual_feasibility::Function)\n",
    "    i = 1\n",
    "    while i <= csp.domain_max[var]\n",
    "        value = csp.domain[var][i]\n",
    "        if !individual_feasibility(csp, var, value)\n",
    "            csp.domain[var][i] = csp.domain[var][csp.domain_max[var]]\n",
    "            csp.domain[var][csp.domain_max[var]] = value\n",
    "            csp.domain_max[var] -= 1\n",
    "        else\n",
    "            i += 1\n",
    "        end\n",
    "    end\n",
    "end"
   ]
  },
  {
   "cell_type": "code",
   "execution_count": 4,
   "metadata": {
    "ExecuteTime": {
     "end_time": "2019-03-16T14:40:37.662000+01:00",
     "start_time": "2019-03-16T13:40:35.923Z"
    }
   },
   "outputs": [
    {
     "data": {
      "text/plain": [
       "add_constraint! (generic function with 1 method)"
      ]
     },
     "execution_count": 4,
     "metadata": {},
     "output_type": "execute_result"
    }
   ],
   "source": [
    "function add_constraint!(csp::CSP, var1::Int64, var2::Int64, compatibility::Function)\n",
    "    csp.n_constraints += 1\n",
    "    \n",
    "    push!(csp.constraint_var1, var1)\n",
    "    push!(csp.constraint_var2, var2)\n",
    "    push!(csp.var1_constraints[var1], csp.n_constraints)\n",
    "    push!(csp.var2_constraints[var2], csp.n_constraints)\n",
    "\n",
    "    push!(csp.constraint_satisfaction_fun, compatibility)\n",
    "end"
   ]
  },
  {
   "cell_type": "code",
   "execution_count": 5,
   "metadata": {
    "ExecuteTime": {
     "end_time": "2019-03-16T14:40:37.924000+01:00",
     "start_time": "2019-03-16T13:40:36.007Z"
    }
   },
   "outputs": [
    {
     "data": {
      "text/plain": [
       "set_backtracking_params (generic function with 1 method)"
      ]
     },
     "execution_count": 5,
     "metadata": {},
     "output_type": "execute_result"
    }
   ],
   "source": [
    "function set_backtracking_params(csp::CSP, backtracking_params::Dict{String, Any})\n",
    "    for (key, val) in backtracking_params\n",
    "        csp.backtracking_params[key] = val\n",
    "    end\n",
    "end"
   ]
  },
  {
   "cell_type": "markdown",
   "metadata": {},
   "source": [
    "### 1.3) Consistency check"
   ]
  },
  {
   "cell_type": "code",
   "execution_count": 6,
   "metadata": {
    "ExecuteTime": {
     "end_time": "2019-03-16T14:40:38.219000+01:00",
     "start_time": "2019-03-16T13:40:36.175Z"
    }
   },
   "outputs": [
    {
     "data": {
      "text/plain": [
       "check_feasibility (generic function with 1 method)"
      ]
     },
     "execution_count": 6,
     "metadata": {},
     "output_type": "execute_result"
    }
   ],
   "source": [
    "function check_feasibility(csp::CSP, instantiation::Array{Int64, 1}, new_var::Int64)\n",
    "    if new_var == -1\n",
    "        return true\n",
    "    end\n",
    "    for cons in csp.var1_constraints[new_var]\n",
    "        var2::Int64 = csp.constraint_var2[cons]\n",
    "        value1 = instantiation[new_var]\n",
    "        value2 = instantiation[var2]\n",
    "        if (value1 !== -1) && (value2 !== -1)\n",
    "            if csp.matrix_storage\n",
    "                satisfied = csp.constraint_satisfaction_mat[cons][value1, value2]\n",
    "            else\n",
    "                satisfied = csp.constraint_satisfaction_fun[cons](csp, new_var, var2, value1, value2)\n",
    "            end\n",
    "            if !satisfied\n",
    "                return false\n",
    "            end\n",
    "        end\n",
    "    end\n",
    "    return true\n",
    "end"
   ]
  },
  {
   "cell_type": "markdown",
   "metadata": {},
   "source": [
    "### 1.4) Choice of variable / value"
   ]
  },
  {
   "cell_type": "code",
   "execution_count": 7,
   "metadata": {
    "ExecuteTime": {
     "end_time": "2019-03-16T14:40:38.479000+01:00",
     "start_time": "2019-03-16T13:40:36.346Z"
    }
   },
   "outputs": [
    {
     "data": {
      "text/plain": [
       "choose_next_variable (generic function with 1 method)"
      ]
     },
     "execution_count": 7,
     "metadata": {},
     "output_type": "execute_result"
    }
   ],
   "source": [
    "function evaluate_variable(csp::CSP, var::Int64)\n",
    "    if csp.backtracking_params[\"variable_selection\"] == \"domain_size\"\n",
    "        eval = - csp.domain_max[var]\n",
    "    elseif csp.backtracking_params[\"variable_selection\"] == \"domain_size_semirandom\"\n",
    "        eval = - csp.domain_max[var] + abs(var - csp.n_variables / 2) / csp.n_variables\n",
    "    elseif csp.backtracking_params[\"variable_selection\"] == \"domain_size_random\"\n",
    "        eval = - csp.domain_max[var] + rand()\n",
    "    elseif csp.backtracking_params[\"variable_selection\"] == \"constraints\"\n",
    "        eval = length(csp.var1_constraints[var])\n",
    "    elseif csp.backtracking_params[\"variable_selection\"] == \"constraints_random\"\n",
    "        eval = length(csp.var1_constraints[var]) + rand()\n",
    "    elseif csp.backtracking_params[\"variable_selection\"] == \"random\"\n",
    "        eval = rand()\n",
    "    else\n",
    "        eval = 0\n",
    "    end\n",
    "    return eval\n",
    "end\n",
    "\n",
    "function choose_next_variable(csp::CSP, instantiation::Array{Int64, 1})\n",
    "    best_var::Int64 = -1\n",
    "    best_eval::Float64 = -Inf\n",
    "        \n",
    "    for var in 1:csp.n_variables\n",
    "        if instantiation[var] != -1\n",
    "            continue\n",
    "        else\n",
    "            eval = evaluate_variable(csp, var)\n",
    "            if eval > best_eval\n",
    "                best_var = var\n",
    "                best_eval = eval\n",
    "            end\n",
    "        end\n",
    "    end\n",
    "    return best_var\n",
    "end"
   ]
  },
  {
   "cell_type": "markdown",
   "metadata": {},
   "source": [
    "### 1.5) Look-ahead"
   ]
  },
  {
   "cell_type": "code",
   "execution_count": 8,
   "metadata": {
    "ExecuteTime": {
     "end_time": "2019-03-16T14:40:38.758000+01:00",
     "start_time": "2019-03-16T13:40:36.522Z"
    }
   },
   "outputs": [
    {
     "data": {
      "text/plain": [
       "undo_look_ahead! (generic function with 1 method)"
      ]
     },
     "execution_count": 8,
     "metadata": {},
     "output_type": "execute_result"
    }
   ],
   "source": [
    "function do_look_ahead!(csp::CSP, instantiation::Array{Int64, 1}, x::Int64)\n",
    "    previous_domain_max::Array{Int64, 1} = copy(csp.domain_max)\n",
    "    \n",
    "    a::Int64 = instantiation[x]\n",
    "    for i in 1:csp.domain_max[x]\n",
    "        if (csp.domain[x][i] == a)\n",
    "            csp.domain[x][i] = csp.domain[x][1]\n",
    "            csp.domain[x][1] = a\n",
    "            csp.domain_max[x] = 1\n",
    "            break\n",
    "        end\n",
    "    end\n",
    "    \n",
    "    if csp.backtracking_params[\"look_ahead_method\"] == \"FC\"\n",
    "        forward_checking!(csp, instantiation, x)\n",
    "    elseif csp.backtracking_params[\"look_ahead_method\"] == \"MAC3\"\n",
    "        AC3!(csp, instantiation)\n",
    "    end\n",
    "    \n",
    "    return previous_domain_max\n",
    "end\n",
    "\n",
    "function undo_look_ahead!(csp::CSP, previous_domain_max::Array{Int64, 1})\n",
    "    csp.domain_max = previous_domain_max\n",
    "end"
   ]
  },
  {
   "cell_type": "code",
   "execution_count": 9,
   "metadata": {
    "ExecuteTime": {
     "end_time": "2019-03-16T14:40:39.027000+01:00",
     "start_time": "2019-03-16T13:40:36.602Z"
    }
   },
   "outputs": [
    {
     "data": {
      "text/plain": [
       "forward_checking! (generic function with 1 method)"
      ]
     },
     "execution_count": 9,
     "metadata": {},
     "output_type": "execute_result"
    }
   ],
   "source": [
    "function forward_checking!(csp::CSP, instantiation::Array{Int64, 1}, x::Int64)\n",
    "    \n",
    "    a::Int64 = instantiation[x]\n",
    "    \n",
    "    for cons in csp.var1_constraints[x]\n",
    "        y = csp.constraint_var2[cons]\n",
    "        if instantiation[y] != -1\n",
    "            continue\n",
    "        end\n",
    "\n",
    "        j = 1\n",
    "        while j <= csp.domain_max[y]\n",
    "            b = csp.domain[y][j]\n",
    "            if csp.matrix_storage\n",
    "                satisfied = csp.constraint_satisfaction_mat[cons][a, b]\n",
    "            else\n",
    "                satisfied = csp.constraint_satisfaction_fun[cons](csp, x, y, a, b)\n",
    "            end\n",
    "            if !satisfied\n",
    "                csp.domain[y][j] = csp.domain[y][csp.domain_max[y]]\n",
    "                csp.domain[y][csp.domain_max[y]] = b\n",
    "                csp.domain_max[y] -= 1\n",
    "            else\n",
    "                j += 1\n",
    "            end\n",
    "        end\n",
    "    end\n",
    "end"
   ]
  },
  {
   "cell_type": "code",
   "execution_count": 10,
   "metadata": {
    "ExecuteTime": {
     "end_time": "2019-03-16T14:40:39.291000+01:00",
     "start_time": "2019-03-16T13:40:36.690Z"
    }
   },
   "outputs": [
    {
     "data": {
      "text/plain": [
       "AC3! (generic function with 1 method)"
      ]
     },
     "execution_count": 10,
     "metadata": {},
     "output_type": "execute_result"
    }
   ],
   "source": [
    "function AC3!(csp::CSP, instantiation::Array{Int64, 1})\n",
    "    \n",
    "    to_test = Set{Int64}()\n",
    "    for cons in 1:csp.n_constraints\n",
    "        push!(to_test, cons)\n",
    "    end\n",
    "    \n",
    "    while !isempty(to_test)\n",
    "        cons = pop!(to_test)\n",
    "        x = csp.constraint_var1[cons]\n",
    "        y = csp.constraint_var2[cons]\n",
    "        \n",
    "        i = 1\n",
    "        while i <= csp.domain_max[x]\n",
    "            a = csp.domain[x][i]\n",
    "            a_supported::Bool = false\n",
    "            for b in csp.domain[y][1:csp.domain_max[y]]\n",
    "                if csp.matrix_storage\n",
    "                    satisfied = csp.constraint_satisfaction_mat[cons][a, b]\n",
    "                else\n",
    "                    satisfied = csp.constraint_satisfaction_fun[cons](csp, x, y, a, b)\n",
    "                end\n",
    "                if satisfied\n",
    "                    a_supported = true\n",
    "                    break\n",
    "                end\n",
    "            end\n",
    "            \n",
    "            if !a_supported\n",
    "                csp.domain[x][i] = csp.domain[x][csp.domain_max[x]]\n",
    "                csp.domain[x][csp.domain_max[x]] = a\n",
    "                csp.domain_max[x] -= 1\n",
    "                for cons_impacted in csp.var2_constraints[x]\n",
    "                    if csp.constraint_var1[cons] != y\n",
    "                        push!(to_test, cons_impacted)\n",
    "                    end\n",
    "                end\n",
    "            else\n",
    "                i += 1\n",
    "            end\n",
    "        end\n",
    "    end\n",
    "\n",
    "end"
   ]
  },
  {
   "cell_type": "markdown",
   "metadata": {},
   "source": [
    "### 1.6) Backtracking"
   ]
  },
  {
   "cell_type": "code",
   "execution_count": 11,
   "metadata": {
    "ExecuteTime": {
     "end_time": "2019-03-16T14:40:39.542000+01:00",
     "start_time": "2019-03-16T13:40:36.850Z"
    }
   },
   "outputs": [
    {
     "data": {
      "text/plain": [
       "backtrack! (generic function with 1 method)"
      ]
     },
     "execution_count": 11,
     "metadata": {},
     "output_type": "execute_result"
    }
   ],
   "source": [
    "function backtrack!(\n",
    "        csp::CSP,\n",
    "        instantiation::Array{Int64, 1},\n",
    "        new_var::Int64,\n",
    "        nodes_explored::Int64,\n",
    "        initial_time::Float64\n",
    "    )\n",
    "    if time() - initial_time > csp.backtracking_params[\"time_limit\"]\n",
    "        error(\"Time limit exceeded\")\n",
    "    end\n",
    "    if !check_feasibility(csp, instantiation, new_var)\n",
    "        return (false, instantiation, nodes_explored)\n",
    "    end\n",
    "    \n",
    "    new_var = choose_next_variable(csp, instantiation)\n",
    "    if new_var == -1\n",
    "        return true, instantiation, nodes_explored\n",
    "    end\n",
    "        \n",
    "    domain_to_explore = copy(csp.domain[new_var][1:csp.domain_max[new_var]])\n",
    "    for new_value in domain_to_explore\n",
    "        nodes_explored += 1\n",
    "        instantiation[new_var] = new_value\n",
    "        look_ahead_result = do_look_ahead!(csp, instantiation, new_var)\n",
    "                \n",
    "        (solution_found, solution, nodes_explored) = backtrack!(\n",
    "            csp, instantiation, new_var, nodes_explored, initial_time)\n",
    "        if solution_found\n",
    "            return (true, solution, nodes_explored)\n",
    "        end\n",
    "        \n",
    "        instantiation[new_var] = -1\n",
    "        undo_look_ahead!(csp, look_ahead_result)\n",
    "\n",
    "    end\n",
    "    return false, instantiation, nodes_explored\n",
    "end"
   ]
  },
  {
   "cell_type": "code",
   "execution_count": 12,
   "metadata": {
    "ExecuteTime": {
     "end_time": "2019-03-16T14:40:39.775000+01:00",
     "start_time": "2019-03-16T13:40:36.934Z"
    }
   },
   "outputs": [
    {
     "data": {
      "text/plain": [
       "preprocess! (generic function with 1 method)"
      ]
     },
     "execution_count": 12,
     "metadata": {},
     "output_type": "execute_result"
    }
   ],
   "source": [
    "function add_matrix_storage!(csp::CSP)\n",
    "    csp.matrix_storage = true\n",
    "    for cons in 1:csp.n_constraints\n",
    "        var1 = csp.constraint_var1[cons]\n",
    "        var2 = csp.constraint_var2[cons]\n",
    "        satisfaction = zeros(Bool, length(csp.domain[var1]), length(csp.domain[var2]))\n",
    "        for value1 in csp.domain[var1], value2 in csp.domain[var2]\n",
    "            if csp.constraint_satisfaction_fun[cons](csp, var1, var2, value1, value2)\n",
    "                satisfaction[value1, value2] = true\n",
    "            end\n",
    "        end\n",
    "        push!(csp.constraint_satisfaction_mat, satisfaction)\n",
    "    end\n",
    "end\n",
    "\n",
    "function preprocess!(csp::CSP)\n",
    "    if csp.backtracking_params[\"matrix_storage\"]\n",
    "        add_matrix_storage!(csp)\n",
    "    end\n",
    "end"
   ]
  },
  {
   "cell_type": "code",
   "execution_count": 13,
   "metadata": {
    "ExecuteTime": {
     "end_time": "2019-03-16T14:40:40.041000+01:00",
     "start_time": "2019-03-16T13:40:37.015Z"
    }
   },
   "outputs": [
    {
     "data": {
      "text/plain": [
       "solve_verbose! (generic function with 1 method)"
      ]
     },
     "execution_count": 13,
     "metadata": {},
     "output_type": "execute_result"
    }
   ],
   "source": [
    "function solve!(csp::CSP)\n",
    "    preprocess!(csp)\n",
    "    return backtrack!(csp, -ones(Int64, csp.n_variables), -1, 0, time())\n",
    "end\n",
    "\n",
    "function solve_verbose!(csp::CSP)\n",
    "    (status, instantiation, nodes_explored) = solve!(csp)\n",
    "    if !status\n",
    "        println(\"\\nStatus: unfeasible\")\n",
    "    else\n",
    "        println(\"\\nStatus: solved\")\n",
    "        println(\"\\nNodes explored: \", nodes_explored)\n",
    "        println(\"\\nSolution: \")\n",
    "        for var in 1:csp.n_variables\n",
    "            println(csp.names[var], \": \", instantiation[var])\n",
    "        end\n",
    "    end\n",
    "    println()\n",
    "    return (status, instantiation, nodes_explored)\n",
    "end"
   ]
  },
  {
   "cell_type": "markdown",
   "metadata": {},
   "source": [
    "## 2. Applications"
   ]
  },
  {
   "cell_type": "markdown",
   "metadata": {},
   "source": [
    "### 2.1) N-queens problem"
   ]
  },
  {
   "cell_type": "code",
   "execution_count": 14,
   "metadata": {
    "ExecuteTime": {
     "end_time": "2019-03-16T14:40:40.294000+01:00",
     "start_time": "2019-03-16T13:40:37.276Z"
    }
   },
   "outputs": [
    {
     "data": {
      "text/plain": [
       "check_instantiation_nqueens (generic function with 1 method)"
      ]
     },
     "execution_count": 14,
     "metadata": {},
     "output_type": "execute_result"
    }
   ],
   "source": [
    "function compatibility_nqueens(csp::CSP, var1::Int64, var2::Int64, value1::Int64, value2::Int64)\n",
    "    # Exclude same row, same diagonal, same antidiagonal\n",
    "    return (value1 != value2) && abs(value1 - value2) != abs(var1 - var2)\n",
    "end\n",
    "\n",
    "function define_nqueens(n::Int64)\n",
    "    csp = CSP()\n",
    "    for i in 1:n\n",
    "        name = \"row_\" * string(i)\n",
    "        domain_size = n\n",
    "        add_variable!(csp, name, domain_size)\n",
    "    end\n",
    "    # Binary constraints\n",
    "    for i in 1:n, j in 1:n\n",
    "        if (i != j)\n",
    "            add_constraint!(csp, i, j, compatibility_nqueens)\n",
    "        end\n",
    "    end\n",
    "    return csp\n",
    "end\n",
    "\n",
    "function visualize_nqueens(csp::CSP, instantiation::Array{Int64, 1})\n",
    "    instantiation_dict::Dict{String, Int64} = Dict(\n",
    "        csp.names[var] => instantiation[var] for var in 1:csp.n_variables)\n",
    "    n::Int64 = length(instantiation_dict)\n",
    "    for j in 1:n\n",
    "        println()\n",
    "        for i in 1:n\n",
    "            if instantiation_dict[\"row_\" * string(j)] == i\n",
    "                print(\" Q\")\n",
    "            else\n",
    "                print(\" .\")\n",
    "            end\n",
    "        end\n",
    "    end\n",
    "end\n",
    "\n",
    "function check_instantiation_nqueens(csp::CSP, instantiation::Array{Int64, 1})\n",
    "    n::Int64 = length(instantiation)\n",
    "    for var1 in 1:n, var2 in 1:var1-1\n",
    "        if !compatibility_nqueens(csp, var1, var2, instantiation[var1], instantiation[var2])\n",
    "            return false\n",
    "        end\n",
    "    end\n",
    "    return true\n",
    "end"
   ]
  },
  {
   "cell_type": "code",
   "execution_count": 15,
   "metadata": {
    "ExecuteTime": {
     "end_time": "2019-03-16T14:40:42.511000+01:00",
     "start_time": "2019-03-16T13:40:37.350Z"
    }
   },
   "outputs": [
    {
     "name": "stdout",
     "output_type": "stream",
     "text": [
      "  0.696150 seconds (474.32 k allocations: 25.518 MiB)\n"
     ]
    },
    {
     "data": {
      "text/plain": [
       "(true, [224, 296, 275, 273, 236, 210, 254, 247, 241, 226  …  278, 56, 90, 113, 188, 186, 112, 39, 76, 343], 449)"
      ]
     },
     "execution_count": 15,
     "metadata": {},
     "output_type": "execute_result"
    }
   ],
   "source": [
    "nqueens_big = define_nqueens(400);\n",
    "set_backtracking_params(\n",
    "    nqueens_big,\n",
    "    Dict(\n",
    "        \"matrix_storage\"=>false,\n",
    "        \"time_limit\"=>1.,\n",
    "        \"look_ahead_method\"=> \"FC\",\n",
    "        \"variable_selection\"=> \"domain_size_random\"\n",
    "    )\n",
    ")\n",
    "@time b, i, n = solve!(nqueens_big)"
   ]
  },
  {
   "cell_type": "code",
   "execution_count": 16,
   "metadata": {
    "ExecuteTime": {
     "end_time": "2019-03-16T14:40:42.688000+01:00",
     "start_time": "2019-03-16T13:40:37.436Z"
    }
   },
   "outputs": [
    {
     "name": "stdout",
     "output_type": "stream",
     "text": [
      "\n",
      "Status: solved\n",
      "\n",
      "Nodes explored: 81\n",
      "\n",
      "Solution: \n",
      "row_1: 1\n",
      "row_2: 10\n",
      "row_3: 7\n",
      "row_4: 5\n",
      "row_5: 8\n",
      "row_6: 2\n",
      "row_7: 9\n",
      "row_8: 3\n",
      "row_9: 6\n",
      "row_10: 4\n",
      "\n",
      "\n",
      " Q . . . . . . . . .\n",
      " . . . . . . . . . Q\n",
      " . . . . . . Q . . .\n",
      " . . . . Q . . . . .\n",
      " . . . . . . . Q . .\n",
      " . Q . . . . . . . .\n",
      " . . . . . . . . Q .\n",
      " . . Q . . . . . . .\n",
      " . . . . . Q . . . .\n",
      " . . . Q . . . . . ."
     ]
    }
   ],
   "source": [
    "nqueens_small = define_nqueens(10)\n",
    "b, i, n = solve_verbose!(nqueens_small)\n",
    "visualize_nqueens(nqueens_small, i)"
   ]
  },
  {
   "cell_type": "markdown",
   "metadata": {},
   "source": [
    "### 2.2) Knight's tour"
   ]
  },
  {
   "cell_type": "code",
   "execution_count": 17,
   "metadata": {
    "ExecuteTime": {
     "end_time": "2019-03-16T14:40:42.797000+01:00",
     "start_time": "2019-03-16T13:40:37.600Z"
    }
   },
   "outputs": [
    {
     "data": {
      "text/plain": [
       "square_from_coord (generic function with 1 method)"
      ]
     },
     "execution_count": 17,
     "metadata": {},
     "output_type": "execute_result"
    }
   ],
   "source": [
    "function coord_from_square(square::Int64, board_size::Int64)\n",
    "    row = div(square - 1, board_size) + 1\n",
    "    col = rem(square - 1, board_size) + 1\n",
    "    return (row, col)\n",
    "end\n",
    "\n",
    "function square_from_coord(row::Int64, col::Int64, board_size::Int64)\n",
    "    square = (row-1) * board_size + col\n",
    "    return square\n",
    "end"
   ]
  },
  {
   "cell_type": "code",
   "execution_count": 18,
   "metadata": {
    "ExecuteTime": {
     "end_time": "2019-03-16T14:40:42.907000+01:00",
     "start_time": "2019-03-16T13:40:37.705Z"
    }
   },
   "outputs": [
    {
     "data": {
      "text/plain": [
       "piece_move (generic function with 1 method)"
      ]
     },
     "execution_count": 18,
     "metadata": {},
     "output_type": "execute_result"
    }
   ],
   "source": [
    "function rook_move(square1::Int64, square2::Int64, n::Int64)\n",
    "    row1, col1 = coord_from_square(square1, n)\n",
    "    row2, col2 = coord_from_square(square2, n)\n",
    "    return (square1 != square2) && ((row1 == row2) || (col1 == col2))\n",
    "end\n",
    "\n",
    "function bishop_move(square1::Int64, square2::Int64, n::Int64)\n",
    "    row1, col1 = coord_from_square(square1, n)\n",
    "    row2, col2 = coord_from_square(square2, n)\n",
    "    return (square1 != square2) && (abs(row1 - row2) == abs(col1 - col2))\n",
    "end\n",
    "\n",
    "function knight_move(square1::Int64, square2::Int64, n::Int64)\n",
    "    row1, col1 = coord_from_square(square1, n)\n",
    "    row2, col2 = coord_from_square(square2, n)\n",
    "    return (\n",
    "        (abs(row1 - row2) == 1 && abs(col1 - col2) == 2) ||\n",
    "        (abs(row1 - row2) == 2 && abs(col1 - col2) == 1)\n",
    "    )\n",
    "end\n",
    "\n",
    "function queen_move(square1::Int64, square2::Int64, n::Int64)\n",
    "    return rook_move(square1, square2, n) || bishop_move(square1, square2, n)\n",
    "end\n",
    "\n",
    "function king_move(square1::Int64, square2::Int64, n::Int64)\n",
    "    row1, col1 = coord_from_square(square1, n)\n",
    "    row2, col2 = coord_from_square(square2, n)\n",
    "    return (square1 != square2) && (max(abs(row1 - row2), abs(col1 - col2)) == 1)\n",
    "end\n",
    "\n",
    "function piece_move(square1::Int64, square2::Int64, n::Int64, piece::String)\n",
    "    if piece == \"knight\"\n",
    "        return knight_move(square1, square2, n)\n",
    "    elseif piece == \"bishop\"\n",
    "        return bishop_move(square1, square2, n)\n",
    "    elseif piece == \"rook\"\n",
    "        return rook_move(square1, square2, n)\n",
    "    elseif piece == \"queen\"\n",
    "        return queen_move(square1, square2, n)\n",
    "    elseif piece == \"king\"\n",
    "        return king_move(square1, square2, n)\n",
    "    end\n",
    "end"
   ]
  },
  {
   "cell_type": "code",
   "execution_count": 19,
   "metadata": {
    "ExecuteTime": {
     "end_time": "2019-03-16T14:40:43.023000+01:00",
     "start_time": "2019-03-16T13:40:37.797Z"
    }
   },
   "outputs": [
    {
     "data": {
      "text/plain": [
       "visualize_tour (generic function with 1 method)"
      ]
     },
     "execution_count": 19,
     "metadata": {},
     "output_type": "execute_result"
    }
   ],
   "source": [
    "function compatibility_tour(\n",
    "        csp::CSP,\n",
    "        var1::Int64, var2::Int64,\n",
    "        value1::Int64, value2::Int64,\n",
    "        n::Int64, piece::String\n",
    "    )\n",
    "    if abs(var1 - var2) > 1\n",
    "        return value1 != value2\n",
    "    else\n",
    "        return piece_move(value1, value2, n, piece)\n",
    "    end\n",
    "end\n",
    "\n",
    "function define_tour(n::Int64, piece::String)\n",
    "    csp = CSP()\n",
    "    if piece == \"bishop\"\n",
    "        n_pieces = div(n^2, 2)\n",
    "    else\n",
    "        n_pieces = n^2\n",
    "    end\n",
    "    for i in 1:n_pieces\n",
    "        name = \"position_\" * string(i)\n",
    "        domain_size = n^2\n",
    "        add_variable!(csp, name, domain_size)\n",
    "    end\n",
    "    for i in 1:n_pieces, j in 1:n_pieces\n",
    "        if (i != j)\n",
    "            compatibility_tour_piece(a, b, c, d, e) = compatibility_tour(a, b, c, d, e, n, piece)\n",
    "            add_constraint!(csp, i, j, compatibility_tour_piece)\n",
    "        end\n",
    "    end\n",
    "    return csp\n",
    "end\n",
    "\n",
    "function visualize_tour(csp::CSP, instantiation::Array{Int64, 1}, n::Int64)\n",
    "    instantiation_dict::Dict{String, Int64} = Dict(\n",
    "        csp.names[var] => instantiation[var] for var in 1:csp.n_variables)\n",
    "    for x in 1:n\n",
    "        println()\n",
    "        for y in 1:n\n",
    "            rank::Int64 = 0\n",
    "            for var in 1:length(instantiation_dict)\n",
    "                if instantiation_dict[\"position_\" * string(var)] == square_from_coord(x, y, n)\n",
    "                    rank = var\n",
    "                    break\n",
    "                end\n",
    "            end\n",
    "            print(string(rank) * \" \"^(3 - length(string(rank))))\n",
    "        end\n",
    "    end\n",
    "end "
   ]
  },
  {
   "cell_type": "code",
   "execution_count": 26,
   "metadata": {
    "ExecuteTime": {
     "end_time": "2019-03-16T14:42:46.853000+01:00",
     "start_time": "2019-03-16T13:42:46.204Z"
    }
   },
   "outputs": [
    {
     "name": "stdout",
     "output_type": "stream",
     "text": [
      "  0.594759 seconds (407.57 k allocations: 49.143 MiB, 1.12% gc time)\n",
      "\n",
      "21 14 31 10 1  12 \n",
      "32 9  20 13 34 29 \n",
      "15 22 33 30 11 2  \n",
      "8  25 6  19 28 35 \n",
      "5  16 23 26 3  18 \n",
      "24 7  4  17 36 27 "
     ]
    }
   ],
   "source": [
    "tour = define_tour(6, \"knight\");\n",
    "set_backtracking_params(\n",
    "    tour,\n",
    "    Dict(\n",
    "        \"matrix_storage\"=>false,\n",
    "        \"time_limit\"=>30.,\n",
    "        \"look_ahead_method\"=> \"FC\",\n",
    "        \"variable_selection\"=> \"domain_size_random\"\n",
    "    )\n",
    ")\n",
    "@time b, i, n = solve!(tour)\n",
    "visualize_tour(tour, i, 6)"
   ]
  },
  {
   "cell_type": "markdown",
   "metadata": {},
   "source": [
    "### 2.3) Graph coloring"
   ]
  },
  {
   "cell_type": "code",
   "execution_count": 21,
   "metadata": {
    "ExecuteTime": {
     "end_time": "2019-03-16T14:41:14.929000+01:00",
     "start_time": "2019-03-16T13:40:38.031Z"
    }
   },
   "outputs": [
    {
     "data": {
      "text/plain": [
       "find_maxclique (generic function with 1 method)"
      ]
     },
     "execution_count": 21,
     "metadata": {},
     "output_type": "execute_result"
    }
   ],
   "source": [
    "function generate_combinations(n::Int64, k::Int64)\n",
    "    if k==1\n",
    "        combs = Set([[i] for i in 1:n])\n",
    "    else\n",
    "        combs::Set{Array{Int64, 1}} = Set()\n",
    "        for c in generate_combinations(n, k-1)\n",
    "            for i in 1:n\n",
    "                if !(i in c)\n",
    "                    new_c = copy(c)\n",
    "                    push!(new_c, i)\n",
    "                    push!(combs, sort(new_c))\n",
    "                end\n",
    "            end\n",
    "        end\n",
    "        return combs\n",
    "    end\n",
    "end\n",
    "\n",
    "function check_clique(adj, c)\n",
    "    for u in c, v in c\n",
    "        if (u != v) && adj[u, v] == 0\n",
    "            return false\n",
    "        end\n",
    "    end\n",
    "    return true\n",
    "end\n",
    "\n",
    "function find_kclique(n_vertices, edges, k)\n",
    "    adj = zeros(Bool, n_vertices, n_vertices)\n",
    "    for (u, v) in edges\n",
    "        adj[u, v] = true\n",
    "        adj[v, u] = 1\n",
    "    end\n",
    "    for c in generate_combinations(n_vertices, k)\n",
    "       if check_clique(adj, c)\n",
    "            return c\n",
    "        end\n",
    "    end\n",
    "    return 0\n",
    "end\n",
    "\n",
    "import LightGraphs\n",
    "\n",
    "function find_maxclique(n_vertices, edges)\n",
    "    g = LightGraphs.SimpleGraph(n_vertices)\n",
    "    for (u, v) in edges\n",
    "        LightGraphs.add_edge!(g, u, v)\n",
    "    end\n",
    "    k = 0\n",
    "    maxclique = []\n",
    "    for c in LightGraphs.maximal_cliques(g)\n",
    "        if length(c) >= k\n",
    "            k = length(c)\n",
    "            maxclique = c\n",
    "        end\n",
    "    end\n",
    "    return maxclique\n",
    "end"
   ]
  },
  {
   "cell_type": "code",
   "execution_count": 22,
   "metadata": {
    "ExecuteTime": {
     "end_time": "2019-03-16T14:41:15.817000+01:00",
     "start_time": "2019-03-16T13:40:38.132Z"
    }
   },
   "outputs": [
    {
     "data": {
      "text/plain": [
       "read_graph (generic function with 1 method)"
      ]
     },
     "execution_count": 22,
     "metadata": {},
     "output_type": "execute_result"
    }
   ],
   "source": [
    "function read_graph(path::String)\n",
    "    n_vertices = 0\n",
    "    edges = Array{Tuple{Int64, Int64}, 1}()\n",
    "    open(path) do file\n",
    "        for line in eachline(file)\n",
    "            split_line = split(line)\n",
    "            if line[1] == 'p'\n",
    "                n_vertices = parse(Int64, split_line[3])\n",
    "            elseif line[1] == 'e'\n",
    "                u = parse(Int64, split_line[2])\n",
    "                v = parse(Int64, split_line[3])\n",
    "                push!(edges, (u, v))\n",
    "            end\n",
    "        end\n",
    "    end\n",
    "    return n_vertices, edges\n",
    "end"
   ]
  },
  {
   "cell_type": "code",
   "execution_count": 23,
   "metadata": {
    "ExecuteTime": {
     "end_time": "2019-03-16T14:41:16.050000+01:00",
     "start_time": "2019-03-16T13:40:38.216Z"
    }
   },
   "outputs": [
    {
     "data": {
      "text/plain": [
       "define_coloring (generic function with 1 method)"
      ]
     },
     "execution_count": 23,
     "metadata": {},
     "output_type": "execute_result"
    }
   ],
   "source": [
    "function compatibility_coloring(csp::CSP, var1::Int64, var2::Int64, value1::Int64, value2::Int64)\n",
    "    return value1 != value2\n",
    "end\n",
    "\n",
    "function define_coloring(n_vertices::Int64, edges::Array{Tuple{Int64, Int64}, 1}, n_colors::Int64)\n",
    "    csp = CSP()\n",
    "    for u in 1:n_vertices\n",
    "        name = \"color_\" * string(u)\n",
    "        domain_size = n_colors\n",
    "        add_variable!(csp, name, domain_size)\n",
    "    end\n",
    "    for (u, v) in edges\n",
    "        add_constraint!(csp, u, v, compatibility_coloring)\n",
    "        add_constraint!(csp, v, u, compatibility_coloring)\n",
    "    end\n",
    "    # Symmetry constraints\n",
    "    maxclique = find_maxclique(n_vertices, edges)\n",
    "    if length(maxclique) > n_colors\n",
    "        maxclique = maxclique[1:n_colors]\n",
    "    end\n",
    "    print(\"Max clique size \", length(maxclique))\n",
    "    for (i, u) in enumerate(maxclique)\n",
    "        add_individual_constraint!(csp, u, (csp, u, c)->(c==i))\n",
    "    end\n",
    "    return csp\n",
    "end"
   ]
  },
  {
   "cell_type": "code",
   "execution_count": 24,
   "metadata": {
    "ExecuteTime": {
     "end_time": "2019-03-16T14:41:16.521000+01:00",
     "start_time": "2019-03-16T13:40:38.288Z"
    }
   },
   "outputs": [
    {
     "name": "stdout",
     "output_type": "stream",
     "text": [
      "Max clique size 10"
     ]
    }
   ],
   "source": [
    "n_vertices, edges = read_graph(\"graphs/jean.col\")\n",
    "n_colors = 10\n",
    "coloring = define_coloring(n_vertices, edges, n_colors);"
   ]
  },
  {
   "cell_type": "code",
   "execution_count": 25,
   "metadata": {
    "ExecuteTime": {
     "end_time": "2019-03-16T14:41:16.736000+01:00",
     "start_time": "2019-03-16T13:40:38.358Z"
    }
   },
   "outputs": [
    {
     "name": "stdout",
     "output_type": "stream",
     "text": [
      "  0.002628 seconds (1.25 k allocations: 131.965 KiB)\n"
     ]
    },
    {
     "data": {
      "text/plain": [
       "(true, [1, 8, 9, 9, 10, 10, 2, 1, 3, 7  …  1, 6, 8, 1, 9, 1, 7, 9, 8, 1], 80)"
      ]
     },
     "execution_count": 25,
     "metadata": {},
     "output_type": "execute_result"
    }
   ],
   "source": [
    "set_backtracking_params(\n",
    "    coloring,\n",
    "    Dict(\n",
    "        \"matrix_storage\"=>false,\n",
    "        \"time_limit\"=>10.,\n",
    "        \"look_ahead_method\"=> \"FC\",\n",
    "        \"variable_selection\"=> \"domain_size_random\"\n",
    "    )\n",
    ")\n",
    "@time b, i, n = solve!(coloring)"
   ]
  },
  {
   "cell_type": "code",
   "execution_count": null,
   "metadata": {},
   "outputs": [],
   "source": []
  }
 ],
 "metadata": {
  "kernelspec": {
   "display_name": "Julia 1.0.3",
   "language": "julia",
   "name": "julia-1.0"
  },
  "language_info": {
   "file_extension": ".jl",
   "mimetype": "application/julia",
   "name": "julia",
   "version": "1.0.3"
  }
 },
 "nbformat": 4,
 "nbformat_minor": 2
}
