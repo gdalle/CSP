{
 "cells": [
  {
   "cell_type": "markdown",
   "metadata": {},
   "source": [
    "# Binary CSP solver"
   ]
  },
  {
   "cell_type": "markdown",
   "metadata": {},
   "source": [
    "*Guillaume DALLE*"
   ]
  },
  {
   "cell_type": "code",
   "execution_count": 1,
   "metadata": {
    "ExecuteTime": {
     "end_time": "2019-03-17T11:42:34.918000+01:00",
     "start_time": "2019-03-17T10:42:15.024Z"
    }
   },
   "outputs": [],
   "source": [
    "using ProgressMeter\n",
    "using PyPlot\n",
    "using DataFrames\n",
    "using CSV\n",
    "import LightGraphs"
   ]
  },
  {
   "cell_type": "markdown",
   "metadata": {},
   "source": [
    "## 1. CSP structure and backtracking"
   ]
  },
  {
   "cell_type": "markdown",
   "metadata": {},
   "source": [
    "### 1.1) CSP object"
   ]
  },
  {
   "cell_type": "code",
   "execution_count": 2,
   "metadata": {
    "ExecuteTime": {
     "end_time": "2019-03-17T11:42:36.828000+01:00",
     "start_time": "2019-03-17T10:42:15.026Z"
    }
   },
   "outputs": [],
   "source": [
    "mutable struct CSP\n",
    "    n_variables::Int64\n",
    "    names::Array{String, 1}\n",
    "    domain::Array{Array{Int64, 1}, 1}\n",
    "    domain_max::Array{Int64, 1}\n",
    "    value_support::Array{Array{Int64, 1}, 1}\n",
    "        \n",
    "    n_constraints::Int64\n",
    "    constraint_var1::Array{Int64, 1}\n",
    "    constraint_var2::Array{Int64, 1}\n",
    "    matrix_storage::Bool\n",
    "    constraint_satisfaction_mat::Array{Array{Bool, 2}, 1}\n",
    "    constraint_satisfaction_fun::Array{Function, 1}\n",
    "    \n",
    "    var1_constraints::Array{Array{Int64, 1}, 1}\n",
    "    var2_constraints::Array{Array{Int64, 1}, 1}\n",
    "    \n",
    "    params::Dict{String, Any}\n",
    "    \n",
    "    CSP() = new(\n",
    "        0,\n",
    "        String[],\n",
    "        Array{Int64, 1}[],\n",
    "        Int64[],\n",
    "        Array{Int64, 1}[],\n",
    "        \n",
    "        0,\n",
    "        Int64[],\n",
    "        Int64[],\n",
    "        false,\n",
    "        Array{Bool, 2}[],\n",
    "        Function[],\n",
    "        \n",
    "        Array{Int64, 1}[],\n",
    "        Array{Int64, 1}[],\n",
    "        \n",
    "        Dict{String, Any}(\n",
    "            \"matrix_storage\"=>false,\n",
    "            \"variable_selection\"=>\"domain_size\",\n",
    "            \"dynamic_value_selection\"=>\"none\",\n",
    "            \"static_value_selection\"=>\"none\",\n",
    "            \"look_ahead\"=>\"FC\",\n",
    "            \"time_limit\"=>1.,\n",
    "            \"restarts\"=>1,\n",
    "        ),\n",
    "    )\n",
    "end"
   ]
  },
  {
   "cell_type": "markdown",
   "metadata": {},
   "source": [
    "### 1.2) Variables and constraints"
   ]
  },
  {
   "cell_type": "code",
   "execution_count": 3,
   "metadata": {
    "ExecuteTime": {
     "end_time": "2019-03-17T11:42:37.706000+01:00",
     "start_time": "2019-03-17T10:42:15.028Z"
    }
   },
   "outputs": [
    {
     "data": {
      "text/plain": [
       "add_variable! (generic function with 1 method)"
      ]
     },
     "execution_count": 3,
     "metadata": {},
     "output_type": "execute_result"
    }
   ],
   "source": [
    "function add_variable!(csp::CSP, name::String, domain_size::Int64)\n",
    "    csp.n_variables += 1\n",
    "    push!(csp.names, name)\n",
    "    push!(csp.domain, collect(1:domain_size))\n",
    "    push!(csp.domain_max, domain_size)\n",
    "    \n",
    "    push!(csp.value_support, zeros(Float64, domain_size))\n",
    "    \n",
    "    push!(csp.var1_constraints, Int64[])\n",
    "    push!(csp.var2_constraints, Int64[])\n",
    "end"
   ]
  },
  {
   "cell_type": "code",
   "execution_count": 4,
   "metadata": {
    "ExecuteTime": {
     "end_time": "2019-03-17T11:42:38.015000+01:00",
     "start_time": "2019-03-17T10:42:15.030Z"
    }
   },
   "outputs": [
    {
     "data": {
      "text/plain": [
       "add_individual_constraint! (generic function with 1 method)"
      ]
     },
     "execution_count": 4,
     "metadata": {},
     "output_type": "execute_result"
    }
   ],
   "source": [
    "function add_individual_constraint!(csp::CSP, x::Int64, subdomain::Array{Int64, 1})\n",
    "    i = 1\n",
    "    while i <= csp.domain_max[x]\n",
    "        a = csp.domain[x][i]\n",
    "        if !(a in subdomain)\n",
    "            csp.domain[x][i] = csp.domain[x][csp.domain_max[x]]\n",
    "            csp.domain[x][csp.domain_max[x]] = a\n",
    "            csp.domain_max[x] -= 1\n",
    "        else\n",
    "            i += 1\n",
    "        end\n",
    "    end\n",
    "end"
   ]
  },
  {
   "cell_type": "code",
   "execution_count": 5,
   "metadata": {
    "ExecuteTime": {
     "end_time": "2019-03-17T11:42:38.404000+01:00",
     "start_time": "2019-03-17T10:42:15.031Z"
    }
   },
   "outputs": [
    {
     "data": {
      "text/plain": [
       "add_constraint! (generic function with 1 method)"
      ]
     },
     "execution_count": 5,
     "metadata": {},
     "output_type": "execute_result"
    }
   ],
   "source": [
    "function add_constraint!(csp::CSP, x::Int64, y::Int64, compatibility::Function)\n",
    "    csp.n_constraints += 1\n",
    "    \n",
    "    push!(csp.constraint_var1, x)\n",
    "    push!(csp.constraint_var2, y)\n",
    "    push!(csp.var1_constraints[x], csp.n_constraints)\n",
    "    push!(csp.var2_constraints[y], csp.n_constraints)\n",
    "\n",
    "    push!(csp.constraint_satisfaction_fun, compatibility)\n",
    "end"
   ]
  },
  {
   "cell_type": "code",
   "execution_count": 6,
   "metadata": {
    "ExecuteTime": {
     "end_time": "2019-03-17T11:42:38.787000+01:00",
     "start_time": "2019-03-17T10:42:15.033Z"
    }
   },
   "outputs": [
    {
     "data": {
      "text/plain": [
       "set_params (generic function with 3 methods)"
      ]
     },
     "execution_count": 6,
     "metadata": {},
     "output_type": "execute_result"
    }
   ],
   "source": [
    "function set_params(csp::CSP, params::Dict{String, Any})\n",
    "    for (key, val) in params\n",
    "        csp.params[key] = val\n",
    "    end\n",
    "end\n",
    "\n",
    "function set_params(csp::CSP, params::Dict{String, String})\n",
    "    for (key, val) in params\n",
    "        csp.params[key] = val\n",
    "    end\n",
    "end\n",
    "\n",
    "function set_params(csp::CSP, params::Dict{String, Float64})\n",
    "    for (key, val) in params\n",
    "        csp.params[key] = val\n",
    "    end\n",
    "end"
   ]
  },
  {
   "cell_type": "code",
   "execution_count": 7,
   "metadata": {
    "ExecuteTime": {
     "end_time": "2019-03-17T11:42:39.101000+01:00",
     "start_time": "2019-03-17T10:42:15.036Z"
    }
   },
   "outputs": [
    {
     "data": {
      "text/plain": [
       "restore_domains! (generic function with 1 method)"
      ]
     },
     "execution_count": 7,
     "metadata": {},
     "output_type": "execute_result"
    }
   ],
   "source": [
    "function backup_domains(csp::CSP)\n",
    "    domain::Array{Array{Int64, 1}, 1} = Array{Int64, 1}[]\n",
    "    domain_max::Array{Int64, 1} = Int64[]\n",
    "    for x in 1:csp.n_variables\n",
    "        push!(domain, copy(csp.domain[x]))\n",
    "        push!(domain_max, csp.domain_max[x])\n",
    "    end\n",
    "    return domain, domain_max\n",
    "end\n",
    "\n",
    "function restore_domains!(csp::CSP, domain::Array{Array{Int64, 1}, 1}, domain_max::Array{Int64, 1})\n",
    "    for x in 1:csp.n_variables\n",
    "        csp.domain[x] = copy(domain[x])\n",
    "        csp.domain_max[x] = domain_max[x]\n",
    "    end\n",
    "end"
   ]
  },
  {
   "cell_type": "markdown",
   "metadata": {},
   "source": [
    "### 1.3) Consistency check"
   ]
  },
  {
   "cell_type": "code",
   "execution_count": 8,
   "metadata": {
    "ExecuteTime": {
     "end_time": "2019-03-17T11:42:39.435000+01:00",
     "start_time": "2019-03-17T10:42:15.038Z"
    }
   },
   "outputs": [
    {
     "data": {
      "text/plain": [
       "check_feasibility (generic function with 1 method)"
      ]
     },
     "execution_count": 8,
     "metadata": {},
     "output_type": "execute_result"
    }
   ],
   "source": [
    "function check_feasibility(csp::CSP, instantiation::Array{Int64, 1}, x::Int64)\n",
    "    if x == -1\n",
    "        return true\n",
    "    end\n",
    "    for cons in csp.var1_constraints[x]\n",
    "        y::Int64 = csp.constraint_var2[cons]\n",
    "        a = instantiation[x]\n",
    "        b = instantiation[y]\n",
    "        if (a !== -1) && (b !== -1)\n",
    "            if csp.matrix_storage\n",
    "                satisfied = csp.constraint_satisfaction_mat[cons][a, b]\n",
    "            else\n",
    "                satisfied = csp.constraint_satisfaction_fun[cons](csp, x, y, a, b)\n",
    "            end\n",
    "            if !satisfied\n",
    "                return false\n",
    "            end\n",
    "        end\n",
    "    end\n",
    "    return true\n",
    "end"
   ]
  },
  {
   "cell_type": "markdown",
   "metadata": {},
   "source": [
    "### 1.4) Choice of variable / value"
   ]
  },
  {
   "cell_type": "code",
   "execution_count": 9,
   "metadata": {
    "ExecuteTime": {
     "end_time": "2019-03-17T11:42:39.864000+01:00",
     "start_time": "2019-03-17T10:42:15.044Z"
    }
   },
   "outputs": [
    {
     "data": {
      "text/plain": [
       "choose_next_variable (generic function with 1 method)"
      ]
     },
     "execution_count": 9,
     "metadata": {},
     "output_type": "execute_result"
    }
   ],
   "source": [
    "function evaluate_variable(csp::CSP, x::Int64)\n",
    "    if csp.params[\"variable_selection\"] == \"order\"\n",
    "        eval = x\n",
    "    elseif csp.params[\"variable_selection\"] == \"order_better\"\n",
    "        eval = - abs(x - csp.n_variables / 2)\n",
    "    elseif csp.params[\"variable_selection\"] == \"random\"\n",
    "        eval = rand()\n",
    "    elseif csp.params[\"variable_selection\"] == \"domain_size\"\n",
    "        eval = - csp.domain_max[x]\n",
    "    elseif csp.params[\"variable_selection\"] == \"domain_size_better\"\n",
    "        eval = - csp.domain_max[x] - (abs(x - csp.n_variables / 2)/csp.n_variables)\n",
    "    elseif csp.params[\"variable_selection\"] == \"domain_size_random\"\n",
    "        eval = - csp.domain_max[x] + rand()\n",
    "    elseif csp.params[\"variable_selection\"] == \"constraints\"\n",
    "        eval = length(csp.var1_constraints[x])\n",
    "    elseif csp.params[\"variable_selection\"] == \"constraints_random\"\n",
    "        eval = length(csp.var1_constraints[x]) + rand()\n",
    "    else\n",
    "        error(\"variable selection method unknown\")\n",
    "    end\n",
    "    return eval\n",
    "end\n",
    "\n",
    "function choose_next_variable(csp::CSP, instantiation::Array{Int64, 1})\n",
    "    best_x::Int64 = -1\n",
    "    best_eval::Float64 = -Inf\n",
    "    for x in 1:csp.n_variables\n",
    "        if instantiation[x] != -1\n",
    "            continue\n",
    "        else\n",
    "            eval = evaluate_variable(csp, x)\n",
    "            if eval > best_eval\n",
    "                best_x = x\n",
    "                best_eval = eval\n",
    "            end\n",
    "        end\n",
    "    end\n",
    "    return best_x\n",
    "end"
   ]
  },
  {
   "cell_type": "code",
   "execution_count": 10,
   "metadata": {
    "ExecuteTime": {
     "end_time": "2019-03-17T11:42:40.186000+01:00",
     "start_time": "2019-03-17T10:42:15.047Z"
    }
   },
   "outputs": [
    {
     "data": {
      "text/plain": [
       "sort_all_values! (generic function with 1 method)"
      ]
     },
     "execution_count": 10,
     "metadata": {},
     "output_type": "execute_result"
    }
   ],
   "source": [
    "function evaluate_value(csp::CSP, x::Int64, a::Int64, situation::String)\n",
    "    if csp.params[situation * \"_value_selection\"] == \"order\"\n",
    "        return a\n",
    "    elseif csp.params[situation * \"_value_selection\"] == \"order_better\"\n",
    "        return abs(a - csp.n_variables / 2)\n",
    "    elseif csp.params[situation * \"_value_selection\"] == \"support\"\n",
    "        return csp.value_support[x][a]\n",
    "    else\n",
    "        error(situation * \" value selection method unknown\")\n",
    "    end\n",
    "end\n",
    "\n",
    "function sort_values!(csp::CSP, x::Int64, situation::String)\n",
    "    if csp.params[situation * \"_value_selection\"] != \"none\"\n",
    "        value_sorting_criterion(a::Int64) = evaluate_value(csp, x, a, situation)\n",
    "        sort!(csp.domain[x][1:csp.domain_max[x]], by=value_sorting_criterion)\n",
    "    end\n",
    "end\n",
    "\n",
    "function sort_all_values!(csp::CSP)\n",
    "    for x in 1:csp.n_variables\n",
    "        sort_values!(csp, x, \"static\")\n",
    "    end\n",
    "end"
   ]
  },
  {
   "cell_type": "markdown",
   "metadata": {},
   "source": [
    "### 1.5) Look-ahead"
   ]
  },
  {
   "cell_type": "code",
   "execution_count": 11,
   "metadata": {
    "ExecuteTime": {
     "end_time": "2019-03-17T11:42:40.501000+01:00",
     "start_time": "2019-03-17T10:42:15.049Z"
    }
   },
   "outputs": [
    {
     "data": {
      "text/plain": [
       "undo_look_ahead! (generic function with 1 method)"
      ]
     },
     "execution_count": 11,
     "metadata": {},
     "output_type": "execute_result"
    }
   ],
   "source": [
    "function do_look_ahead!(csp::CSP, instantiation::Array{Int64, 1}, x::Int64)\n",
    "    previous_domain_max::Array{Int64, 1} = copy(csp.domain_max)\n",
    "    \n",
    "    a::Int64 = instantiation[x]\n",
    "    for i in 1:csp.domain_max[x]\n",
    "        if (csp.domain[x][i] == a)\n",
    "            csp.domain[x][i] = csp.domain[x][1]\n",
    "            csp.domain[x][1] = a\n",
    "            csp.domain_max[x] = 1\n",
    "            break\n",
    "        end\n",
    "    end\n",
    "    \n",
    "    if csp.params[\"look_ahead\"] == \"FC\"\n",
    "        forward_checking!(csp, instantiation, x)\n",
    "    elseif csp.params[\"look_ahead\"] == \"MAC3\"\n",
    "        AC3!(csp, instantiation)\n",
    "    end\n",
    "    \n",
    "    return previous_domain_max\n",
    "end\n",
    "\n",
    "function undo_look_ahead!(csp::CSP, previous_domain_max::Array{Int64, 1})\n",
    "    csp.domain_max = copy(previous_domain_max)\n",
    "end"
   ]
  },
  {
   "cell_type": "code",
   "execution_count": 12,
   "metadata": {
    "ExecuteTime": {
     "end_time": "2019-03-17T11:42:40.820000+01:00",
     "start_time": "2019-03-17T10:42:15.053Z"
    }
   },
   "outputs": [
    {
     "data": {
      "text/plain": [
       "forward_checking! (generic function with 1 method)"
      ]
     },
     "execution_count": 12,
     "metadata": {},
     "output_type": "execute_result"
    }
   ],
   "source": [
    "function forward_checking!(csp::CSP, instantiation::Array{Int64, 1}, x::Int64)\n",
    "    \n",
    "    a::Int64 = instantiation[x]\n",
    "    \n",
    "    for cons in csp.var1_constraints[x]\n",
    "        y = csp.constraint_var2[cons]\n",
    "        if instantiation[y] != -1\n",
    "            continue\n",
    "        end\n",
    "\n",
    "        j = 1\n",
    "        while j <= csp.domain_max[y]\n",
    "            b = csp.domain[y][j]\n",
    "            if csp.matrix_storage\n",
    "                satisfied = csp.constraint_satisfaction_mat[cons][a, b]\n",
    "            else\n",
    "                satisfied = csp.constraint_satisfaction_fun[cons](csp, x, y, a, b)\n",
    "            end\n",
    "            if !satisfied\n",
    "                csp.domain[y][j] = csp.domain[y][csp.domain_max[y]]\n",
    "                csp.domain[y][csp.domain_max[y]] = b\n",
    "                csp.domain_max[y] -= 1\n",
    "            else\n",
    "                j += 1\n",
    "            end\n",
    "        end\n",
    "    end\n",
    "end"
   ]
  },
  {
   "cell_type": "code",
   "execution_count": 13,
   "metadata": {
    "ExecuteTime": {
     "end_time": "2019-03-17T11:42:41.279000+01:00",
     "start_time": "2019-03-17T10:42:15.055Z"
    }
   },
   "outputs": [
    {
     "data": {
      "text/plain": [
       "AC3! (generic function with 1 method)"
      ]
     },
     "execution_count": 13,
     "metadata": {},
     "output_type": "execute_result"
    }
   ],
   "source": [
    "function AC3!(csp::CSP, instantiation::Array{Int64, 1})\n",
    "    \n",
    "    to_test = Set{Int64}()\n",
    "    for cons in 1:csp.n_constraints\n",
    "        push!(to_test, cons)\n",
    "    end\n",
    "    \n",
    "    while !isempty(to_test)\n",
    "        cons = pop!(to_test)\n",
    "        x = csp.constraint_var1[cons]\n",
    "        y = csp.constraint_var2[cons]\n",
    "        \n",
    "        i = 1\n",
    "        while i <= csp.domain_max[x]\n",
    "            a = csp.domain[x][i]\n",
    "            a_supported::Bool = false\n",
    "            for b in csp.domain[y][1:csp.domain_max[y]]\n",
    "                if csp.matrix_storage\n",
    "                    satisfied = csp.constraint_satisfaction_mat[cons][a, b]\n",
    "                else\n",
    "                    satisfied = csp.constraint_satisfaction_fun[cons](csp, x, y, a, b)\n",
    "                end\n",
    "                if satisfied\n",
    "                    a_supported = true\n",
    "                    break\n",
    "                end\n",
    "            end\n",
    "            \n",
    "            if !a_supported\n",
    "                csp.domain[x][i] = csp.domain[x][csp.domain_max[x]]\n",
    "                csp.domain[x][csp.domain_max[x]] = a\n",
    "                csp.domain_max[x] -= 1\n",
    "                for cons_impacted in csp.var2_constraints[x]\n",
    "                    if csp.constraint_var1[cons] != y\n",
    "                        push!(to_test, cons_impacted)\n",
    "                    end\n",
    "                end\n",
    "            else\n",
    "                i += 1\n",
    "            end\n",
    "        end\n",
    "    end\n",
    "\n",
    "end"
   ]
  },
  {
   "cell_type": "markdown",
   "metadata": {},
   "source": [
    "### 1.6) Backtracking"
   ]
  },
  {
   "cell_type": "code",
   "execution_count": 14,
   "metadata": {
    "ExecuteTime": {
     "end_time": "2019-03-17T11:42:41.794000+01:00",
     "start_time": "2019-03-17T10:42:15.062Z"
    }
   },
   "outputs": [
    {
     "data": {
      "text/plain": [
       "backtrack! (generic function with 2 methods)"
      ]
     },
     "execution_count": 14,
     "metadata": {},
     "output_type": "execute_result"
    }
   ],
   "source": [
    "function backtrack!(\n",
    "        csp::CSP,\n",
    "        instantiation::Array{Int64, 1},\n",
    "        last_x::Int64,\n",
    "        nodes_explored::Int64,\n",
    "        initial_time::Float64\n",
    "    )\n",
    "    if time() - initial_time > csp.params[\"time_limit\"]\n",
    "        throw(OutOfMemoryError())\n",
    "    end\n",
    "\n",
    "    if !check_feasibility(csp, instantiation, last_x)\n",
    "        return (false, instantiation, nodes_explored)\n",
    "    end\n",
    "    \n",
    "    x = choose_next_variable(csp, instantiation)\n",
    "    if x == -1\n",
    "        return (true, instantiation, nodes_explored)\n",
    "    end\n",
    "        \n",
    "    sort_values!(csp, x, \"dynamic\")\n",
    "    domain_to_explore = copy(csp.domain[x][1:csp.domain_max[x]])\n",
    "    for a in domain_to_explore\n",
    "        nodes_explored += 1\n",
    "        instantiation[x] = a\n",
    "        look_ahead_result = do_look_ahead!(csp, instantiation, x)\n",
    "                \n",
    "        (solution_found, solution, nodes_explored) = backtrack!(\n",
    "            csp, instantiation, x, nodes_explored, initial_time)\n",
    "        if solution_found\n",
    "            return (true, solution, nodes_explored)\n",
    "        end\n",
    "        \n",
    "        instantiation[x] = -1\n",
    "        undo_look_ahead!(csp, look_ahead_result)\n",
    "\n",
    "    end\n",
    "    return false, instantiation, nodes_explored\n",
    "end\n",
    "\n",
    "function backtrack!(csp::CSP)\n",
    "    backtrack!(csp, -ones(Int64, csp.n_variables), -1, 0, time())\n",
    "end"
   ]
  },
  {
   "cell_type": "code",
   "execution_count": 15,
   "metadata": {
    "ExecuteTime": {
     "end_time": "2019-03-17T11:42:42.179000+01:00",
     "start_time": "2019-03-17T10:42:15.065Z"
    }
   },
   "outputs": [
    {
     "data": {
      "text/plain": [
       "set_time_limit! (generic function with 1 method)"
      ]
     },
     "execution_count": 15,
     "metadata": {},
     "output_type": "execute_result"
    }
   ],
   "source": [
    "function add_matrix_storage!(csp::CSP)\n",
    "    csp.matrix_storage = true\n",
    "    for cons in 1:csp.n_constraints\n",
    "        x = csp.constraint_var1[cons]\n",
    "        y = csp.constraint_var2[cons]\n",
    "        satisfaction = zeros(Bool, length(csp.domain[x]), length(csp.domain[y]))\n",
    "        for a in csp.domain[x], b in csp.domain[y]\n",
    "            if csp.constraint_satisfaction_fun[cons](csp, x, y, a, b)\n",
    "                satisfaction[a, b] = true\n",
    "                csp.value_support[x][a] += 1\n",
    "                csp.value_support[y][b] += 1\n",
    "            end\n",
    "        end\n",
    "        push!(csp.constraint_satisfaction_mat, satisfaction)\n",
    "    end\n",
    "end\n",
    "\n",
    "function set_time_limit!(csp::CSP, time_limit::Float64, restarts::Int64)\n",
    "    randomness_present = false\n",
    "    for (key, val) in csp.params\n",
    "        if typeof(val) == String && occursin(\"random\", val)\n",
    "            randomness_present = true\n",
    "            break\n",
    "        end\n",
    "    end\n",
    "    if !randomness_present\n",
    "        csp.params[\"time_limit\"] = time_limit * restarts\n",
    "        csp.params[\"restarts\"] = 1\n",
    "    else\n",
    "        csp.params[\"time_limit\"] = time_limit\n",
    "        csp.params[\"restarts\"] = restarts\n",
    "    end\n",
    "end"
   ]
  },
  {
   "cell_type": "code",
   "execution_count": 16,
   "metadata": {
    "ExecuteTime": {
     "end_time": "2019-03-17T11:42:42.567000+01:00",
     "start_time": "2019-03-17T10:42:15.067Z"
    }
   },
   "outputs": [
    {
     "data": {
      "text/plain": [
       "solve_verbose! (generic function with 1 method)"
      ]
     },
     "execution_count": 16,
     "metadata": {},
     "output_type": "execute_result"
    }
   ],
   "source": [
    "function solve!(csp::CSP, time_limit::Float64, restarts::Int64) \n",
    "    initial_time = time()\n",
    "    set_time_limit!(csp, time_limit, restarts)\n",
    "    if csp.params[\"matrix_storage\"]\n",
    "        add_matrix_storage!(csp)\n",
    "    end\n",
    "    sort_all_values!(csp)\n",
    "\n",
    "    domain, domain_max = backup_domains(csp)\n",
    "    for restart in 1:csp.params[\"restarts\"]\n",
    "        try\n",
    "            status, instantiation, nodes_explored = backtrack!(csp)\n",
    "            return (status, instantiation, nodes_explored, time() - initial_time)\n",
    "        catch e\n",
    "            if isa(e, OutOfMemoryError)\n",
    "                restore_domains!(csp, domain, domain_max)\n",
    "                continue\n",
    "            else\n",
    "                rethrow(e)\n",
    "            end\n",
    "        end\n",
    "    end\n",
    "    return nothing\n",
    "end\n",
    "\n",
    "function solve!(csp::CSP)\n",
    "    return solve!(csp, 1., 5)\n",
    "end\n",
    "\n",
    "function solve_verbose!(csp::CSP)\n",
    "    (status, instantiation, nodes_explored) = solve!(csp)\n",
    "    if !status\n",
    "        println(\"\\nStatus: unfeasible\")\n",
    "    else\n",
    "        println(\"\\nStatus: solved\")\n",
    "        println(\"\\nNodes explored: \", nodes_explored)\n",
    "        println(\"\\nSolution: \")\n",
    "        for x in 1:csp.n_variables\n",
    "            println(csp.names[x], \": \", instantiation[x])\n",
    "        end\n",
    "    end\n",
    "    println()\n",
    "    return (status, instantiation, nodes_explored)\n",
    "end"
   ]
  },
  {
   "cell_type": "markdown",
   "metadata": {},
   "source": [
    "## 2. Applications"
   ]
  },
  {
   "cell_type": "markdown",
   "metadata": {},
   "source": [
    "### 2.1) N-queens problem"
   ]
  },
  {
   "cell_type": "code",
   "execution_count": 17,
   "metadata": {
    "ExecuteTime": {
     "end_time": "2019-03-17T11:42:42.902000+01:00",
     "start_time": "2019-03-17T10:42:15.069Z"
    }
   },
   "outputs": [
    {
     "data": {
      "text/plain": [
       "check_instantiation_nqueens (generic function with 1 method)"
      ]
     },
     "execution_count": 17,
     "metadata": {},
     "output_type": "execute_result"
    }
   ],
   "source": [
    "function compatibility_nqueens(csp::CSP, var1::Int64, var2::Int64, value1::Int64, value2::Int64)\n",
    "    return (value1 != value2) && abs(value1 - value2) != abs(var1 - var2)\n",
    "end\n",
    "\n",
    "function define_nqueens(n::Int64)\n",
    "    csp = CSP()\n",
    "    for i in 1:n\n",
    "        name = \"col_\" * string(i)\n",
    "        domain_size = n\n",
    "        add_variable!(csp, name, domain_size)\n",
    "    end\n",
    "    for i in 1:n, j in 1:n\n",
    "        if (i != j)\n",
    "            add_constraint!(csp, i, j, compatibility_nqueens)\n",
    "        end\n",
    "    end\n",
    "    return csp\n",
    "end\n",
    "\n",
    "function visualize_nqueens(csp::CSP, instantiation::Array{Int64, 1})\n",
    "    instantiation_dict::Dict{String, Int64} = Dict(\n",
    "        csp.names[var] => instantiation[var] for var in 1:csp.n_variables)\n",
    "    n::Int64 = length(instantiation_dict)\n",
    "    for i in 1:n\n",
    "        println()\n",
    "        for j in 1:n\n",
    "            if instantiation_dict[\"col_\" * string(i)] == j\n",
    "                print(\" Q\")\n",
    "            else\n",
    "                print(\" .\")\n",
    "            end\n",
    "        end\n",
    "    end\n",
    "end\n",
    "\n",
    "function check_instantiation_nqueens(csp::CSP, instantiation::Array{Int64, 1})\n",
    "    n::Int64 = length(instantiation)\n",
    "    for var1 in 1:n, var2 in 1:var1-1\n",
    "        if !compatibility_nqueens(csp, var1, var2, instantiation[var1], instantiation[var2])\n",
    "            return false\n",
    "        end\n",
    "    end\n",
    "    return true\n",
    "end"
   ]
  },
  {
   "cell_type": "code",
   "execution_count": 18,
   "metadata": {
    "ExecuteTime": {
     "end_time": "2019-03-17T11:42:43.881000+01:00",
     "start_time": "2019-03-17T10:42:15.071Z"
    }
   },
   "outputs": [
    {
     "name": "stdout",
     "output_type": "stream",
     "text": [
      "\n",
      "Status: solved\n",
      "\n",
      "Nodes explored: 81\n",
      "\n",
      "Solution: \n",
      "col_1: 1\n",
      "col_2: 10\n",
      "col_3: 7\n",
      "col_4: 5\n",
      "col_5: 8\n",
      "col_6: 2\n",
      "col_7: 9\n",
      "col_8: 3\n",
      "col_9: 6\n",
      "col_10: 4\n",
      "\n",
      "\n",
      " Q . . . . . . . . .\n",
      " . . . . . . . . . Q\n",
      " . . . . . . Q . . .\n",
      " . . . . Q . . . . .\n",
      " . . . . . . . Q . .\n",
      " . Q . . . . . . . .\n",
      " . . . . . . . . Q .\n",
      " . . Q . . . . . . .\n",
      " . . . . . Q . . . .\n",
      " . . . Q . . . . . ."
     ]
    }
   ],
   "source": [
    "nqueens_small = define_nqueens(10)\n",
    "b, i, n = solve_verbose!(nqueens_small)\n",
    "visualize_nqueens(nqueens_small, i)"
   ]
  },
  {
   "cell_type": "code",
   "execution_count": 19,
   "metadata": {
    "ExecuteTime": {
     "end_time": "2019-03-17T11:42:45.481000+01:00",
     "start_time": "2019-03-17T10:42:15.072Z"
    }
   },
   "outputs": [
    {
     "name": "stdout",
     "output_type": "stream",
     "text": [
      "  0.449904 seconds (3.37 k allocations: 3.663 MiB, 0.95% gc time)\n"
     ]
    },
    {
     "data": {
      "text/plain": [
       "(true, [227, 234, 260, 255, 209, 247, 226, 276, 301, 344  …  362, 343, 44, 338, 64, 369, 349, 345, 356, 340], 418, 0.44989991188049316)"
      ]
     },
     "execution_count": 19,
     "metadata": {},
     "output_type": "execute_result"
    }
   ],
   "source": [
    "nqueens_big = define_nqueens(405)\n",
    "set_params(nqueens_big, Dict(\"variable_selection\"=>\"domain_size_random\"))\n",
    "@time res = solve!(nqueens_big, 1., 5)"
   ]
  },
  {
   "cell_type": "markdown",
   "metadata": {},
   "source": [
    "### 2.2) Knight's tour"
   ]
  },
  {
   "cell_type": "code",
   "execution_count": 20,
   "metadata": {
    "ExecuteTime": {
     "end_time": "2019-03-17T11:42:45.596000+01:00",
     "start_time": "2019-03-17T10:42:15.074Z"
    }
   },
   "outputs": [
    {
     "data": {
      "text/plain": [
       "square_from_coord (generic function with 1 method)"
      ]
     },
     "execution_count": 20,
     "metadata": {},
     "output_type": "execute_result"
    }
   ],
   "source": [
    "function coord_from_square(square::Int64, board_size::Int64)\n",
    "    row = div(square - 1, board_size) + 1\n",
    "    col = rem(square - 1, board_size) + 1\n",
    "    return (row, col)\n",
    "end\n",
    "\n",
    "function square_from_coord(row::Int64, col::Int64, board_size::Int64)\n",
    "    square = (row-1) * board_size + col\n",
    "    return square\n",
    "end"
   ]
  },
  {
   "cell_type": "code",
   "execution_count": 21,
   "metadata": {
    "ExecuteTime": {
     "end_time": "2019-03-17T11:42:45.749000+01:00",
     "start_time": "2019-03-17T10:42:15.076Z"
    }
   },
   "outputs": [
    {
     "data": {
      "text/plain": [
       "piece_move (generic function with 1 method)"
      ]
     },
     "execution_count": 21,
     "metadata": {},
     "output_type": "execute_result"
    }
   ],
   "source": [
    "function rook_move(square1::Int64, square2::Int64, n::Int64)\n",
    "    row1, col1 = coord_from_square(square1, n)\n",
    "    row2, col2 = coord_from_square(square2, n)\n",
    "    return (square1 != square2) && ((row1 == row2) || (col1 == col2))\n",
    "end\n",
    "\n",
    "function bishop_move(square1::Int64, square2::Int64, n::Int64)\n",
    "    row1, col1 = coord_from_square(square1, n)\n",
    "    row2, col2 = coord_from_square(square2, n)\n",
    "    return (square1 != square2) && (abs(row1 - row2) == abs(col1 - col2))\n",
    "end\n",
    "\n",
    "function knight_move(square1::Int64, square2::Int64, n::Int64)\n",
    "    row1, col1 = coord_from_square(square1, n)\n",
    "    row2, col2 = coord_from_square(square2, n)\n",
    "    return (\n",
    "        (abs(row1 - row2) == 1 && abs(col1 - col2) == 2) ||\n",
    "        (abs(row1 - row2) == 2 && abs(col1 - col2) == 1)\n",
    "    )\n",
    "end\n",
    "\n",
    "function queen_move(square1::Int64, square2::Int64, n::Int64)\n",
    "    return rook_move(square1, square2, n) || bishop_move(square1, square2, n)\n",
    "end\n",
    "\n",
    "function king_move(square1::Int64, square2::Int64, n::Int64)\n",
    "    row1, col1 = coord_from_square(square1, n)\n",
    "    row2, col2 = coord_from_square(square2, n)\n",
    "    return (square1 != square2) && (max(abs(row1 - row2), abs(col1 - col2)) == 1)\n",
    "end\n",
    "\n",
    "function piece_move(square1::Int64, square2::Int64, n::Int64, piece::String)\n",
    "    if piece == \"knight\"\n",
    "        return knight_move(square1, square2, n)\n",
    "    elseif piece == \"bishop\"\n",
    "        return bishop_move(square1, square2, n)\n",
    "    elseif piece == \"rook\"\n",
    "        return rook_move(square1, square2, n)\n",
    "    elseif piece == \"queen\"\n",
    "        return queen_move(square1, square2, n)\n",
    "    elseif piece == \"king\"\n",
    "        return king_move(square1, square2, n)\n",
    "    end\n",
    "end"
   ]
  },
  {
   "cell_type": "code",
   "execution_count": 22,
   "metadata": {
    "ExecuteTime": {
     "end_time": "2019-03-17T11:42:45.910000+01:00",
     "start_time": "2019-03-17T10:42:15.078Z"
    }
   },
   "outputs": [
    {
     "data": {
      "text/plain": [
       "visualize_tour (generic function with 1 method)"
      ]
     },
     "execution_count": 22,
     "metadata": {},
     "output_type": "execute_result"
    }
   ],
   "source": [
    "function compatibility_tour(\n",
    "        csp::CSP,\n",
    "        var1::Int64, var2::Int64,\n",
    "        value1::Int64, value2::Int64,\n",
    "        n::Int64, piece::String\n",
    "    )\n",
    "    if abs(var1 - var2) > 1\n",
    "        return value1 != value2\n",
    "    else\n",
    "        return piece_move(value1, value2, n, piece)\n",
    "    end\n",
    "end\n",
    "\n",
    "function define_tour(n::Int64, piece::String)\n",
    "    csp = CSP()\n",
    "    if piece == \"bishop\"\n",
    "        n_pieces = div(n^2, 2)\n",
    "    else\n",
    "        n_pieces = n^2\n",
    "    end\n",
    "    for i in 1:n_pieces\n",
    "        name = \"position_\" * string(i)\n",
    "        domain_size = n^2\n",
    "        add_variable!(csp, name, domain_size)\n",
    "    end\n",
    "    for i in 1:n_pieces, j in 1:n_pieces\n",
    "        if (i != j)\n",
    "            compatibility_tour_piece(a, b, c, d, e) = compatibility_tour(a, b, c, d, e, n, piece)\n",
    "            add_constraint!(csp, i, j, compatibility_tour_piece)\n",
    "        end\n",
    "    end\n",
    "    return csp\n",
    "end\n",
    "\n",
    "function visualize_tour(csp::CSP, instantiation::Array{Int64, 1}, n::Int64)\n",
    "    instantiation_dict::Dict{String, Int64} = Dict(\n",
    "        csp.names[var] => instantiation[var] for var in 1:csp.n_variables)\n",
    "    for x in 1:n\n",
    "        println()\n",
    "        for y in 1:n\n",
    "            rank::Int64 = 0\n",
    "            for var in 1:length(instantiation_dict)\n",
    "                if instantiation_dict[\"position_\" * string(var)] == square_from_coord(x, y, n)\n",
    "                    rank = var\n",
    "                    break\n",
    "                end\n",
    "            end\n",
    "            print(string(rank) * \" \"^(3 - length(string(rank))))\n",
    "        end\n",
    "    end\n",
    "end "
   ]
  },
  {
   "cell_type": "code",
   "execution_count": 23,
   "metadata": {
    "ExecuteTime": {
     "end_time": "2019-03-17T11:43:27.226000+01:00",
     "start_time": "2019-03-17T10:42:15.082Z"
    },
    "scrolled": true
   },
   "outputs": [
    {
     "name": "stdout",
     "output_type": "stream",
     "text": [
      " 41.288985 seconds (58.18 M allocations: 8.346 GiB, 1.33% gc time)\n"
     ]
    },
    {
     "data": {
      "text/plain": [
       "(true, [1, 8, 15, 22, 29, 36, 30, 24, 23, 28  …  2, 7, 13, 19, 25, 31, 32, 33, 34, 35], 8303120, 41.29017090797424)"
      ]
     },
     "execution_count": 23,
     "metadata": {},
     "output_type": "execute_result"
    }
   ],
   "source": [
    "tour = define_tour(6, \"king\")\n",
    "@time res = solve!(tour, 120., 1)"
   ]
  },
  {
   "cell_type": "code",
   "execution_count": 24,
   "metadata": {
    "ExecuteTime": {
     "end_time": "2019-03-17T11:43:27.309000+01:00",
     "start_time": "2019-03-17T10:42:15.086Z"
    }
   },
   "outputs": [
    {
     "name": "stdout",
     "output_type": "stream",
     "text": [
      "\n",
      "1  27 26 24 23 22 \n",
      "28 2  16 25 21 19 \n",
      "29 15 3  17 18 20 \n",
      "30 14 13 4  9  8  \n",
      "31 12 11 10 5  7  \n",
      "32 33 34 35 36 6  "
     ]
    }
   ],
   "source": [
    "s, i, n, t = res\n",
    "visualize_tour(tour, i, 6)"
   ]
  },
  {
   "cell_type": "markdown",
   "metadata": {},
   "source": [
    "### 2.3) Graph coloring"
   ]
  },
  {
   "cell_type": "code",
   "execution_count": 25,
   "metadata": {
    "ExecuteTime": {
     "end_time": "2019-03-17T11:43:27.445000+01:00",
     "start_time": "2019-03-17T10:42:15.088Z"
    }
   },
   "outputs": [
    {
     "data": {
      "text/plain": [
       "find_maxclique (generic function with 1 method)"
      ]
     },
     "execution_count": 25,
     "metadata": {},
     "output_type": "execute_result"
    }
   ],
   "source": [
    "function generate_combinations(n::Int64, k::Int64)\n",
    "    if k==1\n",
    "        combs = Set([[i] for i in 1:n])\n",
    "    else\n",
    "        combs::Set{Array{Int64, 1}} = Set()\n",
    "        for c in generate_combinations(n, k-1)\n",
    "            for i in 1:n\n",
    "                if !(i in c)\n",
    "                    new_c = copy(c)\n",
    "                    push!(new_c, i)\n",
    "                    push!(combs, sort(new_c))\n",
    "                end\n",
    "            end\n",
    "        end\n",
    "        return combs\n",
    "    end\n",
    "end\n",
    "\n",
    "function check_clique(adj, c)\n",
    "    for u in c, v in c\n",
    "        if (u != v) && adj[u, v] == 0\n",
    "            return false\n",
    "        end\n",
    "    end\n",
    "    return true\n",
    "end\n",
    "\n",
    "function find_kclique(n_vertices, edges, k)\n",
    "    adj = zeros(Bool, n_vertices, n_vertices)\n",
    "    for (u, v) in edges\n",
    "        adj[u, v] = true\n",
    "        adj[v, u] = 1\n",
    "    end\n",
    "    for c in generate_combinations(n_vertices, k)\n",
    "       if check_clique(adj, c)\n",
    "            return c\n",
    "        end\n",
    "    end\n",
    "    return 0\n",
    "end\n",
    "\n",
    "function find_maxclique(n_vertices, edges)\n",
    "    start = time()\n",
    "    g = LightGraphs.SimpleGraph(n_vertices)\n",
    "    for (u, v) in edges\n",
    "        LightGraphs.add_edge!(g, u, v)\n",
    "    end\n",
    "    k = 0\n",
    "    maxclique::Array{Int64, 1} = Int64[]\n",
    "    for c in LightGraphs.maximal_cliques(g)\n",
    "        if length(c) >= k\n",
    "            k = length(c)\n",
    "            maxclique = c\n",
    "        end\n",
    "    end\n",
    "    stop = time()\n",
    "    return maxclique, stop-start\n",
    "end"
   ]
  },
  {
   "cell_type": "code",
   "execution_count": 26,
   "metadata": {
    "ExecuteTime": {
     "end_time": "2019-03-17T11:43:27.563000+01:00",
     "start_time": "2019-03-17T10:42:15.090Z"
    }
   },
   "outputs": [
    {
     "data": {
      "text/plain": [
       "ER_graph (generic function with 1 method)"
      ]
     },
     "execution_count": 26,
     "metadata": {},
     "output_type": "execute_result"
    }
   ],
   "source": [
    "function read_graph(path::String)\n",
    "    n_vertices = 0\n",
    "    edges = Array{Tuple{Int64, Int64}, 1}()\n",
    "    open(path) do file\n",
    "        for line in eachline(file)\n",
    "            split_line = split(line)\n",
    "            if line[1] == 'p'\n",
    "                n_vertices = parse(Int64, split_line[3])\n",
    "            elseif line[1] == 'e'\n",
    "                u = parse(Int64, split_line[2])\n",
    "                v = parse(Int64, split_line[3])\n",
    "                push!(edges, (u, v))\n",
    "            end\n",
    "        end\n",
    "    end\n",
    "    return n_vertices, edges\n",
    "end\n",
    "\n",
    "function ER_graph(n_vertices::Int64, p::Float64)\n",
    "    edges::Array{Tuple{Int64, Int64}, 1} = Tuple{Int64, Int64}[]\n",
    "    for u in 1:n_vertices, v in 1:u-1\n",
    "        if (rand() < p)\n",
    "            push!(edges, (u, v))\n",
    "            push!(edges, (v, u))\n",
    "        end\n",
    "    end\n",
    "    return n_vertices, edges\n",
    "end"
   ]
  },
  {
   "cell_type": "code",
   "execution_count": 27,
   "metadata": {
    "ExecuteTime": {
     "end_time": "2019-03-17T11:43:27.678000+01:00",
     "start_time": "2019-03-17T10:42:15.092Z"
    }
   },
   "outputs": [
    {
     "data": {
      "text/plain": [
       "define_coloring (generic function with 2 methods)"
      ]
     },
     "execution_count": 27,
     "metadata": {},
     "output_type": "execute_result"
    }
   ],
   "source": [
    "function compatibility_coloring(csp::CSP, var1::Int64, var2::Int64, value1::Int64, value2::Int64)\n",
    "    return value1 != value2\n",
    "end\n",
    "\n",
    "function define_coloring(\n",
    "        n_vertices::Int64, edges::Array{Tuple{Int64, Int64}, 1},\n",
    "        n_colors::Int64,\n",
    "        maxclique::Array{Int64, 1}\n",
    "    )\n",
    "    if length(maxclique) > n_colors\n",
    "        #error(\"No \" * string(n_colors) * \"-coloring exists, the maximum clique is too large\")\n",
    "        maxclique = maxclique[1:n_colors]\n",
    "    end\n",
    "    csp = CSP()\n",
    "    for u in 1:n_vertices\n",
    "        name = \"color_\" * string(u)\n",
    "        domain_size = n_colors\n",
    "        add_variable!(csp, name, domain_size)\n",
    "    end\n",
    "    for (u, v) in edges\n",
    "        add_constraint!(csp, u, v, compatibility_coloring)\n",
    "    end\n",
    "    for (i, u) in enumerate(maxclique)\n",
    "        add_individual_constraint!(csp, u, [i])\n",
    "    end\n",
    "    return csp\n",
    "end\n",
    "\n",
    "function define_coloring(n_vertices::Int64, edges::Array{Tuple{Int64, Int64}, 1}, n_colors::Int64)\n",
    "    maxclique, t = find_maxclique(n_vertices, edges)\n",
    "    return define_coloring(n_vertices, edges, n_colors, maxclique)\n",
    "end"
   ]
  },
  {
   "cell_type": "code",
   "execution_count": 28,
   "metadata": {
    "ExecuteTime": {
     "end_time": "2019-03-17T11:43:28.372000+01:00",
     "start_time": "2019-03-17T10:42:15.094Z"
    }
   },
   "outputs": [
    {
     "name": "stdout",
     "output_type": "stream",
     "text": [
      "(true, [1, 10, 10, 9, 9, 9, 2, 1, 3, 10, 1, 1, 1, 9, 10, 8, 8, 8, 7, 7, 1, 6, 1, 1, 9, 1, 8, 8, 9, 10, 10, 1, 1, 4, 6, 1, 1, 9, 5, 7, 1, 9, 10, 9, 10, 9, 1, 1, 1, 10, 1, 1, 10, 1, 10, 10, 7, 5, 6, 9, 10, 10, 6, 10, 1, 5, 10, 1, 5, 10, 1, 6, 4, 1, 8, 1, 7, 9, 8, 1], 80, 0.002719879150390625)\n",
      "(false, [-1, -1, -1, -1, -1, -1, -1, -1, -1, -1, -1, -1, -1, -1, -1, -1, -1, -1, -1, -1, -1, -1, -1, -1, -1, -1, -1, -1, -1, -1, -1, -1, -1, -1, -1, -1, -1, -1, -1, -1, -1, -1, -1, -1, -1, -1, -1, -1, -1, -1, -1, -1, -1, -1, -1, -1, -1, -1, -1, -1, -1, -1, -1, -1, -1, -1, -1, -1, -1, -1, -1, -1, -1, -1, -1, -1, -1, -1, -1, -1], 9, 0.00017690658569335938)\n"
     ]
    }
   ],
   "source": [
    "n_vertices, edges = read_graph(\"graphs/jean.col\")\n",
    "\n",
    "coloring = define_coloring(n_vertices, edges, 10)\n",
    "println(solve!(coloring))\n",
    "\n",
    "coloring_impossible = define_coloring(n_vertices, edges, 9)\n",
    "println(solve!(coloring_impossible))"
   ]
  },
  {
   "cell_type": "markdown",
   "metadata": {},
   "source": [
    "## 3. Benchmarks"
   ]
  },
  {
   "cell_type": "markdown",
   "metadata": {},
   "source": [
    "### 3.1) N-queens"
   ]
  },
  {
   "cell_type": "markdown",
   "metadata": {},
   "source": [
    "Look-ahead"
   ]
  },
  {
   "cell_type": "code",
   "execution_count": 29,
   "metadata": {
    "ExecuteTime": {
     "end_time": "2019-03-17T11:50:34.881000+01:00",
     "start_time": "2019-03-17T10:42:15.100Z"
    }
   },
   "outputs": [
    {
     "name": "stderr",
     "output_type": "stream",
     "text": [
      "\u001b[32mProgress: 100%|█████████████████████████████████████████| Time: 0:07:06\u001b[39m\n"
     ]
    }
   ],
   "source": [
    "sizes = Dict{String, Array{Int64, 1}}()\n",
    "nodes = Dict{String, Array{Int64, 1}}()\n",
    "times = Dict{String, Array{Float64, 1}}()\n",
    "\n",
    "for look_ahead_method in [\"none\", \"FC\", \"MAC3\"]\n",
    "    sizes[look_ahead_method] = Int64[]\n",
    "    nodes[look_ahead_method] = Int64[]\n",
    "    times[look_ahead_method] = Float64[]\n",
    "end\n",
    "\n",
    "@showprogress for N in vcat(collect(5:20), collect(20:15:200), collect(200:25:400))\n",
    "    for look_ahead_method in [\"none\", \"FC\", \"MAC3\"]\n",
    "        nqueens = define_nqueens(N)\n",
    "        set_params(nqueens, Dict(\"look_ahead\"=>look_ahead_method))\n",
    "        res = solve!(nqueens, 5., 1)\n",
    "        if res != nothing\n",
    "            s, i, n, t = res\n",
    "            push!(sizes[look_ahead_method], N)\n",
    "            push!(nodes[look_ahead_method], n)\n",
    "            push!(times[look_ahead_method], t)\n",
    "        end\n",
    "    end\n",
    "end"
   ]
  },
  {
   "cell_type": "code",
   "execution_count": 30,
   "metadata": {
    "ExecuteTime": {
     "end_time": "2019-03-17T11:50:38.078000+01:00",
     "start_time": "2019-03-17T10:42:15.102Z"
    }
   },
   "outputs": [
    {
     "data": {
      "image/png": "[encoded data removed]",
      "text/plain": [
       "Figure(PyObject <Figure size 640x480 with 1 Axes>)"
      ]
     },
     "metadata": {},
     "output_type": "display_data"
    }
   ],
   "source": [
    "close()\n",
    "yscale(\"log\")\n",
    "xscale(\"log\")\n",
    "for look_ahead_method in [\"none\", \"FC\", \"MAC3\"]\n",
    "    plot(sizes[look_ahead_method], times[look_ahead_method], label=look_ahead_method)\n",
    "end\n",
    "legend()\n",
    "xlabel(\"Number of queens\")\n",
    "ylabel(\"Computation time [s]\")\n",
    "title(\"Comparison between look-ahead methods\")\n",
    "show()"
   ]
  },
  {
   "cell_type": "code",
   "execution_count": 31,
   "metadata": {
    "ExecuteTime": {
     "end_time": "2019-03-17T11:50:38.598000+01:00",
     "start_time": "2019-03-17T10:42:15.104Z"
    }
   },
   "outputs": [
    {
     "data": {
      "image/png": "[encoded data removed]",
      "text/plain": [
       "Figure(PyObject <Figure size 640x480 with 1 Axes>)"
      ]
     },
     "metadata": {},
     "output_type": "display_data"
    }
   ],
   "source": [
    "close()\n",
    "yscale(\"log\")\n",
    "xscale(\"log\")\n",
    "for look_ahead_method in [\"none\", \"FC\", \"MAC3\"]\n",
    "    plot(sizes[look_ahead_method], nodes[look_ahead_method], label=look_ahead_method)\n",
    "end\n",
    "legend()\n",
    "xlabel(\"Number of queens\")\n",
    "ylabel(\"Nodes explored\")\n",
    "title(\"Comparison between look-ahead methods\")\n",
    "show()"
   ]
  },
  {
   "cell_type": "markdown",
   "metadata": {},
   "source": [
    "Variable selection"
   ]
  },
  {
   "cell_type": "code",
   "execution_count": 32,
   "metadata": {
    "ExecuteTime": {
     "end_time": "2019-03-17T11:55:15.743000+01:00",
     "start_time": "2019-03-17T10:42:15.106Z"
    }
   },
   "outputs": [
    {
     "name": "stderr",
     "output_type": "stream",
     "text": [
      "\u001b[32mProgress: 100%|█████████████████████████████████████████| Time: 0:02:16\u001b[39m\n",
      "\u001b[32mProgress: 100%|█████████████████████████████████████████| Time: 0:02:21\u001b[39m\n"
     ]
    }
   ],
   "source": [
    "sizes = Dict{String, Array{Int64, 1}}()\n",
    "times = Dict{String, Array{Float64, 1}}()\n",
    "\n",
    "for var_selection_method in [\n",
    "        \"order\", \"order_better\", \"random\",\n",
    "        \"domain_size\", \"domain_size_better\", \"domain_size_random\"\n",
    "    ]\n",
    "    sizes[var_selection_method] = Int64[]\n",
    "    times[var_selection_method] = Float64[]\n",
    "end\n",
    "\n",
    "@showprogress for N in vcat(collect(5:20), collect(20:15:200))\n",
    "    for var_selection_method in [\n",
    "            \"order\", \"order_better\", \"random\",\n",
    "        ]\n",
    "        nqueens = define_nqueens(N)\n",
    "        set_params(nqueens, Dict(\"variable_selection\"=>var_selection_method))\n",
    "        res = solve!(nqueens, 1., 5)\n",
    "        if res != nothing\n",
    "            s, i, n, t = res\n",
    "            push!(sizes[var_selection_method], N)\n",
    "            push!(times[var_selection_method], t)\n",
    "        end\n",
    "    end\n",
    "end\n",
    "    \n",
    "@showprogress for N in vcat(collect(20:15:200), collect(200:25:500))\n",
    "    for var_selection_method in [\n",
    "            \"domain_size\", \"domain_size_better\", \"domain_size_random\"\n",
    "        ]\n",
    "        nqueens = define_nqueens(N)\n",
    "        set_params(nqueens, Dict(\"variable_selection\"=>var_selection_method))\n",
    "        res = solve!(nqueens, 1., 5)\n",
    "        if res != nothing\n",
    "            s, i, n, t = res\n",
    "            push!(sizes[var_selection_method], N)\n",
    "            push!(times[var_selection_method], t)\n",
    "        end\n",
    "    end\n",
    "end"
   ]
  },
  {
   "cell_type": "code",
   "execution_count": 33,
   "metadata": {
    "ExecuteTime": {
     "end_time": "2019-03-17T11:55:16.311000+01:00",
     "start_time": "2019-03-17T10:42:15.108Z"
    }
   },
   "outputs": [
    {
     "data": {
      "image/png": "[encoded data removed]",
      "text/plain": [
       "Figure(PyObject <Figure size 640x480 with 1 Axes>)"
      ]
     },
     "metadata": {},
     "output_type": "display_data"
    }
   ],
   "source": [
    "close()\n",
    "yscale(\"log\")\n",
    "xscale(\"log\")\n",
    "ylim(1e-6, 10)\n",
    "for var_selection_method in [\"order\", \"order_better\", \"random\"] \n",
    "    plot(sizes[var_selection_method], times[var_selection_method], label=var_selection_method)\n",
    "end\n",
    "legend()\n",
    "xlabel(\"Number of queens\")\n",
    "ylabel(\"Computation time [s]\")\n",
    "title(\"Performance of simple variable selection methods\")\n",
    "show()"
   ]
  },
  {
   "cell_type": "code",
   "execution_count": 34,
   "metadata": {
    "ExecuteTime": {
     "end_time": "2019-03-17T11:55:16.841000+01:00",
     "start_time": "2019-03-17T10:42:15.110Z"
    }
   },
   "outputs": [
    {
     "data": {
      "image/png": "[encoded data removed]",
      "text/plain": [
       "Figure(PyObject <Figure size 640x480 with 1 Axes>)"
      ]
     },
     "metadata": {},
     "output_type": "display_data"
    }
   ],
   "source": [
    "close()\n",
    "yscale(\"log\")\n",
    "xscale(\"log\")\n",
    "ylim(1e-6, 10)\n",
    "for var_selection_method in [\"domain_size\", \"domain_size_better\", \"domain_size_random\"] \n",
    "    plot(sizes[var_selection_method], times[var_selection_method], label=var_selection_method)\n",
    "end\n",
    "legend()\n",
    "xlabel(\"Number of queens\")\n",
    "ylabel(\"Computation time [s]\")\n",
    "title(\"Performance of variable selection methods based on domain size\")\n",
    "show()"
   ]
  },
  {
   "cell_type": "markdown",
   "metadata": {},
   "source": [
    "### 3.2) Knight's tour"
   ]
  },
  {
   "cell_type": "code",
   "execution_count": 35,
   "metadata": {
    "ExecuteTime": {
     "end_time": "2019-03-17T12:00:17.493000+01:00",
     "start_time": "2019-03-17T10:42:15.112Z"
    }
   },
   "outputs": [
    {
     "name": "stderr",
     "output_type": "stream",
     "text": [
      "\u001b[32mProgress: 100%|█████████████████████████████████████████| Time: 0:05:01\u001b[39m\n"
     ]
    }
   ],
   "source": [
    "sizes = Dict{String, Array{Int64, 1}}()\n",
    "times = Dict{String, Array{Float64, 1}}()\n",
    "\n",
    "for piece in [\"rook\", \"queen\", \"king\", \"knight\"]\n",
    "    sizes[piece] = Int64[]\n",
    "    times[piece] = Float64[]\n",
    "end\n",
    "\n",
    "@showprogress for N in collect(3:10)\n",
    "    for piece in [\"rook\", \"queen\", \"king\", \"knight\"]\n",
    "        \n",
    "        tour = define_tour(N, piece)\n",
    "        res = solve!(tour, 30., 1)\n",
    "        if res != nothing\n",
    "            s, i, n, t = res\n",
    "            push!(sizes[piece], N)\n",
    "            push!(times[piece], t)\n",
    "        end\n",
    "    end\n",
    "end"
   ]
  },
  {
   "cell_type": "code",
   "execution_count": 36,
   "metadata": {
    "ExecuteTime": {
     "end_time": "2019-03-17T12:00:18.244000+01:00",
     "start_time": "2019-03-17T10:42:15.115Z"
    }
   },
   "outputs": [
    {
     "data": {
      "image/png": "[encoded data removed]",
      "text/plain": [
       "Figure(PyObject <Figure size 640x480 with 1 Axes>)"
      ]
     },
     "metadata": {},
     "output_type": "display_data"
    }
   ],
   "source": [
    "close()\n",
    "yscale(\"log\")\n",
    "ylim(1e-6, 30)\n",
    "for piece in [\"rook\", \"queen\", \"king\", \"knight\"]\n",
    "    plot(sizes[piece], times[piece],\n",
    "        linestyle=\"-\", label=piece)\n",
    "end\n",
    "legend()\n",
    "xlabel(\"Size of the board\")\n",
    "ylabel(\"Computation time [s]\")\n",
    "title(\"Euler's knights et al.\")\n",
    "show()"
   ]
  },
  {
   "cell_type": "markdown",
   "metadata": {},
   "source": [
    "### 3.3) Graph coloration"
   ]
  },
  {
   "cell_type": "markdown",
   "metadata": {},
   "source": [
    "Graphs provided"
   ]
  },
  {
   "cell_type": "code",
   "execution_count": 47,
   "metadata": {
    "ExecuteTime": {
     "end_time": "2019-03-17T12:19:23.678000+01:00",
     "start_time": "2019-03-17T11:19:23.655Z"
    }
   },
   "outputs": [],
   "source": [
    "n_colors_dict = Dict{String, Int64}()\n",
    "open(\"graphs/description.txt\") do file\n",
    "    for line in eachline(file)\n",
    "        split_line = split(line, \" \")\n",
    "        file = split_line[1]\n",
    "        n_colors_string = split(split_line[3], \",\")[1]\n",
    "        if n_colors_string != \"?\"\n",
    "            n_colors = parse(Int64, n_colors_string)\n",
    "            n_colors_dict[file] = n_colors\n",
    "        end\n",
    "    end\n",
    "end"
   ]
  },
  {
   "cell_type": "code",
   "execution_count": 55,
   "metadata": {
    "ExecuteTime": {
     "end_time": "2019-03-17T12:34:38.708000+01:00",
     "start_time": "2019-03-17T11:34:38.705Z"
    }
   },
   "outputs": [],
   "source": [
    "max_time = 5.\n",
    "restarts = 5;"
   ]
  },
  {
   "cell_type": "code",
   "execution_count": 57,
   "metadata": {
    "ExecuteTime": {
     "end_time": "2019-03-17T12:45:42.316000+01:00",
     "start_time": "2019-03-17T11:36:29.857Z"
    }
   },
   "outputs": [
    {
     "name": "stdout",
     "output_type": "stream",
     "text": [
      "\n",
      "anna.col - 10 colors\n",
      "Coloring exists: false\n",
      "Solving time: 0.0014967918395996094\n",
      "anna.col - 11 colors\n",
      "Coloring exists: true\n",
      "Solving time: 0.0036780834197998047\n",
      "\n",
      "david.col - 10 colors\n",
      "Coloring exists: false\n",
      "Solving time: 0.0009448528289794922\n",
      "david.col - 11 colors\n",
      "Coloring exists: true\n",
      "Solving time: 0.0018999576568603516\n",
      "\n",
      "games120.col - 8 colors\n",
      "Coloring exists: false\n",
      "Solving time: 0.001870870590209961\n",
      "games120.col - 9 colors\n",
      "Coloring exists: true\n",
      "Solving time: 0.004010915756225586\n",
      "\n",
      "homer.col - 12 colors\n",
      "Coloring exists: false\n",
      "Solving time: 0.01440119743347168\n",
      "homer.col - 13 colors\n",
      "Time out\n",
      "\n",
      "huck.col - 10 colors\n",
      "Coloring exists: false\n",
      "Solving time: 0.0006110668182373047\n",
      "huck.col - 11 colors\n",
      "Coloring exists: true\n",
      "Solving time: 0.0011980533599853516\n",
      "\n",
      "jean.col - 9 colors\n",
      "Coloring exists: false\n",
      "Solving time: 0.0006010532379150391\n",
      "jean.col - 10 colors\n",
      "Coloring exists: true\n",
      "Solving time: 0.0013308525085449219\n",
      "\n",
      "le450_15a.col - 14 colors\n",
      "Time out\n",
      "le450_15a.col - 15 colors\n",
      "Time out\n",
      "\n",
      "le450_15b.col - 14 colors\n",
      "Coloring exists: false\n",
      "Solving time: 0.105010986328125\n",
      "le450_15b.col - 15 colors\n",
      "Time out\n",
      "\n",
      "le450_15c.col - 14 colors\n",
      "Coloring exists: false\n",
      "Solving time: 1.1550168991088867\n",
      "le450_15c.col - 15 colors\n",
      "Time out\n",
      "\n",
      "le450_15d.col - 14 colors\n",
      "Time out\n",
      "le450_15d.col - 15 colors\n",
      "Time out\n",
      "\n",
      "le450_5a.col - 4 colors\n",
      "Time out\n",
      "le450_5a.col - 5 colors\n",
      "Time out\n",
      "\n",
      "le450_5b.col - 4 colors\n",
      "Coloring exists: false\n",
      "Solving time: 15.03213095664978\n",
      "le450_5b.col - 5 colors\n",
      "Time out\n",
      "\n",
      "le450_5c.col - 4 colors\n",
      "Time out\n",
      "le450_5c.col - 5 colors\n",
      "Time out\n",
      "\n",
      "le450_5d.col - 4 colors\n",
      "Coloring exists: false\n",
      "Solving time: 4.160871982574463\n",
      "le450_5d.col - 5 colors\n",
      "Time out\n",
      "\n",
      "miles250.col - 7 colors\n",
      "Coloring exists: false\n",
      "Solving time: 0.0009272098541259766\n",
      "miles250.col - 8 colors\n",
      "Coloring exists: true\n",
      "Solving time: 0.003216981887817383\n",
      "\n",
      "miles500.col - 19 colors\n",
      "Coloring exists: false\n",
      "Solving time: 0.003963947296142578\n",
      "miles500.col - 20 colors\n",
      "Coloring exists: true\n",
      "Solving time: 0.005796909332275391\n",
      "\n",
      "myciel3.col - 3 colors\n",
      "Coloring exists: false\n",
      "Solving time: 0.00017189979553222656\n",
      "myciel3.col - 4 colors\n",
      "Coloring exists: true\n",
      "Solving time: 8.0108642578125e-5\n",
      "\n",
      "myciel4.col - 4 colors\n",
      "Coloring exists: false\n",
      "Solving time: 0.44789910316467285\n",
      "myciel4.col - 5 colors\n",
      "Coloring exists: true\n",
      "Solving time: 0.00031828880310058594\n",
      "\n",
      "myciel5.col - 5 colors\n",
      "Time out\n",
      "myciel5.col - 6 colors\n",
      "Coloring exists: true\n",
      "Solving time: 0.001378774642944336\n",
      "\n",
      "myciel6.col - 6 colors\n",
      "Time out\n",
      "myciel6.col - 7 colors\n",
      "Coloring exists: true\n",
      "Solving time: 0.2644510269165039\n",
      "\n",
      "myciel7.col - 7 colors\n",
      "Time out\n",
      "myciel7.col - 8 colors\n",
      "Time out\n",
      "\n",
      "queen11_11.col - 10 colors\n",
      "Coloring exists: false\n",
      "Solving time: 0.020656108856201172\n",
      "queen11_11.col - 11 colors\n",
      "Time out\n",
      "\n",
      "queen13_13.col - 12 colors\n",
      "Coloring exists: false\n",
      "Solving time: 0.050099849700927734\n",
      "queen13_13.col - 13 colors\n",
      "Time out\n",
      "\n",
      "queen5_5.col - 4 colors\n",
      "Coloring exists: false\n",
      "Solving time: 0.0007472038269042969\n",
      "queen5_5.col - 5 colors\n",
      "Coloring exists: true\n",
      "Solving time: 0.0008981227874755859\n",
      "\n",
      "queen6_6.col - 6 colors\n",
      "Coloring exists: false\n",
      "Solving time: 0.0030558109283447266\n",
      "queen6_6.col - 7 colors\n",
      "Coloring exists: true\n",
      "Solving time: 0.02453780174255371\n",
      "\n",
      "queen7_7.col - 6 colors\n",
      "Coloring exists: false\n",
      "Solving time: 0.00722503662109375\n",
      "queen7_7.col - 7 colors\n",
      "Coloring exists: true\n",
      "Solving time: 0.010274887084960938\n",
      "\n",
      "queen8_12.col - 11 colors\n",
      "Coloring exists: false\n",
      "Solving time: 0.011695146560668945\n",
      "queen8_12.col - 12 colors\n",
      "Coloring exists: true\n",
      "Solving time: 0.038607120513916016\n",
      "\n",
      "queen8_8.col - 8 colors\n",
      "Time out\n",
      "queen8_8.col - 9 colors\n",
      "Coloring exists: true\n",
      "Solving time: 3.320643901824951\n",
      "\n",
      "queen9_9.col - 9 colors\n",
      "Time out\n",
      "queen9_9.col - 10 colors\n",
      "Coloring exists: true\n",
      "Solving time: 0.7969660758972168\n"
     ]
    }
   ],
   "source": [
    "clique_search = DataFrame(\n",
    "    file = String[],\n",
    "    maxclique_length = Int64[],\n",
    "    time = Float64[],\n",
    "    maxclique = Array{Int64, 1}[]\n",
    ")\n",
    "\n",
    "coloring_results = DataFrame(\n",
    "    file = String[],\n",
    "    n_colors = Int64[],\n",
    "    solved = Bool[],\n",
    "    coloring_exists = Bool[],\n",
    "    time = Float64[],\n",
    "    nodes = Int64[],\n",
    "    instantiation = Array{Int64, 1}[],\n",
    ")\n",
    "\n",
    "for file in readdir(\"graphs\")\n",
    "    l = length(file)\n",
    "    if (\n",
    "            (file[l-3:l] != \".col\") ||\n",
    "            !(file in keys(n_colors_dict)) ||\n",
    "            (n_colors_dict[file] > 20)\n",
    "        )\n",
    "        continue\n",
    "    else\n",
    "        println()\n",
    "        \n",
    "        n_vertices, edges = read_graph(\"graphs/\" * file)\n",
    "        maxclique, tc = find_maxclique(n_vertices, edges)\n",
    "        maxclique_length = length(maxclique)\n",
    "        push!(clique_search, (file, maxclique_length, tc, maxclique))\n",
    "        CSV.write(\"graphs/clique_search.csv\", clique_search)\n",
    "        \n",
    "        n_colors_min = n_colors_dict[file]\n",
    "        \n",
    "        for n_colors in [n_colors_min-1, n_colors_min]\n",
    "            \n",
    "            coloring = define_coloring(n_vertices, edges, n_colors, maxclique)\n",
    "            println(file, \" - \", n_colors, \" colors\")\n",
    "            set_params(coloring, Dict(\"variable_selection\"=>\"domain_size_random\"))\n",
    "            res = solve!(coloring, max_time, restarts)\n",
    "            if res != nothing\n",
    "                (s, i, n, t) = res\n",
    "                push!(coloring_results,\n",
    "                    (file, n_colors, true, s, t, n, i)\n",
    "                )\n",
    "                println(\"Coloring exists: \", s)\n",
    "                println(\"Solving time: \", tc + t)\n",
    "                if s\n",
    "                    break\n",
    "                end\n",
    "            else\n",
    "                push!(coloring_results,\n",
    "                    (file, n_colors, false, false, tc + max_time * restarts, -1, [])\n",
    "                )\n",
    "                println(\"Time out\")\n",
    "            end\n",
    "        end\n",
    "        \n",
    "        CSV.write(\"graphs/coloring_results_clique.csv\", coloring_results)\n",
    "    end\n",
    "end"
   ]
  },
  {
   "cell_type": "code",
   "execution_count": 59,
   "metadata": {
    "ExecuteTime": {
     "end_time": "2019-03-17T12:50:36.150000+01:00",
     "start_time": "2019-03-17T11:47:29.612Z"
    }
   },
   "outputs": [
    {
     "name": "stdout",
     "output_type": "stream",
     "text": [
      "\n",
      "anna.col - 10 colors\n",
      "Time out\n",
      "\n",
      "david.col - 10 colors\n",
      "Time out\n",
      "\n",
      "games120.col - 8 colors\n",
      "Coloring exists: false\n",
      "Solving time: 0.0007908344268798828\n",
      "games120.col - 9 colors\n",
      "Time out\n",
      "\n",
      "homer.col - 12 colors\n",
      "Coloring exists: true\n",
      "Solving time: 0.0012390613555908203\n",
      "\n",
      "huck.col - 10 colors\n",
      "Coloring exists: true\n",
      "Solving time: 10.930337905883789\n",
      "\n",
      "jean.col - 9 colors\n",
      "Time out\n",
      "\n",
      "le450_15a.col - 14 colors\n",
      "Coloring exists: true\n",
      "Solving time: 0.0022268295288085938\n",
      "\n",
      "le450_15b.col - 14 colors\n",
      "Coloring exists: true\n",
      "Solving time: 0.001990079879760742\n",
      "\n",
      "le450_15c.col - 14 colors\n",
      "Coloring exists: true\n",
      "Solving time: 0.0023131370544433594\n",
      "\n",
      "le450_15d.col - 14 colors\n",
      "Coloring exists: true\n",
      "Solving time: 0.0013279914855957031\n",
      "\n",
      "le450_5a.col - 4 colors\n",
      "Coloring exists: false\n",
      "Solving time: 0.00018310546875\n",
      "le450_5a.col - 5 colors\n",
      "Coloring exists: false\n",
      "Solving time: 0.000164031982421875\n",
      "\n",
      "le450_5b.col - 4 colors\n",
      "Coloring exists: false\n",
      "Solving time: 0.0002009868621826172\n",
      "le450_5b.col - 5 colors\n",
      "Coloring exists: false\n",
      "Solving time: 0.00021600723266601562\n",
      "\n",
      "le450_5c.col - 4 colors\n",
      "Coloring exists: false\n",
      "Solving time: 0.0001480579376220703\n",
      "le450_5c.col - 5 colors\n",
      "Coloring exists: false\n",
      "Solving time: 0.00017499923706054688\n",
      "\n",
      "le450_5d.col - 4 colors\n",
      "Coloring exists: false\n",
      "Solving time: 0.00013899803161621094\n",
      "le450_5d.col - 5 colors\n",
      "Coloring exists: false\n",
      "Solving time: 0.00016999244689941406\n",
      "\n",
      "miles250.col - 7 colors\n",
      "Coloring exists: false\n",
      "Solving time: 0.00022721290588378906\n",
      "miles250.col - 8 colors\n",
      "Coloring exists: false\n",
      "Solving time: 0.0002541542053222656\n",
      "\n",
      "miles500.col - 19 colors\n",
      "Coloring exists: true\n",
      "Solving time: 0.0012969970703125\n",
      "\n",
      "myciel3.col - 3 colors\n",
      "Coloring exists: false\n",
      "Solving time: 0.00011706352233886719\n",
      "myciel3.col - 4 colors\n",
      "Coloring exists: false\n",
      "Solving time: 0.00014591217041015625\n",
      "\n",
      "myciel4.col - 4 colors\n",
      "Coloring exists: false\n",
      "Solving time: 0.0001780986785888672\n",
      "myciel4.col - 5 colors\n",
      "Coloring exists: false\n",
      "Solving time: 0.00031495094299316406\n",
      "\n",
      "myciel5.col - 5 colors\n",
      "Coloring exists: false\n",
      "Solving time: 0.0001761913299560547\n",
      "myciel5.col - 6 colors\n",
      "Coloring exists: false\n",
      "Solving time: 0.0003521442413330078\n",
      "\n",
      "myciel6.col - 6 colors\n",
      "Coloring exists: false\n",
      "Solving time: 0.0003771781921386719\n",
      "myciel6.col - 7 colors\n",
      "Coloring exists: false\n",
      "Solving time: 0.0003058910369873047\n",
      "\n",
      "myciel7.col - 7 colors\n",
      "Coloring exists: false\n",
      "Solving time: 0.000225067138671875\n",
      "myciel7.col - 8 colors\n",
      "Coloring exists: false\n",
      "Solving time: 0.00035691261291503906\n",
      "\n",
      "queen11_11.col - 10 colors\n",
      "Time out\n",
      "\n",
      "queen13_13.col - 12 colors\n",
      "Coloring exists: true\n",
      "Solving time: 0.0023751258850097656\n",
      "\n",
      "queen5_5.col - 4 colors\n",
      "Coloring exists: false\n",
      "Solving time: 0.00014281272888183594\n",
      "queen5_5.col - 5 colors\n",
      "Coloring exists: false\n",
      "Solving time: 0.00019812583923339844\n",
      "\n",
      "queen6_6.col - 6 colors\n",
      "Coloring exists: false\n",
      "Solving time: 0.00019788742065429688\n",
      "queen6_6.col - 7 colors\n",
      "Coloring exists: false\n",
      "Solving time: 0.0002269744873046875\n",
      "\n",
      "queen7_7.col - 6 colors\n",
      "Coloring exists: false\n",
      "Solving time: 0.00019812583923339844\n",
      "queen7_7.col - 7 colors\n",
      "Coloring exists: false\n",
      "Solving time: 0.00022912025451660156\n",
      "\n",
      "queen8_12.col - 11 colors\n",
      "Coloring exists: true\n",
      "Solving time: 0.010974884033203125\n",
      "\n",
      "queen8_8.col - 8 colors\n",
      "Coloring exists: false\n",
      "Solving time: 0.00025391578674316406\n",
      "queen8_8.col - 9 colors\n",
      "Time out\n",
      "\n",
      "queen9_9.col - 9 colors\n",
      "Time out\n"
     ]
    }
   ],
   "source": [
    "coloring_results = DataFrame(\n",
    "    file = String[],\n",
    "    n_colors = Int64[],\n",
    "    solved = Bool[],\n",
    "    coloring_exists = Bool[],\n",
    "    time = Float64[],\n",
    "    nodes = Int64[],\n",
    "    instantiation = Array{Int64, 1}[],\n",
    ")\n",
    "\n",
    "for file in readdir(\"graphs\")\n",
    "    l = length(file)\n",
    "    if (\n",
    "            (file[l-3:l] != \".col\") ||\n",
    "            !(file in keys(n_colors_dict)) ||\n",
    "            (n_colors_dict[file] > 20)\n",
    "        )\n",
    "        continue\n",
    "    else\n",
    "        println()\n",
    "        \n",
    "        n_colors_min = n_colors_dict[file]\n",
    "        \n",
    "        for n_colors in [n_colors_min-1, n_colors_min]\n",
    "            \n",
    "            coloring = define_coloring(n_vertices, edges, n_colors)\n",
    "            println(file, \" - \", n_colors, \" colors\")\n",
    "            set_params(coloring, Dict(\"variable_selection\"=>\"domain_size_random\"))\n",
    "            res = solve!(coloring, max_time, restarts)\n",
    "            if res != nothing\n",
    "                (s, i, n, t) = res\n",
    "                push!(coloring_results,\n",
    "                    (file, n_colors, true, s, t, n, i)\n",
    "                )\n",
    "                println(\"Coloring exists: \", s)\n",
    "                println(\"Solving time: \", t)\n",
    "                if s\n",
    "                    break\n",
    "                end\n",
    "            else\n",
    "                push!(coloring_results,\n",
    "                    (file, n_colors, false, false, max_time * restarts, -1, [])\n",
    "                )\n",
    "                println(\"Time out\")\n",
    "                break\n",
    "            end\n",
    "        end\n",
    "        \n",
    "        CSV.write(\"graphs/coloring_results_noclique.csv\", coloring_results)\n",
    "    end\n",
    "end"
   ]
  },
  {
   "cell_type": "markdown",
   "metadata": {},
   "source": [
    "Random graphs"
   ]
  },
  {
   "cell_type": "code",
   "execution_count": 42,
   "metadata": {
    "ExecuteTime": {
     "end_time": "2019-03-17T12:08:06.154000+01:00",
     "start_time": "2019-03-17T11:04:17.897Z"
    }
   },
   "outputs": [
    {
     "name": "stderr",
     "output_type": "stream",
     "text": [
      "\u001b[32mProgress: 100%|█████████████████████████████████████████| Time: 0:03:48\u001b[39m\n"
     ]
    }
   ],
   "source": [
    "sizes = Int64[]\n",
    "times_sol = Float64[]\n",
    "times_clique = Float64[]\n",
    "\n",
    "times_naivesol = Float64[]\n",
    "\n",
    "@showprogress for N in vcat(collect(5:5:100), collect(100:10:300))\n",
    "    p = 5 / N\n",
    "    n_vertices, edges = ER_graph(N, p)\n",
    "    maxclique, tc = find_maxclique(n_vertices, edges)\n",
    "    \n",
    "    n_colors = length(maxclique)\n",
    "    \n",
    "    coloring1 = define_coloring(n_vertices, edges, n_colors, maxclique)\n",
    "    res1 = solve!(coloring1, 10., 1)\n",
    "    \n",
    "    coloring0 = define_coloring(n_vertices, edges, n_colors, Int64[])\n",
    "    res0 = solve!(coloring0, 10., 1)\n",
    "    \n",
    "    if res0 != nothing\n",
    "        s0, i0, n0, t0 = res0\n",
    "        s1, i1, n1, t1 = res1\n",
    "        push!(sizes, N)\n",
    "        push!(times_clique, tc)\n",
    "        push!(times_sol, t1)\n",
    "        push!(times_naivesol, t0)\n",
    "    end\n",
    "    \n",
    "end"
   ]
  },
  {
   "cell_type": "code",
   "execution_count": 43,
   "metadata": {
    "ExecuteTime": {
     "end_time": "2019-03-17T12:08:06.617000+01:00",
     "start_time": "2019-03-17T11:04:18.340Z"
    }
   },
   "outputs": [
    {
     "data": {
      "image/png": "[encoded data removed]",
      "text/plain": [
       "Figure(PyObject <Figure size 640x480 with 1 Axes>)"
      ]
     },
     "metadata": {},
     "output_type": "display_data"
    }
   ],
   "source": [
    "close()\n",
    "yscale(\"log\")\n",
    "xscale(\"log\")\n",
    "ylim(1e-5, 10)\n",
    "fill_between(sizes, 0, times_naivesol, label=\"backtracking without maxclique\")\n",
    "legend()\n",
    "xlabel(\"Number of vertices\")\n",
    "ylabel(\"Total computation time [s]\")\n",
    "title(\"Naive coloring of an ER graph with ~ 5 neighbors / vertex\")\n",
    "show()"
   ]
  },
  {
   "cell_type": "code",
   "execution_count": 44,
   "metadata": {
    "ExecuteTime": {
     "end_time": "2019-03-17T12:08:07.108000+01:00",
     "start_time": "2019-03-17T11:04:18.665Z"
    }
   },
   "outputs": [
    {
     "data": {
      "image/png": "[encoded data removed]",
      "text/plain": [
       "Figure(PyObject <Figure size 640x480 with 1 Axes>)"
      ]
     },
     "metadata": {},
     "output_type": "display_data"
    }
   ],
   "source": [
    "close()\n",
    "yscale(\"log\")\n",
    "xscale(\"log\")\n",
    "ylim(1e-5, 10)\n",
    "fill_between(sizes, times_clique, times_clique .+ times_sol, label=\"backtracking\")\n",
    "fill_between(sizes, 0, times_clique, label=\"max clique search\")\n",
    "legend()\n",
    "xlabel(\"Number of vertices\")\n",
    "ylabel(\"Total computation time [s]\")\n",
    "title(\"Clever coloring of an ER graph with ~ 5 neighbors / vertex\")\n",
    "show()"
   ]
  },
  {
   "cell_type": "code",
   "execution_count": null,
   "metadata": {},
   "outputs": [],
   "source": []
  }
 ],
 "metadata": {
  "kernelspec": {
   "display_name": "Julia 1.0.3",
   "language": "julia",
   "name": "julia-1.0"
  },
  "language_info": {
   "file_extension": ".jl",
   "mimetype": "application/julia",
   "name": "julia",
   "version": "1.0.3"
  }
 },
 "nbformat": 4,
 "nbformat_minor": 2
}
