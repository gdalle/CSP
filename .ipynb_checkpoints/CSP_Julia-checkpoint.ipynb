{
 "cells": [
  {
   "cell_type": "code",
   "execution_count": 1,
   "metadata": {
    "ExecuteTime": {
     "end_time": "2019-01-28T13:59:15.830000+01:00",
     "start_time": "2019-01-28T12:59:15.766Z"
    }
   },
   "outputs": [],
   "source": [
    "mutable struct CSP\n",
    "    n_variables::Int\n",
    "    domains::Array{Set{Int}, 1}\n",
    "    \n",
    "    n_constraints::Int\n",
    "    constraints_var1::Array{Int, 1}\n",
    "    constraints_var2::Array{Int, 1}\n",
    "    constraints_tuples::Array{Set{Tuple{Int, Int}}, 1}\n",
    "    constraints_satisfaction::Array{Array{Bool, 2}, 1}\n",
    "    \n",
    "    CSP() = new(0, [], 0, [], [], [], [])\n",
    "end"
   ]
  },
  {
   "cell_type": "code",
   "execution_count": 2,
   "metadata": {},
   "outputs": [
    {
     "data": {
      "text/plain": [
       "add_variable! (generic function with 1 method)"
      ]
     },
     "execution_count": 2,
     "metadata": {},
     "output_type": "execute_result"
    }
   ],
   "source": [
    "function add_variable!(csp::CSP, domain::Set{Int})\n",
    "    csp.n_variables += 1\n",
    "    push!(csp.domains, domain)\n",
    "end"
   ]
  },
  {
   "cell_type": "code",
   "execution_count": 3,
   "metadata": {
    "ExecuteTime": {
     "end_time": "2019-01-28T13:59:21.845000+01:00",
     "start_time": "2019-01-28T12:59:21.304Z"
    }
   },
   "outputs": [
    {
     "data": {
      "text/plain": [
       "add_constraint! (generic function with 1 method)"
      ]
     },
     "execution_count": 3,
     "metadata": {},
     "output_type": "execute_result"
    }
   ],
   "source": [
    "function add_constraint!(csp::CSP, var1::Int, var2::Int, tuples::Set{Tuple{Int, Int}})\n",
    "    csp.n_constraints += 1\n",
    "    push!(csp.constraints_var1, var1)\n",
    "    push!(csp.constraints_var2, var2)\n",
    "    push!(csp.constraints_tuples, tuples)\n",
    "    \n",
    "    m1::Int = length(csp.domains[var1])\n",
    "    m2::Int = length(csp.domains[var2])\n",
    "    satisfaction::Array{Bool, 2} = zeros(Int, m1, m2)\n",
    "    for (value1, value2) in tuples\n",
    "        satisfaction[value1, value2] = 1\n",
    "    end\n",
    "    push!(csp.constraints_satisfaction, satisfaction)\n",
    "end"
   ]
  },
  {
   "cell_type": "code",
   "execution_count": 4,
   "metadata": {},
   "outputs": [
    {
     "data": {
      "text/plain": [
       "check_feasibility (generic function with 1 method)"
      ]
     },
     "execution_count": 4,
     "metadata": {},
     "output_type": "execute_result"
    }
   ],
   "source": [
    "function check_feasibility(csp::CSP, instantiation::Array{Int, 1})\n",
    "    for cons in 1:csp.n_constraints\n",
    "        var1::Int = csp.constraints_var1[cons]\n",
    "        var2::Int = csp.constraints_var2[cons]\n",
    "        satisfaction = csp.constraints_satisfaction[cons]\n",
    "        value1 = instantiation[var1]\n",
    "        value2 = instantiation[var2]\n",
    "        if (value1 !== 0) & (value2 !== 0)\n",
    "            if !satisfaction[value1, value2]\n",
    "                return false\n",
    "            end\n",
    "        end\n",
    "    end\n",
    "    return true\n",
    "end"
   ]
  },
  {
   "cell_type": "code",
   "execution_count": 5,
   "metadata": {},
   "outputs": [
    {
     "data": {
      "text/plain": [
       "backtrack! (generic function with 1 method)"
      ]
     },
     "execution_count": 5,
     "metadata": {},
     "output_type": "execute_result"
    }
   ],
   "source": [
    "function backtrack!(csp::CSP, instantiation::Array{Int, 1})\n",
    "    if !check_feasibility(csp, instantiation)\n",
    "        return (false, instantiation)\n",
    "    end\n",
    "    \n",
    "    new_var = argmin(instantiation)\n",
    "    if instantiation[new_var] > 0\n",
    "        return true, instantiation\n",
    "    end\n",
    "\n",
    "    for new_value in csp.domains[new_var]\n",
    "        instantiation[new_var] = new_value\n",
    "        (solution_found, solution) = backtrack!(csp, instantiation)\n",
    "        if solution_found\n",
    "            return (true, solution)\n",
    "        else\n",
    "            instantiation[new_var] = 0\n",
    "        end\n",
    "    end\n",
    "    \n",
    "    return false, instantiation\n",
    "end"
   ]
  },
  {
   "cell_type": "code",
   "execution_count": 6,
   "metadata": {},
   "outputs": [
    {
     "data": {
      "text/plain": [
       "backtrack! (generic function with 2 methods)"
      ]
     },
     "execution_count": 6,
     "metadata": {},
     "output_type": "execute_result"
    }
   ],
   "source": [
    "function backtrack!(csp::CSP)\n",
    "    return backtrack!(csp, zeros(Int, csp.n_variables))\n",
    "end"
   ]
  },
  {
   "cell_type": "code",
   "execution_count": 7,
   "metadata": {},
   "outputs": [
    {
     "data": {
      "text/plain": [
       "(true, [3, 1])"
      ]
     },
     "execution_count": 7,
     "metadata": {},
     "output_type": "execute_result"
    }
   ],
   "source": [
    "csp = CSP()\n",
    "\n",
    "domain = Set([1, 2, 3])\n",
    "add_variable!(csp, domain)\n",
    "add_variable!(csp, domain)\n",
    "add_constraint!(csp, 1, 2, Set([(1, 2), (3, 1)]))\n",
    "add_constraint!(csp, 2, 1, Set([(2, 1), (1, 3)]))\n",
    "\n",
    "backtrack!(csp)"
   ]
  }
 ],
 "metadata": {
  "kernelspec": {
   "display_name": "Julia 1.0.3",
   "language": "julia",
   "name": "julia-1.0"
  },
  "language_info": {
   "file_extension": ".jl",
   "mimetype": "application/julia",
   "name": "julia",
   "version": "1.0.3"
  }
 },
 "nbformat": 4,
 "nbformat_minor": 2
}
