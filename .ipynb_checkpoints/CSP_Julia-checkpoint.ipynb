{
 "cells": [
  {
   "cell_type": "markdown",
   "metadata": {},
   "source": [
    "# Binary CSP solver"
   ]
  },
  {
   "cell_type": "markdown",
   "metadata": {},
   "source": [
    "*Guillaume DALLE*"
   ]
  },
  {
   "cell_type": "markdown",
   "metadata": {},
   "source": [
    "## 1. CSP structure and backtracking"
   ]
  },
  {
   "cell_type": "code",
   "execution_count": 5,
   "metadata": {
    "ExecuteTime": {
     "end_time": "2019-02-06T14:43:28.361000+01:00",
     "start_time": "2019-02-06T13:43:28.245Z"
    }
   },
   "outputs": [],
   "source": [
    "mutable struct CSP\n",
    "    n_variables::Int64\n",
    "    domain_size::Array{Int64, 1}\n",
    "    possible_value::Dict{Tuple{Int64, Int64}, Bool}\n",
    "        \n",
    "    n_constraints::Int64\n",
    "    constraint_var1::Array{Int64, 1}\n",
    "    constraint_var2::Array{Int64, 1}\n",
    "    constraint_satisfaction::Array{Array{Bool, 2}, 1}\n",
    "    \n",
    "    var1_constraints::Array{Array{Int64, 1}, 1}\n",
    "    var2_constraints::Array{Array{Int64, 1}, 1}\n",
    "    \n",
    "    CSP() = new(\n",
    "        0, [], Dict{Tuple{Int64, Int64}, Bool}(),\n",
    "        0, [], [], [],\n",
    "        [], [],\n",
    "    )\n",
    "end"
   ]
  },
  {
   "cell_type": "code",
   "execution_count": 18,
   "metadata": {
    "ExecuteTime": {
     "end_time": "2019-02-06T14:44:09.096000+01:00",
     "start_time": "2019-02-06T13:44:08.901Z"
    }
   },
   "outputs": [
    {
     "data": {
      "text/plain": [
       "add_variable! (generic function with 2 methods)"
      ]
     },
     "execution_count": 18,
     "metadata": {},
     "output_type": "execute_result"
    }
   ],
   "source": [
    "function add_variable!(csp::CSP, domain_size::Int64)\n",
    "    csp.n_variables += 1\n",
    "    push!(csp.domain_size, domain_size)\n",
    "    push!(csp.var1_constraints, Array{Int64, 1}(undef, 0))\n",
    "    push!(csp.var2_constraints, Array{Int64, 1}(undef, 0))\n",
    "    for value in 1:domain_size\n",
    "        csp.possible_value[(csp.n_variables, value)] = true\n",
    "    end\n",
    "end"
   ]
  },
  {
   "cell_type": "code",
   "execution_count": 9,
   "metadata": {
    "ExecuteTime": {
     "end_time": "2019-02-06T14:43:44.947000+01:00",
     "start_time": "2019-02-06T13:43:44.765Z"
    }
   },
   "outputs": [
    {
     "data": {
      "text/plain": [
       "add_constraint! (generic function with 1 method)"
      ]
     },
     "execution_count": 9,
     "metadata": {},
     "output_type": "execute_result"
    }
   ],
   "source": [
    "function add_constraint!(csp::CSP, var1::Int64, var2::Int64, compatibility::Function)\n",
    "    csp.n_constraints += 1\n",
    "\n",
    "    m1::Int64 = csp.domain_size[var1]\n",
    "    m2::Int64 = csp.domain_size[var2]\n",
    "    satisfaction::Array{Bool, 2} = zeros(Int64, m1, m2)\n",
    "    for value1 in 1:m1, value2 in 1:m2\n",
    "        satisfaction[value1, value2] = compatibility(var1, var2, value1, value2)\n",
    "    end\n",
    "    \n",
    "    push!(csp.constraint_var1, var1)\n",
    "    push!(csp.constraint_var2, var2)\n",
    "    push!(csp.constraint_satisfaction, satisfaction)\n",
    "    \n",
    "    push!(csp.var1_constraints[var1], csp.n_constraints)\n",
    "    push!(csp.var2_constraints[var2], csp.n_constraints)\n",
    "end"
   ]
  },
  {
   "cell_type": "code",
   "execution_count": 10,
   "metadata": {
    "ExecuteTime": {
     "end_time": "2019-02-06T14:43:45.438000+01:00",
     "start_time": "2019-02-06T13:43:45.164Z"
    }
   },
   "outputs": [
    {
     "data": {
      "text/plain": [
       "check_feasibility (generic function with 1 method)"
      ]
     },
     "execution_count": 10,
     "metadata": {},
     "output_type": "execute_result"
    }
   ],
   "source": [
    "function check_feasibility(csp::CSP, instantiation::Array{Int64, 1}, new_var::Int64)\n",
    "    if new_var == 0\n",
    "        return true\n",
    "    end\n",
    "    for cons in csp.var1_constraints[new_var]\n",
    "        var2::Int64 = csp.constraint_var2[cons]\n",
    "        satisfaction = csp.constraint_satisfaction[cons]\n",
    "        value1 = instantiation[new_var]\n",
    "        value2 = instantiation[var2]\n",
    "        if (value1 !== 0) && (value2 !== 0)\n",
    "            if !satisfaction[value1, value2]\n",
    "                return false\n",
    "            end\n",
    "        end\n",
    "    end\n",
    "    return true\n",
    "end"
   ]
  },
  {
   "cell_type": "code",
   "execution_count": 11,
   "metadata": {
    "ExecuteTime": {
     "end_time": "2019-02-06T14:43:45.929000+01:00",
     "start_time": "2019-02-06T13:43:45.673Z"
    }
   },
   "outputs": [
    {
     "data": {
      "text/plain": [
       "undo_look_ahead! (generic function with 1 method)"
      ]
     },
     "execution_count": 11,
     "metadata": {},
     "output_type": "execute_result"
    }
   ],
   "source": [
    "function undo_look_ahead!(csp::CSP, discarded::Dict{Int64, Array{Int64, 1}})\n",
    "    for (var2, discarded_var2) in discarded\n",
    "        for value2 in discarded_var2\n",
    "            csp.possible_value[(var2, value2)] = true\n",
    "        end\n",
    "    end\n",
    "end"
   ]
  },
  {
   "cell_type": "code",
   "execution_count": 12,
   "metadata": {
    "ExecuteTime": {
     "end_time": "2019-02-06T14:43:46.542000+01:00",
     "start_time": "2019-02-06T13:43:46.290Z"
    }
   },
   "outputs": [
    {
     "data": {
      "text/plain": [
       "forward_checking (generic function with 1 method)"
      ]
     },
     "execution_count": 12,
     "metadata": {},
     "output_type": "execute_result"
    }
   ],
   "source": [
    "function forward_checking(csp::CSP, instantiation::Array{Int64, 1}, x::Int64)\n",
    "    to_discard::Dict{Int64, Array{Int64, 1}} = Dict{Int64, Array{Int64}}()\n",
    "    \n",
    "    a::Int64 = instantiation[x]\n",
    "    to_discard[x] = Array{Int64, 1}()\n",
    "    for aa in 1:csp.domain_size[x]\n",
    "        if (aa != a) && csp.possible_value[(x, aa)]\n",
    "            push!(to_discard[x], aa)\n",
    "        end\n",
    "    end\n",
    "    \n",
    "    for cons in csp.var1_constraints[x]\n",
    "        y = csp.constraint_var2[cons]\n",
    "        if instantiation[y] != 0\n",
    "            continue\n",
    "        end\n",
    "        \n",
    "        to_discard[y] = Array{Int64, 1}()\n",
    "        for b in 1:csp.domain_size[y]\n",
    "            if (!csp.constraint_satisfaction[cons][a, b]) && csp.possible_value[(y, b)]\n",
    "                push!(to_discard[y], b)\n",
    "            end\n",
    "        end\n",
    "    end\n",
    "    \n",
    "    for (var2, discarded_var2) in to_discard\n",
    "        for value2 in discarded_var2\n",
    "            csp.possible_value[(var2, value2)] = false\n",
    "        end\n",
    "    end\n",
    "    \n",
    "    return to_discard\n",
    "end"
   ]
  },
  {
   "cell_type": "code",
   "execution_count": 22,
   "metadata": {
    "ExecuteTime": {
     "end_time": "2019-02-06T14:44:38.460000+01:00",
     "start_time": "2019-02-06T13:44:38.272Z"
    }
   },
   "outputs": [
    {
     "data": {
      "text/plain": [
       "AC3 (generic function with 1 method)"
      ]
     },
     "execution_count": 22,
     "metadata": {},
     "output_type": "execute_result"
    }
   ],
   "source": [
    "function AC3(csp::CSP, instantiation::Array{Int64, 1}, new_var::Int64)\n",
    "    to_discard::Dict{Int64, Array{Int64, 1}} = Dict{Int64, Array{Int64}}()\n",
    "    for z in 1:csp.n_variables\n",
    "        to_discard[z] = Array{Int64, 1}()\n",
    "    end\n",
    "    \n",
    "    for other_value in 1:csp.domain_size[new_var]\n",
    "        if (other_value != instantiation[new_var]) && csp.possible_value[(new_var, other_value)]\n",
    "            push!(to_discard[new_var], other_value)\n",
    "            csp.possible_value[(new_var, other_value)] = false\n",
    "        end\n",
    "    end\n",
    "    \n",
    "    to_test = Set{Int64}()\n",
    "    for cons in 1:csp.n_constraints\n",
    "        push!(to_test, cons)\n",
    "    end\n",
    "    \n",
    "    while !isempty(to_test)\n",
    "        cons = pop!(to_test)\n",
    "        x = csp.constraint_var1[cons]\n",
    "        y = csp.constraint_var2[cons]\n",
    "        for a in 1:csp.domain_size[x]\n",
    "            \n",
    "            if !csp.possible_value[(x, a)]\n",
    "                continue\n",
    "            end\n",
    "            \n",
    "            supported::Bool = false\n",
    "            for b in 1:csp.domain_size[y]\n",
    "                if !csp.possible_value[(y, b)]\n",
    "                    continue\n",
    "                end\n",
    "                if csp.constraint_satisfaction[cons][a, b]\n",
    "                    supported = true\n",
    "                    break\n",
    "                end\n",
    "            end\n",
    "            \n",
    "            if !supported\n",
    "                push!(to_discard[x], a)\n",
    "                csp.possible_value[(x, a)] = false\n",
    "                for cons_impacted in csp.var2_constraints[x]\n",
    "                    if csp.constraint_var1[cons] != y\n",
    "                        push!(to_test, cons_impacted)\n",
    "                    end\n",
    "                end\n",
    "            end\n",
    "        end\n",
    "    end\n",
    "    \n",
    "    return to_discard\n",
    "end"
   ]
  },
  {
   "cell_type": "code",
   "execution_count": 23,
   "metadata": {
    "ExecuteTime": {
     "end_time": "2019-02-06T14:44:38.699000+01:00",
     "start_time": "2019-02-06T13:44:38.524Z"
    }
   },
   "outputs": [
    {
     "data": {
      "text/plain": [
       "choose_next_variable (generic function with 1 method)"
      ]
     },
     "execution_count": 23,
     "metadata": {},
     "output_type": "execute_result"
    }
   ],
   "source": [
    "function choose_next_variable(csp::CSP, instantiation::Array{Int64, 1})\n",
    "    best_var::Int64 = 0\n",
    "    min_domain_size::Int64 = typemax(Int64)\n",
    "    \n",
    "    for var in 1:csp.n_variables\n",
    "        if instantiation[var] != 0\n",
    "            continue\n",
    "        end\n",
    "        \n",
    "        current_domain_size::Int64 = 0\n",
    "        for value in 1:csp.domain_size[var]\n",
    "            if csp.possible_value[(var, value)]\n",
    "                current_domain_size += 1\n",
    "            end\n",
    "        end\n",
    "\n",
    "        if current_domain_size < min_domain_size\n",
    "            best_var = var\n",
    "            min_domain_size = current_domain_size\n",
    "        end\n",
    "    end\n",
    "    \n",
    "    return best_var\n",
    "end"
   ]
  },
  {
   "cell_type": "code",
   "execution_count": 42,
   "metadata": {
    "ExecuteTime": {
     "end_time": "2019-02-06T14:49:25.428000+01:00",
     "start_time": "2019-02-06T13:49:25.376Z"
    }
   },
   "outputs": [
    {
     "data": {
      "text/plain": [
       "backtrack! (generic function with 2 methods)"
      ]
     },
     "execution_count": 42,
     "metadata": {},
     "output_type": "execute_result"
    }
   ],
   "source": [
    "function backtrack!(\n",
    "        csp::CSP,\n",
    "        instantiation::Array{Int64, 1},\n",
    "        new_var::Int64,\n",
    "        nodes_explored::Int64,\n",
    "        look_ahead_method::String\n",
    "    )\n",
    "    if !check_feasibility(csp, instantiation, new_var)\n",
    "        return (false, instantiation, nodes_explored)\n",
    "    end\n",
    "    \n",
    "    new_var = choose_next_variable(csp, instantiation)\n",
    "    if new_var == 0\n",
    "        return true, instantiation, nodes_explored\n",
    "    end\n",
    "        \n",
    "    for new_value in 1:csp.domain_size[new_var]\n",
    "                \n",
    "        if !csp.possible_value[(new_var, new_value)]\n",
    "            continue\n",
    "        end\n",
    "\n",
    "        nodes_explored += 1\n",
    "        instantiation[new_var] = new_value\n",
    "                    \n",
    "        if look_ahead_method == \"FC\"\n",
    "            discarded = forward_checking(csp, instantiation, new_var)\n",
    "        elseif look_ahead_method == \"MAC3\"\n",
    "            discarded = AC3(csp, instantiation, new_var)\n",
    "        end\n",
    "                \n",
    "        (solution_found, solution, nodes_explored) = backtrack!(\n",
    "            csp, instantiation, new_var, nodes_explored, look_ahead_method)\n",
    "        if solution_found\n",
    "            return (true, solution, nodes_explored)\n",
    "        end\n",
    "        \n",
    "        instantiation[new_var] = 0\n",
    "        if look_ahead_method != \"none\"\n",
    "            undo_look_ahead!(csp, discarded)\n",
    "        end\n",
    "\n",
    "    end\n",
    "    \n",
    "    return false, instantiation, nodes_explored\n",
    "end"
   ]
  },
  {
   "cell_type": "code",
   "execution_count": 43,
   "metadata": {
    "ExecuteTime": {
     "end_time": "2019-02-06T14:49:33.161000+01:00",
     "start_time": "2019-02-06T13:49:33.117Z"
    }
   },
   "outputs": [
    {
     "data": {
      "text/plain": [
       "backtrack! (generic function with 3 methods)"
      ]
     },
     "execution_count": 43,
     "metadata": {},
     "output_type": "execute_result"
    }
   ],
   "source": [
    "function backtrack!(csp::CSP, look_ahead_method::String)\n",
    "    return backtrack!(csp, zeros(Int64, csp.n_variables), 0, 0, look_ahead_method)\n",
    "end\n",
    "\n",
    "function backtrack!(csp::CSP)\n",
    "    return backtrack!(csp, zeros(Int64, csp.n_variables), 0, 0, \"FC\")\n",
    "end"
   ]
  },
  {
   "cell_type": "markdown",
   "metadata": {},
   "source": [
    "## 2. Applications"
   ]
  },
  {
   "cell_type": "markdown",
   "metadata": {},
   "source": [
    "### 2.1. N-queens problem"
   ]
  },
  {
   "cell_type": "code",
   "execution_count": 25,
   "metadata": {
    "ExecuteTime": {
     "end_time": "2019-02-06T14:44:39.976000+01:00",
     "start_time": "2019-02-06T13:44:39.799Z"
    }
   },
   "outputs": [
    {
     "data": {
      "text/plain": [
       "visualize_nqueens (generic function with 1 method)"
      ]
     },
     "execution_count": 25,
     "metadata": {},
     "output_type": "execute_result"
    }
   ],
   "source": [
    "function compatibility_nqueens(var1::Int64, var2::Int64, value1::Int64, value2::Int64)\n",
    "    # Exclude same row\n",
    "    if value1 == value2\n",
    "        return false\n",
    "    # Exlude same diagonal\n",
    "    elseif (value1 - value2) == (var1 - var2)\n",
    "        return false\n",
    "    # Exclude same antidiagonal\n",
    "    elseif (value1 - value2) == -(var1 - var2)\n",
    "        return false\n",
    "    else\n",
    "        return true\n",
    "    end\n",
    "end\n",
    "\n",
    "function define_nqueens(n::Int64)\n",
    "    csp = CSP()\n",
    "    domain_size = n\n",
    "    for i in 1:n\n",
    "        add_variable!(csp, domain_size)\n",
    "    end\n",
    "    for i in 1:n, j in 1:n\n",
    "        if (i != j)\n",
    "            add_constraint!(csp, i, j, compatibility_nqueens)\n",
    "        end\n",
    "    end\n",
    "    return csp\n",
    "end\n",
    "\n",
    "function visualize_nqueens(instantiation::Array{Int64})\n",
    "    n::Int64 = length(instantiation)\n",
    "    for i in 1:n\n",
    "        println()\n",
    "        for j in 1:n\n",
    "            if instantiation[i] == j\n",
    "                print(\" o\")\n",
    "            else\n",
    "                print(\" .\")\n",
    "            end\n",
    "        end\n",
    "    end\n",
    "end        "
   ]
  },
  {
   "cell_type": "code",
   "execution_count": 26,
   "metadata": {
    "ExecuteTime": {
     "end_time": "2019-02-06T14:44:43.446000+01:00",
     "start_time": "2019-02-06T13:44:43.038Z"
    }
   },
   "outputs": [
    {
     "name": "stdout",
     "output_type": "stream",
     "text": [
      "  0.043856 seconds (57.97 k allocations: 4.210 MiB)\n",
      "  0.089430 seconds (127.85 k allocations: 6.252 MiB)\n",
      "Nodes explored: 145 - Solution: [1, 3, 5, 14, 17, 4, 16, 7, 12, 18, 15, 19, 6, 10, 20, 11, 8, 2, 13, 9]\n",
      " o . . . . . . . . . . . . . . . . . . .\n",
      " . . o . . . . . . . . . . . . . . . . .\n",
      " . . . . o . . . . . . . . . . . . . . .\n",
      " . . . . . . . . . . . . . o . . . . . .\n",
      " . . . . . . . . . . . . . . . . o . . .\n",
      " . . . o . . . . . . . . . . . . . . . .\n",
      " . . . . . . . . . . . . . . . o . . . .\n",
      " . . . . . . o . . . . . . . . . . . . .\n",
      " . . . . . . . . . . . o . . . . . . . .\n",
      " . . . . . . . . . . . . . . . . . o . .\n",
      " . . . . . . . . . . . . . . o . . . . .\n",
      " . . . . . . . . . . . . . . . . . . o .\n",
      " . . . . . o . . . . . . . . . . . . . .\n",
      " . . . . . . . . . o . . . . . . . . . .\n",
      " . . . . . . . . . . . . . . . . . . . o\n",
      " . . . . . . . . . . o . . . . . . . . .\n",
      " . . . . . . . o . . . . . . . . . . . .\n",
      " . o . . . . . . . . . . . . . . . . . .\n",
      " . . . . . . . . . . . . o . . . . . . .\n",
      " . . . . . . . . o . . . . . . . . . . ."
     ]
    }
   ],
   "source": [
    "@time nqueens = define_nqueens(20)\n",
    "@time solution_exists, solution, nodes_explored = backtrack!(nqueens, \"FC\")\n",
    "print(\"Nodes explored: \", nodes_explored, \" - Solution: \", solution)\n",
    "visualize_nqueens(solution)"
   ]
  },
  {
   "cell_type": "markdown",
   "metadata": {},
   "source": [
    "### 2.2 Graph coloring"
   ]
  },
  {
   "cell_type": "code",
   "execution_count": 39,
   "metadata": {
    "ExecuteTime": {
     "end_time": "2019-02-06T14:49:06.279000+01:00",
     "start_time": "2019-02-06T13:49:06.243Z"
    }
   },
   "outputs": [
    {
     "data": {
      "text/plain": [
       "read_graph (generic function with 1 method)"
      ]
     },
     "execution_count": 39,
     "metadata": {},
     "output_type": "execute_result"
    }
   ],
   "source": [
    "function read_graph(path::String)\n",
    "    n_vertices = 0\n",
    "    edges = Array{Tuple{Int64, Int64}, 1}()\n",
    "    open(path) do file\n",
    "        for line in eachline(file)\n",
    "            split_line = split(line)\n",
    "            if line[1] == 'p'\n",
    "                n_vertices = parse(Int64, split_line[3])\n",
    "            elseif line[1] == 'e'\n",
    "                u = parse(Int64, split_line[2])\n",
    "                v = parse(Int64, split_line[3])\n",
    "                push!(edges, (u, v))\n",
    "            end\n",
    "        end\n",
    "    end\n",
    "    return n_vertices, edges\n",
    "end"
   ]
  },
  {
   "cell_type": "code",
   "execution_count": 40,
   "metadata": {
    "ExecuteTime": {
     "end_time": "2019-02-06T14:49:06.813000+01:00",
     "start_time": "2019-02-06T13:49:06.774Z"
    }
   },
   "outputs": [
    {
     "data": {
      "text/plain": [
       "define_coloring (generic function with 1 method)"
      ]
     },
     "execution_count": 40,
     "metadata": {},
     "output_type": "execute_result"
    }
   ],
   "source": [
    "function compatibility_coloring(var1::Int64, var2::Int64, value1::Int64, value2::Int64)\n",
    "    return value1 != value2\n",
    "end\n",
    "\n",
    "function define_coloring(n_vertices::Int64, edges::Array{Tuple{Int64, Int64}, 1}, n_colors::Int64)\n",
    "    csp = CSP()\n",
    "    domain_size = n_colors\n",
    "    for u in 1:n_vertices\n",
    "        add_variable!(csp, domain_size)\n",
    "    end\n",
    "    for (u, v) in edges\n",
    "        add_constraint!(csp, u, v, compatibility_coloring)\n",
    "        add_constraint!(csp, v, u, compatibility_coloring)\n",
    "    end\n",
    "    return csp\n",
    "end"
   ]
  },
  {
   "cell_type": "code",
   "execution_count": 44,
   "metadata": {
    "ExecuteTime": {
     "end_time": "2019-02-06T14:49:37.341000+01:00",
     "start_time": "2019-02-06T13:49:37.287Z"
    }
   },
   "outputs": [],
   "source": [
    "n_vertices, edges = read_graph(\"graphs/myciel6.col\")\n",
    "n_colors = 3\n",
    "coloring = define_coloring(n_vertices, edges, n_colors);"
   ]
  },
  {
   "cell_type": "code",
   "execution_count": 45,
   "metadata": {
    "ExecuteTime": {
     "end_time": "2019-02-06T14:49:41.397000+01:00",
     "start_time": "2019-02-06T13:49:41.393Z"
    }
   },
   "outputs": [
    {
     "ename": "UndefVarError",
     "evalue": "UndefVarError: backtrack not defined",
     "output_type": "error",
     "traceback": [
      "UndefVarError: backtrack not defined",
      "",
      "Stacktrace:",
      " [1] top-level scope at In[45]:1"
     ]
    }
   ],
   "source": [
    "backtrack!(coloring)"
   ]
  },
  {
   "cell_type": "code",
   "execution_count": null,
   "metadata": {},
   "outputs": [],
   "source": []
  }
 ],
 "metadata": {
  "kernelspec": {
   "display_name": "Julia 1.0.3",
   "language": "julia",
   "name": "julia-1.0"
  },
  "language_info": {
   "file_extension": ".jl",
   "mimetype": "application/julia",
   "name": "julia",
   "version": "1.0.3"
  }
 },
 "nbformat": 4,
 "nbformat_minor": 2
}
