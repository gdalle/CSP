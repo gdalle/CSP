{
 "cells": [
  {
   "cell_type": "markdown",
   "metadata": {},
   "source": [
    "# Binary CSP solver"
   ]
  },
  {
   "cell_type": "code",
   "execution_count": 1,
   "metadata": {
    "ExecuteTime": {
     "end_time": "2019-02-01T19:09:36.965000+01:00",
     "start_time": "2019-02-01T18:09:35.637Z"
    }
   },
   "outputs": [],
   "source": [
    "mutable struct CSP\n",
    "    n_variables::Int64\n",
    "    domain::Array{Array{Int64}, 1}\n",
    "    possible_value::Array{Bool, 2}\n",
    "    \n",
    "    max_domain::Int64\n",
    "    \n",
    "    n_constraints::Int64\n",
    "    constraint_var1::Array{Int64, 1}\n",
    "    constraint_var2::Array{Int64, 1}\n",
    "    constraint_satisfaction::Array{Array{Bool, 2}, 1}\n",
    "    \n",
    "    var1_constraints::Array{Array{Int64, 1}, 1}\n",
    "    var2_constraints::Array{Array{Int64, 1}, 1}\n",
    "    \n",
    "    CSP() = new(\n",
    "        0, [], Array{Bool, 2}(undef, 0, 0),\n",
    "        0,\n",
    "        0, [], [], [],\n",
    "        [], [],\n",
    "    )\n",
    "end"
   ]
  },
  {
   "cell_type": "code",
   "execution_count": 2,
   "metadata": {
    "ExecuteTime": {
     "end_time": "2019-02-01T19:09:37.712000+01:00",
     "start_time": "2019-02-01T18:09:37.071Z"
    }
   },
   "outputs": [
    {
     "data": {
      "text/plain": [
       "add_variable! (generic function with 1 method)"
      ]
     },
     "execution_count": 2,
     "metadata": {},
     "output_type": "execute_result"
    }
   ],
   "source": [
    "function add_variable!(csp::CSP, domain::Array{Int64})\n",
    "    csp.n_variables += 1\n",
    "    push!(csp.domain, domain)\n",
    "    push!(csp.var1_constraints, Array{Int64, 1}(undef, 0))\n",
    "    push!(csp.var2_constraints, Array{Int64, 1}(undef, 0))\n",
    "    csp.max_domain = max(csp.max_domain, length(domain))\n",
    "end"
   ]
  },
  {
   "cell_type": "code",
   "execution_count": 3,
   "metadata": {
    "ExecuteTime": {
     "end_time": "2019-02-01T19:09:38.189000+01:00",
     "start_time": "2019-02-01T18:09:37.924Z"
    }
   },
   "outputs": [
    {
     "data": {
      "text/plain": [
       "build_possible_values! (generic function with 1 method)"
      ]
     },
     "execution_count": 3,
     "metadata": {},
     "output_type": "execute_result"
    }
   ],
   "source": [
    "function build_possible_values!(csp::CSP)\n",
    "    csp.possible_value::Array{Bool, 2} = zeros(Bool, csp.n_variables, csp.max_domain)\n",
    "    for var in 1:csp.n_variables\n",
    "        for value in csp.domain[var]\n",
    "            csp.possible_value[var, value] = true\n",
    "        end\n",
    "    end\n",
    "end"
   ]
  },
  {
   "cell_type": "code",
   "execution_count": 4,
   "metadata": {
    "ExecuteTime": {
     "end_time": "2019-02-01T19:09:38.743000+01:00",
     "start_time": "2019-02-01T18:09:38.483Z"
    }
   },
   "outputs": [
    {
     "data": {
      "text/plain": [
       "add_constraint! (generic function with 1 method)"
      ]
     },
     "execution_count": 4,
     "metadata": {},
     "output_type": "execute_result"
    }
   ],
   "source": [
    "function add_constraint!(csp::CSP, var1::Int64, var2::Int64, compatibility::Function)\n",
    "    csp.n_constraints += 1\n",
    "\n",
    "    m1::Int64 = length(csp.domain[var1])\n",
    "    m2::Int64 = length(csp.domain[var2])\n",
    "    satisfaction::Array{Bool, 2} = zeros(Int64, m1, m2)\n",
    "    for value1 in csp.domain[var1], value2 in csp.domain[var2]\n",
    "        satisfaction[value1, value2] = compatibility(var1, var2, value1, value2)\n",
    "    end\n",
    "    \n",
    "    push!(csp.constraint_var1, var1)\n",
    "    push!(csp.constraint_var2, var2)\n",
    "    push!(csp.constraint_satisfaction, satisfaction)\n",
    "    \n",
    "    push!(csp.var1_constraints[var1], csp.n_constraints)\n",
    "    push!(csp.var2_constraints[var2], csp.n_constraints)\n",
    "end"
   ]
  },
  {
   "cell_type": "code",
   "execution_count": 5,
   "metadata": {
    "ExecuteTime": {
     "end_time": "2019-02-01T19:09:39.311000+01:00",
     "start_time": "2019-02-01T18:09:39.025Z"
    }
   },
   "outputs": [
    {
     "data": {
      "text/plain": [
       "check_feasibility (generic function with 1 method)"
      ]
     },
     "execution_count": 5,
     "metadata": {},
     "output_type": "execute_result"
    }
   ],
   "source": [
    "function check_feasibility(csp::CSP, instantiation::Array{Int64, 1}, new_var::Int64)\n",
    "    if new_var == 0\n",
    "        return true\n",
    "    end\n",
    "    for cons in csp.var1_constraints[new_var]\n",
    "        var2::Int64 = csp.constraint_var2[cons]\n",
    "        satisfaction = csp.constraint_satisfaction[cons]\n",
    "        value1 = instantiation[new_var]\n",
    "        value2 = instantiation[var2]\n",
    "        if (value1 !== 0) && (value2 !== 0)\n",
    "            if !satisfaction[value1, value2]\n",
    "                return false\n",
    "            end\n",
    "        end\n",
    "    end\n",
    "    return true\n",
    "end"
   ]
  },
  {
   "cell_type": "code",
   "execution_count": 6,
   "metadata": {
    "ExecuteTime": {
     "end_time": "2019-02-01T19:09:39.816000+01:00",
     "start_time": "2019-02-01T18:09:39.558Z"
    }
   },
   "outputs": [
    {
     "data": {
      "text/plain": [
       "undo_discard_values! (generic function with 1 method)"
      ]
     },
     "execution_count": 6,
     "metadata": {},
     "output_type": "execute_result"
    }
   ],
   "source": [
    "function discard_values!(csp::CSP, to_discard::Dict{Int64, Array{Int64}})\n",
    "    for (var2, discarded_var2) in to_discard\n",
    "        for value2 in discarded_var2\n",
    "            csp.possible_value[var2, value2] = false\n",
    "        end\n",
    "    end\n",
    "end\n",
    "\n",
    "function undo_discard_values!(csp::CSP, to_discard::Dict{Int64, Array{Int64}})\n",
    "    for (var2, discarded_var2) in to_discard\n",
    "        for value2 in discarded_var2\n",
    "            csp.possible_value[var2, value2] = true\n",
    "        end\n",
    "    end\n",
    "end"
   ]
  },
  {
   "cell_type": "code",
   "execution_count": 7,
   "metadata": {
    "ExecuteTime": {
     "end_time": "2019-02-01T19:09:40.343000+01:00",
     "start_time": "2019-02-01T18:09:40.088Z"
    }
   },
   "outputs": [
    {
     "data": {
      "text/plain": [
       "forward_checking (generic function with 1 method)"
      ]
     },
     "execution_count": 7,
     "metadata": {},
     "output_type": "execute_result"
    }
   ],
   "source": [
    "function forward_checking(csp::CSP, instantiation::Array{Int64, 1}, x::Int64)\n",
    "    to_discard::Dict{Int64, Array{Int64}} = Dict{Int64, Array{Int64}}()\n",
    "    \n",
    "    a = instantiation[x]\n",
    "    to_discard[x] = []\n",
    "    for aa in csp.domain[x]\n",
    "        if (aa != a) && csp.possible_value[x, aa]\n",
    "            push!(to_discard[x], aa)\n",
    "        end\n",
    "    end\n",
    "    \n",
    "    for cons in csp.var1_constraints[x]\n",
    "        y = csp.constraint_var2[cons]\n",
    "        if instantiation[y] != 0\n",
    "            continue\n",
    "        end\n",
    "        \n",
    "        to_discard[y] = []\n",
    "        for b in csp.domain[y]\n",
    "            if (!csp.constraint_satisfaction[cons][a, b]) && csp.possible_value[y, b]\n",
    "                push!(to_discard[y], b)\n",
    "            end\n",
    "        end\n",
    "    end\n",
    "    return to_discard\n",
    "end"
   ]
  },
  {
   "cell_type": "code",
   "execution_count": 8,
   "metadata": {
    "ExecuteTime": {
     "end_time": "2019-02-01T19:09:40.844000+01:00",
     "start_time": "2019-02-01T18:09:40.588Z"
    }
   },
   "outputs": [
    {
     "data": {
      "text/plain": [
       "choose_next_variable (generic function with 1 method)"
      ]
     },
     "execution_count": 8,
     "metadata": {},
     "output_type": "execute_result"
    }
   ],
   "source": [
    "function choose_next_variable(csp::CSP, instantiation::Array{Int64, 1})\n",
    "    domain_size::Array{Int64, 1} = sum(csp.possible_value, dims=2)[:, 1]\n",
    "    best_variable::Int64 = 0\n",
    "    min_domain::Int64 = typemax(Int64)\n",
    "    for var in 1:csp.n_variables\n",
    "        if instantiation[var] != 0\n",
    "            continue\n",
    "        elseif domain_size[var] < min_domain\n",
    "            best_variable = var\n",
    "            min_domain = domain_size[var]\n",
    "        end\n",
    "    end\n",
    "    return best_variable\n",
    "end"
   ]
  },
  {
   "cell_type": "code",
   "execution_count": 13,
   "metadata": {
    "ExecuteTime": {
     "end_time": "2019-02-01T19:10:59.414000+01:00",
     "start_time": "2019-02-01T18:10:59.282Z"
    }
   },
   "outputs": [
    {
     "data": {
      "text/plain": [
       "backtrack! (generic function with 2 methods)"
      ]
     },
     "execution_count": 13,
     "metadata": {},
     "output_type": "execute_result"
    }
   ],
   "source": [
    "function backtrack!(csp::CSP, instantiation::Array{Int64, 1}, new_var::Int64, nodes_explored::Int64)\n",
    "    if !check_feasibility(csp, instantiation, new_var)\n",
    "        return (false, instantiation, nodes_explored)\n",
    "    end\n",
    "    \n",
    "    new_var = choose_next_variable(csp, instantiation)\n",
    "    if new_var == 0\n",
    "        return true, instantiation, nodes_explored\n",
    "    end\n",
    "        \n",
    "    for new_value in csp.domain[new_var]\n",
    "                \n",
    "        if !csp.possible_value[new_var, new_value]\n",
    "            continue\n",
    "        end\n",
    "\n",
    "        nodes_explored += 1\n",
    "        instantiation[new_var] = new_value\n",
    "        \n",
    "        to_discard = forward_checking(csp, instantiation, new_var)\n",
    "        discard_values!(csp, to_discard)\n",
    "                \n",
    "        (solution_found, solution, nodes_explored) = backtrack!(csp, instantiation, new_var, nodes_explored)\n",
    "        if solution_found\n",
    "            return (true, solution, nodes_explored)\n",
    "        end\n",
    "        \n",
    "        instantiation[new_var] = 0\n",
    "        undo_discard_values!(csp, to_discard)\n",
    "\n",
    "    end\n",
    "    \n",
    "    return false, instantiation, nodes_explored\n",
    "end\n",
    "\n",
    "function backtrack!(csp::CSP)\n",
    "    return backtrack!(csp, zeros(Int64, csp.n_variables), 0, 0)\n",
    "end"
   ]
  },
  {
   "cell_type": "code",
   "execution_count": 14,
   "metadata": {
    "ExecuteTime": {
     "end_time": "2019-02-01T19:10:59.875000+01:00",
     "start_time": "2019-02-01T18:10:59.758Z"
    }
   },
   "outputs": [
    {
     "data": {
      "text/plain": [
       "visualize_nqueens (generic function with 1 method)"
      ]
     },
     "execution_count": 14,
     "metadata": {},
     "output_type": "execute_result"
    }
   ],
   "source": [
    "function compatibility_nqueens(var1::Int64, var2::Int64, value1::Int64, value2::Int64)\n",
    "    if value1 == value2\n",
    "        return false\n",
    "    elseif (value1 - value2) == (var1 - var2)\n",
    "        return false\n",
    "    elseif (value1 - value2) == -(var1 - var2)\n",
    "        return false\n",
    "    else\n",
    "        return true\n",
    "    end\n",
    "end\n",
    "\n",
    "function define_nqueens(n::Int64)\n",
    "    csp = CSP()\n",
    "    domain = collect(1:n)\n",
    "    for i in 1:n\n",
    "        add_variable!(csp, domain)\n",
    "    end\n",
    "    build_possible_values!(csp)\n",
    "    for i in 1:n, j in 1:n\n",
    "        if (i != j)\n",
    "            add_constraint!(csp, i, j, compatibility_nqueens)\n",
    "        end\n",
    "    end\n",
    "    return csp\n",
    "end\n",
    "\n",
    "function visualize_nqueens(instantiation::Array{Int64})\n",
    "    n::Int64 = length(instantiation)\n",
    "    for i in 1:n\n",
    "        println()\n",
    "        for j in 1:n\n",
    "            if instantiation[i] == j\n",
    "                print(\" o\")\n",
    "            else\n",
    "                print(\" .\")\n",
    "            end\n",
    "        end\n",
    "    end\n",
    "end        "
   ]
  },
  {
   "cell_type": "code",
   "execution_count": 15,
   "metadata": {
    "ExecuteTime": {
     "end_time": "2019-02-01T19:11:03.160000+01:00",
     "start_time": "2019-02-01T18:11:00.890Z"
    }
   },
   "outputs": [
    {
     "name": "stdout",
     "output_type": "stream",
     "text": [
      "  1.828192 seconds (90.97 k allocations: 856.206 MiB, 7.17% gc time)\n",
      "  0.432079 seconds (635.01 k allocations: 62.024 MiB, 1.07% gc time)\n",
      "Nodes explored: 13550 - Solution: [1, 3, 5, 57, 59, 4, 64, 7, 58, 71, 81, 60, 6, 91, 82, 90, 8, 83, 77, 65, 73, 26, 9, 45, 37, 63, 66, 62, 44, 10, 48, 54, 43, 69, 42, 47, 18, 11, 72, 68, 50, 56, 61, 36, 33, 17, 12, 51, 100, 93, 97, 88, 35, 84, 78, 19, 13, 99, 67, 76, 92, 75, 87, 96, 94, 85, 20, 14, 95, 32, 98, 55, 40, 80, 49, 52, 46, 53, 21, 15, 41, 2, 27, 34, 22, 70, 74, 29, 25, 30, 38, 86, 16, 79, 24, 39, 28, 23, 31, 89]"
     ]
    }
   ],
   "source": [
    "@time nqueens = define_nqueens(100)\n",
    "@time solution_exists, solution, nodes_explored = backtrack!(nqueens)\n",
    "print(\"Nodes explored: \", nodes_explored, \" - Solution: \", solution)"
   ]
  },
  {
   "cell_type": "code",
   "execution_count": null,
   "metadata": {},
   "outputs": [],
   "source": []
  }
 ],
 "metadata": {
  "kernelspec": {
   "display_name": "Julia 1.0.3",
   "language": "julia",
   "name": "julia-1.0"
  },
  "language_info": {
   "file_extension": ".jl",
   "mimetype": "application/julia",
   "name": "julia",
   "version": "1.0.3"
  }
 },
 "nbformat": 4,
 "nbformat_minor": 2
}
