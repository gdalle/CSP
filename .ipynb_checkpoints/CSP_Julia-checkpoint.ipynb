{
 "cells": [
  {
   "cell_type": "markdown",
   "metadata": {},
   "source": [
    "# Binary CSP solver"
   ]
  },
  {
   "cell_type": "markdown",
   "metadata": {},
   "source": [
    "*Guillaume DALLE*"
   ]
  },
  {
   "cell_type": "markdown",
   "metadata": {},
   "source": [
    "## 1. CSP structure and backtracking"
   ]
  },
  {
   "cell_type": "code",
   "execution_count": 1,
   "metadata": {
    "ExecuteTime": {
     "end_time": "2019-02-15T10:53:13.972000+01:00",
     "start_time": "2019-02-15T09:53:12.554Z"
    }
   },
   "outputs": [],
   "source": [
    "mutable struct CSP\n",
    "    n_variables::Int64\n",
    "    names::Array{String, 1}\n",
    "    domains::Array{Array{Int64, 1}}\n",
    "    possible_value::Dict{Tuple{Int64, Int64}, Bool}\n",
    "        \n",
    "    n_constraints::Int64\n",
    "    constraint_var1::Array{Int64, 1}\n",
    "    constraint_var2::Array{Int64, 1}\n",
    "    constraint_satisfaction::Array{Array{Bool, 2}, 1}\n",
    "    \n",
    "    var1_constraints::Array{Array{Int64, 1}, 1}\n",
    "    var2_constraints::Array{Array{Int64, 1}, 1}\n",
    "    \n",
    "    CSP() = new(\n",
    "        0, String[], Int64[], Dict{Tuple{Int64, Int64}, Bool}(),\n",
    "        0, Int64[], Int64[], Int64[],\n",
    "        Array{Array{Int64, 1}, 1}(), Array{Array{Int64, 1}, 1}(),\n",
    "    )\n",
    "end"
   ]
  },
  {
   "cell_type": "code",
   "execution_count": 2,
   "metadata": {
    "ExecuteTime": {
     "end_time": "2019-02-15T10:53:14.866000+01:00",
     "start_time": "2019-02-15T09:53:12.555Z"
    }
   },
   "outputs": [
    {
     "data": {
      "text/plain": [
       "add_variable! (generic function with 1 method)"
      ]
     },
     "execution_count": 2,
     "metadata": {},
     "output_type": "execute_result"
    }
   ],
   "source": [
    "function add_variable!(csp::CSP, name::String, domain::Array{Int64, 1})\n",
    "    csp.n_variables += 1\n",
    "    push!(csp.names, name)\n",
    "    push!(csp.domains, domain)\n",
    "    push!(csp.var1_constraints, Int64[])\n",
    "    push!(csp.var2_constraints, Int64[])\n",
    "    for value in domain\n",
    "        csp.possible_value[(csp.n_variables, value)] = true\n",
    "    end\n",
    "end"
   ]
  },
  {
   "cell_type": "code",
   "execution_count": 3,
   "metadata": {
    "ExecuteTime": {
     "end_time": "2019-02-15T10:53:15.163000+01:00",
     "start_time": "2019-02-15T09:53:12.556Z"
    }
   },
   "outputs": [
    {
     "data": {
      "text/plain": [
       "add_constraint! (generic function with 1 method)"
      ]
     },
     "execution_count": 3,
     "metadata": {},
     "output_type": "execute_result"
    }
   ],
   "source": [
    "function add_constraint!(csp::CSP, var1::Int64, var2::Int64, compatibility::Function)\n",
    "    csp.n_constraints += 1\n",
    "\n",
    "    m1::Int64 = length(csp.domains[var1])\n",
    "    m2::Int64 = length(csp.domains[var2])\n",
    "    satisfaction::Array{Bool, 2} = zeros(Int64, m1, m2)\n",
    "    for value1 in csp.domains[var1], value2 in csp.domains[var2]\n",
    "        satisfaction[value1, value2] = compatibility(csp, var1, var2, value1, value2)\n",
    "    end\n",
    "    \n",
    "    push!(csp.constraint_var1, var1)\n",
    "    push!(csp.constraint_var2, var2)\n",
    "    push!(csp.constraint_satisfaction, satisfaction)\n",
    "    \n",
    "    push!(csp.var1_constraints[var1], csp.n_constraints)\n",
    "    push!(csp.var2_constraints[var2], csp.n_constraints)\n",
    "end"
   ]
  },
  {
   "cell_type": "code",
   "execution_count": 4,
   "metadata": {
    "ExecuteTime": {
     "end_time": "2019-02-15T10:53:15.512000+01:00",
     "start_time": "2019-02-15T09:53:12.558Z"
    }
   },
   "outputs": [
    {
     "data": {
      "text/plain": [
       "check_feasibility (generic function with 1 method)"
      ]
     },
     "execution_count": 4,
     "metadata": {},
     "output_type": "execute_result"
    }
   ],
   "source": [
    "function check_feasibility(csp::CSP, instantiation::Array{Int64, 1}, new_var::Int64)\n",
    "    if new_var == -1\n",
    "        return true\n",
    "    end\n",
    "    for cons in csp.var1_constraints[new_var]\n",
    "        var2::Int64 = csp.constraint_var2[cons]\n",
    "        satisfaction = csp.constraint_satisfaction[cons]\n",
    "        value1 = instantiation[new_var]\n",
    "        value2 = instantiation[var2]\n",
    "        if (value1 !== -1) && (value2 !== -1)\n",
    "            if !satisfaction[value1, value2]\n",
    "                return false\n",
    "            end\n",
    "        end\n",
    "    end\n",
    "    return true\n",
    "end"
   ]
  },
  {
   "cell_type": "code",
   "execution_count": 5,
   "metadata": {
    "ExecuteTime": {
     "end_time": "2019-02-15T10:53:15.740000+01:00",
     "start_time": "2019-02-15T09:53:12.559Z"
    }
   },
   "outputs": [
    {
     "data": {
      "text/plain": [
       "undo_look_ahead! (generic function with 1 method)"
      ]
     },
     "execution_count": 5,
     "metadata": {},
     "output_type": "execute_result"
    }
   ],
   "source": [
    "function undo_look_ahead!(csp::CSP, discarded::Dict{Int64, Array{Int64, 1}})\n",
    "    for (var2, discarded_var2) in discarded\n",
    "        for value2 in discarded_var2\n",
    "            csp.possible_value[(var2, value2)] = true\n",
    "        end\n",
    "    end\n",
    "end"
   ]
  },
  {
   "cell_type": "code",
   "execution_count": 6,
   "metadata": {
    "ExecuteTime": {
     "end_time": "2019-02-15T10:53:15.972000+01:00",
     "start_time": "2019-02-15T09:53:12.561Z"
    }
   },
   "outputs": [
    {
     "data": {
      "text/plain": [
       "forward_checking (generic function with 1 method)"
      ]
     },
     "execution_count": 6,
     "metadata": {},
     "output_type": "execute_result"
    }
   ],
   "source": [
    "function forward_checking(csp::CSP, instantiation::Array{Int64, 1}, x::Int64)\n",
    "    to_discard::Dict{Int64, Array{Int64, 1}} = Dict{Int64, Array{Int64}}()\n",
    "    \n",
    "    a::Int64 = instantiation[x]\n",
    "    to_discard[x] = Int64[]\n",
    "    for aa in csp.domains[x]\n",
    "        if (aa != a) && csp.possible_value[(x, aa)]\n",
    "            push!(to_discard[x], aa)\n",
    "        end\n",
    "    end\n",
    "    \n",
    "    for cons in csp.var1_constraints[x]\n",
    "        y = csp.constraint_var2[cons]\n",
    "        if instantiation[y] != -1\n",
    "            continue\n",
    "        end\n",
    "        \n",
    "        to_discard[y] = Int64[]\n",
    "        for b in csp.domains[y]\n",
    "            if (!csp.constraint_satisfaction[cons][a, b]) && csp.possible_value[(y, b)]\n",
    "                push!(to_discard[y], b)\n",
    "            end\n",
    "        end\n",
    "    end\n",
    "    \n",
    "    for (var2, discarded_var2) in to_discard\n",
    "        for value2 in discarded_var2\n",
    "            csp.possible_value[(var2, value2)] = false\n",
    "        end\n",
    "    end\n",
    "    \n",
    "    return to_discard\n",
    "end"
   ]
  },
  {
   "cell_type": "code",
   "execution_count": 7,
   "metadata": {
    "ExecuteTime": {
     "end_time": "2019-02-15T10:53:16.228000+01:00",
     "start_time": "2019-02-15T09:53:12.562Z"
    }
   },
   "outputs": [
    {
     "data": {
      "text/plain": [
       "AC3 (generic function with 1 method)"
      ]
     },
     "execution_count": 7,
     "metadata": {},
     "output_type": "execute_result"
    }
   ],
   "source": [
    "function AC3(csp::CSP, instantiation::Array{Int64, 1}, new_var::Int64)\n",
    "    to_discard::Dict{Int64, Array{Int64, 1}} = Dict{Int64, Array{Int64}}()\n",
    "    for z in 1:csp.n_variables\n",
    "        to_discard[z] = Int64[]\n",
    "    end\n",
    "    \n",
    "    for other_value in csp.domains[new_var]\n",
    "        if (other_value != instantiation[new_var]) && csp.possible_value[(new_var, other_value)]\n",
    "            push!(to_discard[new_var], other_value)\n",
    "            csp.possible_value[(new_var, other_value)] = false\n",
    "        end\n",
    "    end\n",
    "    \n",
    "    to_test = Set{Int64}()\n",
    "    for cons in 1:csp.n_constraints\n",
    "        push!(to_test, cons)\n",
    "    end\n",
    "    \n",
    "    while !isempty(to_test)\n",
    "        cons = pop!(to_test)\n",
    "        x = csp.constraint_var1[cons]\n",
    "        y = csp.constraint_var2[cons]\n",
    "        for a in csp.domains[x]\n",
    "            \n",
    "            if !csp.possible_value[(x, a)]\n",
    "                continue\n",
    "            end\n",
    "            \n",
    "            supported::Bool = false\n",
    "            for b in csp.domains[y]\n",
    "                if !csp.possible_value[(y, b)]\n",
    "                    continue\n",
    "                end\n",
    "                if csp.constraint_satisfaction[cons][a, b]\n",
    "                    supported = true\n",
    "                    break\n",
    "                end\n",
    "            end\n",
    "            \n",
    "            if !supported\n",
    "                push!(to_discard[x], a)\n",
    "                csp.possible_value[(x, a)] = false\n",
    "                for cons_impacted in csp.var2_constraints[x]\n",
    "                    if csp.constraint_var1[cons] != y\n",
    "                        push!(to_test, cons_impacted)\n",
    "                    end\n",
    "                end\n",
    "            end\n",
    "        end\n",
    "    end\n",
    "    \n",
    "    return to_discard\n",
    "end"
   ]
  },
  {
   "cell_type": "code",
   "execution_count": 8,
   "metadata": {
    "ExecuteTime": {
     "end_time": "2019-02-15T10:53:16.455000+01:00",
     "start_time": "2019-02-15T09:53:12.564Z"
    }
   },
   "outputs": [
    {
     "data": {
      "text/plain": [
       "choose_next_variable (generic function with 1 method)"
      ]
     },
     "execution_count": 8,
     "metadata": {},
     "output_type": "execute_result"
    }
   ],
   "source": [
    "function choose_next_variable(csp::CSP, instantiation::Array{Int64, 1})\n",
    "    best_var::Int64 = -1\n",
    "    min_domain_size::Int64 = typemax(Int64)\n",
    "    \n",
    "    for var in 1:csp.n_variables\n",
    "        if instantiation[var] != -1\n",
    "            continue\n",
    "        end\n",
    "        \n",
    "        current_domain_size::Int64 = 0\n",
    "        for value in csp.domains[var]\n",
    "            if csp.possible_value[(var, value)]\n",
    "                current_domain_size += 1\n",
    "            end\n",
    "        end\n",
    "\n",
    "        if current_domain_size < min_domain_size\n",
    "            best_var = var\n",
    "            min_domain_size = current_domain_size\n",
    "        end\n",
    "    end\n",
    "    \n",
    "    return best_var\n",
    "end"
   ]
  },
  {
   "cell_type": "code",
   "execution_count": 9,
   "metadata": {
    "ExecuteTime": {
     "end_time": "2019-02-15T10:53:16.689000+01:00",
     "start_time": "2019-02-15T09:53:12.565Z"
    }
   },
   "outputs": [
    {
     "data": {
      "text/plain": [
       "backtrack! (generic function with 1 method)"
      ]
     },
     "execution_count": 9,
     "metadata": {},
     "output_type": "execute_result"
    }
   ],
   "source": [
    "function backtrack!(\n",
    "        csp::CSP,\n",
    "        instantiation::Array{Int64, 1},\n",
    "        new_var::Int64,\n",
    "        nodes_explored::Int64,\n",
    "        look_ahead_method::String\n",
    "    )\n",
    "    if !check_feasibility(csp, instantiation, new_var)\n",
    "        return (false, instantiation, nodes_explored)\n",
    "    end\n",
    "    \n",
    "    new_var = choose_next_variable(csp, instantiation)\n",
    "    if new_var == -1\n",
    "        return true, instantiation, nodes_explored\n",
    "    end\n",
    "        \n",
    "    for new_value in csp.domains[new_var]\n",
    "                \n",
    "        if !csp.possible_value[(new_var, new_value)]\n",
    "            continue\n",
    "        end\n",
    "\n",
    "        nodes_explored += 1\n",
    "        instantiation[new_var] = new_value\n",
    "                    \n",
    "        if look_ahead_method == \"FC\"\n",
    "            discarded = forward_checking(csp, instantiation, new_var)\n",
    "        elseif look_ahead_method == \"MAC3\"\n",
    "            discarded = AC3(csp, instantiation, new_var)\n",
    "        end\n",
    "                \n",
    "        (solution_found, solution, nodes_explored) = backtrack!(\n",
    "            csp, instantiation, new_var, nodes_explored, look_ahead_method)\n",
    "        if solution_found\n",
    "            return (true, solution, nodes_explored)\n",
    "        end\n",
    "        \n",
    "        instantiation[new_var] = -1\n",
    "        if look_ahead_method != \"none\"\n",
    "            undo_look_ahead!(csp, discarded)\n",
    "        end\n",
    "\n",
    "    end\n",
    "    \n",
    "    return false, instantiation, nodes_explored\n",
    "end"
   ]
  },
  {
   "cell_type": "code",
   "execution_count": 26,
   "metadata": {
    "ExecuteTime": {
     "end_time": "2019-02-15T10:58:15.574000+01:00",
     "start_time": "2019-02-15T09:58:15.446Z"
    }
   },
   "outputs": [
    {
     "data": {
      "text/plain": [
       "backtrack! (generic function with 3 methods)"
      ]
     },
     "execution_count": 26,
     "metadata": {},
     "output_type": "execute_result"
    }
   ],
   "source": [
    "function backtrack!(csp::CSP, look_ahead_method::String)\n",
    "    return backtrack!(\n",
    "        csp, -ones(Int64, csp.n_variables), -1, 0, look_ahead_method)\n",
    "end\n",
    "\n",
    "function backtrack!(csp::CSP)\n",
    "    return backtrack!(\n",
    "        csp, -ones(Int64, csp.n_variables), -1, 0, \"FC\")\n",
    "end"
   ]
  },
  {
   "cell_type": "code",
   "execution_count": 28,
   "metadata": {
    "ExecuteTime": {
     "end_time": "2019-02-15T10:58:40.315000+01:00",
     "start_time": "2019-02-15T09:58:40.193Z"
    }
   },
   "outputs": [
    {
     "data": {
      "text/plain": [
       "solve (generic function with 1 method)"
      ]
     },
     "execution_count": 28,
     "metadata": {},
     "output_type": "execute_result"
    }
   ],
   "source": [
    "function solve(csp::CSP)\n",
    "    (status, instantiation, nodes_explored) = backtrack!(csp)\n",
    "    if !status\n",
    "        println(\"\\nStatus: unfeasible\")\n",
    "    else\n",
    "        println(\"\\nStatus: solved\")\n",
    "        println(\"\\nNodes explored: \", nodes_explored)\n",
    "        println(\"\\nSolution: \")\n",
    "        for var in 1:csp.n_variables\n",
    "            println(csp.names[var], \": \", instantiation[var])\n",
    "        end\n",
    "    end\n",
    "    println()\n",
    "    instantiation_dict::Dict{String, Int64} = Dict(\n",
    "        csp.names[var] => instantiation[var] for var in 1:csp.n_variables)\n",
    "    return instantiation_dict\n",
    "end"
   ]
  },
  {
   "cell_type": "markdown",
   "metadata": {},
   "source": [
    "## 2. Applications"
   ]
  },
  {
   "cell_type": "markdown",
   "metadata": {},
   "source": [
    "### 2.1. N-queens problem"
   ]
  },
  {
   "cell_type": "code",
   "execution_count": 29,
   "metadata": {
    "ExecuteTime": {
     "end_time": "2019-02-15T10:58:41.465000+01:00",
     "start_time": "2019-02-15T09:58:41.334Z"
    }
   },
   "outputs": [
    {
     "data": {
      "text/plain": [
       "visualize_nqueens (generic function with 1 method)"
      ]
     },
     "execution_count": 29,
     "metadata": {},
     "output_type": "execute_result"
    }
   ],
   "source": [
    "function compatibility_nqueens(csp::CSP, var1::Int64, var2::Int64, value1::Int64, value2::Int64)\n",
    "    # Exclude same row, same diagonal, same antidiagonal\n",
    "    if (value1 == value2) || ((value1 - value2) == (var1 - var2)) || ((value1 - value2) == -(var1 - var2))\n",
    "        return false\n",
    "    elseif symmetry_redundent_nqueens(csp, var1, var2, value1, value2)\n",
    "        return false\n",
    "    else\n",
    "        return true\n",
    "    end\n",
    "end\n",
    "\n",
    "function symmetry_redundent_nqueens(csp::CSP, var1::Int64, var2::Int64, value1::Int64, value2::Int64)\n",
    "    # Horizontal symmetry\n",
    "    if (var1 == 1) && (var2 == 2)\n",
    "        if value1 < value2\n",
    "            return true\n",
    "        end\n",
    "    end\n",
    "    return false\n",
    "end\n",
    "\n",
    "function define_nqueens(n::Int64)\n",
    "    csp = CSP()\n",
    "    for i in 1:n\n",
    "        name = \"row_\" * string(i)\n",
    "        domain = collect(1:n)\n",
    "        add_variable!(csp, name, domain)\n",
    "    end\n",
    "    for i in 1:n, j in 1:n\n",
    "        if (i != j)\n",
    "            add_constraint!(csp, i, j, compatibility_nqueens)\n",
    "        end\n",
    "    end\n",
    "    return csp\n",
    "end\n",
    "\n",
    "function visualize_nqueens(instantiation_dict::Dict{String, Int64})\n",
    "    n::Int64 = length(instantiation_dict)\n",
    "    for j in 1:n\n",
    "        println()\n",
    "        for i in 1:n\n",
    "            if instantiation_dict[\"row_\" * string(j)] == i\n",
    "                print(\" o\")\n",
    "            else\n",
    "                print(\" .\")\n",
    "            end\n",
    "        end\n",
    "    end\n",
    "end        "
   ]
  },
  {
   "cell_type": "code",
   "execution_count": 30,
   "metadata": {
    "ExecuteTime": {
     "end_time": "2019-02-15T10:58:45.330000+01:00",
     "start_time": "2019-02-15T09:58:45.221Z"
    }
   },
   "outputs": [
    {
     "name": "stdout",
     "output_type": "stream",
     "text": [
      "  0.051266 seconds (68.34 k allocations: 4.706 MiB)\n",
      "\n",
      "Status: solved\n",
      "\n",
      "Nodes explored: 38\n",
      "\n",
      "Solution: \n",
      "row_1: 3\n",
      "row_2: 1\n",
      "row_3: 4\n",
      "row_4: 12\n",
      "row_5: 5\n",
      "row_6: 16\n",
      "row_7: 14\n",
      "row_8: 6\n",
      "row_9: 18\n",
      "row_10: 13\n",
      "row_11: 15\n",
      "row_12: 7\n",
      "row_13: 19\n",
      "row_14: 10\n",
      "row_15: 20\n",
      "row_16: 2\n",
      "row_17: 8\n",
      "row_18: 11\n",
      "row_19: 9\n",
      "row_20: 17\n",
      "\n",
      "  0.040528 seconds (113.33 k allocations: 5.702 MiB)\n",
      "\n",
      " . . o . . . . . . . . . . . . . . . . .\n",
      " o . . . . . . . . . . . . . . . . . . .\n",
      " . . . o . . . . . . . . . . . . . . . .\n",
      " . . . . . . . . . . . o . . . . . . . .\n",
      " . . . . o . . . . . . . . . . . . . . .\n",
      " . . . . . . . . . . . . . . . o . . . .\n",
      " . . . . . . . . . . . . . o . . . . . .\n",
      " . . . . . o . . . . . . . . . . . . . .\n",
      " . . . . . . . . . . . . . . . . . o . .\n",
      " . . . . . . . . . . . . o . . . . . . .\n",
      " . . . . . . . . . . . . . . o . . . . .\n",
      " . . . . . . o . . . . . . . . . . . . .\n",
      " . . . . . . . . . . . . . . . . . . o .\n",
      " . . . . . . . . . o . . . . . . . . . .\n",
      " . . . . . . . . . . . . . . . . . . . o\n",
      " . o . . . . . . . . . . . . . . . . . .\n",
      " . . . . . . . o . . . . . . . . . . . .\n",
      " . . . . . . . . . . o . . . . . . . . .\n",
      " . . . . . . . . o . . . . . . . . . . .\n",
      " . . . . . . . . . . . . . . . . o . . ."
     ]
    }
   ],
   "source": [
    "@time nqueens = define_nqueens(20)\n",
    "@time instantiation_dict = solve(nqueens)\n",
    "\n",
    "visualize_nqueens(instantiation_dict)"
   ]
  },
  {
   "cell_type": "markdown",
   "metadata": {},
   "source": [
    "### 2.2 Graph coloring"
   ]
  },
  {
   "cell_type": "code",
   "execution_count": 13,
   "metadata": {
    "ExecuteTime": {
     "end_time": "2019-02-15T10:53:18.384000+01:00",
     "start_time": "2019-02-15T09:53:12.572Z"
    }
   },
   "outputs": [
    {
     "data": {
      "text/plain": [
       "read_graph (generic function with 1 method)"
      ]
     },
     "execution_count": 13,
     "metadata": {},
     "output_type": "execute_result"
    }
   ],
   "source": [
    "function read_graph(path::String)\n",
    "    n_vertices = 0\n",
    "    edges = Array{Tuple{Int64, Int64}, 1}()\n",
    "    open(path) do file\n",
    "        for line in eachline(file)\n",
    "            split_line = split(line)\n",
    "            if line[1] == 'p'\n",
    "                n_vertices = parse(Int64, split_line[3])\n",
    "            elseif line[1] == 'e'\n",
    "                u = parse(Int64, split_line[2])\n",
    "                v = parse(Int64, split_line[3])\n",
    "                push!(edges, (u, v))\n",
    "            end\n",
    "        end\n",
    "    end\n",
    "    return n_vertices, edges\n",
    "end"
   ]
  },
  {
   "cell_type": "code",
   "execution_count": 14,
   "metadata": {
    "ExecuteTime": {
     "end_time": "2019-02-15T10:53:18.698000+01:00",
     "start_time": "2019-02-15T09:53:12.574Z"
    }
   },
   "outputs": [
    {
     "data": {
      "text/plain": [
       "define_coloring (generic function with 1 method)"
      ]
     },
     "execution_count": 14,
     "metadata": {},
     "output_type": "execute_result"
    }
   ],
   "source": [
    "function compatibility_coloring(csp::CSP, var1::Int64, var2::Int64, value1::Int64, value2::Int64)\n",
    "    return value1 != value2\n",
    "end\n",
    "\n",
    "function define_coloring(n_vertices::Int64, edges::Array{Tuple{Int64, Int64}, 1}, n_colors::Int64)\n",
    "    csp = CSP()\n",
    "    domain = collect(1:n_colors)\n",
    "    for u in 1:n_vertices\n",
    "        add_variable!(csp, domain)\n",
    "    end\n",
    "    for (u, v) in edges\n",
    "        add_constraint!(csp, u, v, compatibility_coloring)\n",
    "        add_constraint!(csp, v, u, compatibility_coloring)\n",
    "    end\n",
    "    return csp\n",
    "end"
   ]
  },
  {
   "cell_type": "code",
   "execution_count": 15,
   "metadata": {
    "ExecuteTime": {
     "end_time": "2019-02-15T10:53:18.991000+01:00",
     "start_time": "2019-02-15T09:53:12.576Z"
    }
   },
   "outputs": [
    {
     "ename": "MethodError",
     "evalue": "MethodError: no method matching add_variable!(::CSP, ::Array{Int64,1})\nClosest candidates are:\n  add_variable!(::CSP, !Matched::String, !Matched::Array{Int64,1}) at In[2]:2",
     "output_type": "error",
     "traceback": [
      "MethodError: no method matching add_variable!(::CSP, ::Array{Int64,1})\nClosest candidates are:\n  add_variable!(::CSP, !Matched::String, !Matched::Array{Int64,1}) at In[2]:2",
      "",
      "Stacktrace:",
      " [1] define_coloring(::Int64, ::Array{Tuple{Int64,Int64},1}, ::Int64) at ./In[14]:9",
      " [2] top-level scope at In[15]:3"
     ]
    }
   ],
   "source": [
    "n_vertices, edges = read_graph(\"graphs/myciel5.col\")\n",
    "n_colors = 4\n",
    "coloring = define_coloring(n_vertices, edges, n_colors);"
   ]
  },
  {
   "cell_type": "code",
   "execution_count": 16,
   "metadata": {
    "ExecuteTime": {
     "end_time": "2019-02-15T10:53:18.993000+01:00",
     "start_time": "2019-02-15T09:53:12.577Z"
    }
   },
   "outputs": [
    {
     "ename": "UndefVarError",
     "evalue": "UndefVarError: coloring not defined",
     "output_type": "error",
     "traceback": [
      "UndefVarError: coloring not defined",
      "",
      "Stacktrace:",
      " [1] top-level scope at In[16]:1"
     ]
    }
   ],
   "source": [
    "backtrack!(coloring, \"MAC3\")"
   ]
  }
 ],
 "metadata": {
  "kernelspec": {
   "display_name": "Julia 1.0.3",
   "language": "julia",
   "name": "julia-1.0"
  },
  "language_info": {
   "file_extension": ".jl",
   "mimetype": "application/julia",
   "name": "julia",
   "version": "1.0.3"
  }
 },
 "nbformat": 4,
 "nbformat_minor": 2
}
