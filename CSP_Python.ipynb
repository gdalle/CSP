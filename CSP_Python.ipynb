{
 "cells": [
  {
   "cell_type": "code",
   "execution_count": 4,
   "metadata": {
    "ExecuteTime": {
     "end_time": "2019-01-26T23:45:35.388976Z",
     "start_time": "2019-01-26T23:45:34.940491Z"
    }
   },
   "outputs": [],
   "source": [
    "from collections import defaultdict\n",
    "import itertools\n",
    "import numpy as np\n",
    "import matplotlib.pyplot as plt\n",
    "import cProfile, pstats\n",
    "import line_profiler"
   ]
  },
  {
   "cell_type": "code",
   "execution_count": 5,
   "metadata": {
    "ExecuteTime": {
     "end_time": "2019-01-26T23:45:35.396901Z",
     "start_time": "2019-01-26T23:45:35.391268Z"
    }
   },
   "outputs": [],
   "source": [
    "class Variable:\n",
    "    \n",
    "    def __init__(self, name, domain):\n",
    "        self.name = name\n",
    "        self.domain = domain\n",
    "        \n",
    "    def __hash__(self):\n",
    "        return self.name.__hash__()\n",
    "    \n",
    "    def __str__(self):\n",
    "        return (\n",
    "            \"VARIABLE\" +\n",
    "            \" - Name: \" + str(self.name)\n",
    "            # + \" - Domain: \" + str(self.domain)\n",
    "        )"
   ]
  },
  {
   "cell_type": "code",
   "execution_count": 6,
   "metadata": {
    "ExecuteTime": {
     "end_time": "2019-01-26T23:45:35.407612Z",
     "start_time": "2019-01-26T23:45:35.398903Z"
    }
   },
   "outputs": [],
   "source": [
    "class Constraint:\n",
    "    \n",
    "    def __init__(self, var1, var2, tuples):\n",
    "        self.var1 = var1\n",
    "        self.var2 = var2\n",
    "        self.tuples = tuples\n",
    "        \n",
    "        self.satisfied_by = defaultdict(bool)\n",
    "        for (value1, value2) in tuples:\n",
    "            self.satisfied_by[(value1, value2)] = True\n",
    "            \n",
    "    def __str__(self):\n",
    "        return (\n",
    "            \"CONSTRAINT\" +\n",
    "            \" - Var1: \" + str(self.var1.name) +\n",
    "            \" - Var2: \" + str(self.var2.name)\n",
    "            # + \" - Tuples: \" + str(self.tuples)\n",
    "        )\n",
    "        \n",
    "    def symmetric(self):\n",
    "        return Constraint(\n",
    "            var1=self.var2,\n",
    "            var2=self.var1,\n",
    "            tuples=[(value2, value1) for (value1, value2) in self.tuples]\n",
    "        )\n",
    "    \n",
    "    def consistent_value(self, value1, domain2):\n",
    "        for value2 in domain2:\n",
    "            if self.satisfied_by[(value1, value2)]:\n",
    "                return True\n",
    "        return False"
   ]
  },
  {
   "cell_type": "code",
   "execution_count": 28,
   "metadata": {
    "ExecuteTime": {
     "end_time": "2019-01-26T23:45:35.428759Z",
     "start_time": "2019-01-26T23:45:35.410895Z"
    }
   },
   "outputs": [],
   "source": [
    "class BinaryCSP:\n",
    "    \n",
    "    def __init__(self):\n",
    "        self.variables = []\n",
    "        self.variables_by_name = defaultdict(int)\n",
    "        self.n_var = 0\n",
    "        self.constraints = []\n",
    "        self.original_constraints = []\n",
    "        self.constraints_with_first_var = defaultdict(list)\n",
    "        self.constraints_with_second_var = defaultdict(list)\n",
    "        self.constraint_on_couple = defaultdict(int)\n",
    "        \n",
    "    def add_variable(self, var):\n",
    "        self.variables.append(var)\n",
    "        self.variables_by_name[var.name] = var\n",
    "        self.n_var += 1\n",
    "        \n",
    "    def add_constraint_aux(self, cons):\n",
    "        self.constraints.append(cons)\n",
    "        var1, var2 = cons.var1, cons.var2\n",
    "        self.constraints_with_first_var[var1.name].append(cons)\n",
    "        self.constraints_with_second_var[var2.name].append(cons)\n",
    "        self.constraint_on_couple[(var1.name, var2.name)] = cons\n",
    "        \n",
    "    def add_constraint(self, cons):\n",
    "        self.add_constraint_aux(cons)\n",
    "        self.add_constraint_aux(cons.symmetric())\n",
    "    \n",
    "    def is_feasible(self, instantiation, new_var):\n",
    "        if new_var is None:\n",
    "            return True\n",
    "        for cons in self.constraints_with_first_var[new_var.name]:\n",
    "            var2 = cons.var2\n",
    "            if var2.name not in instantiation:\n",
    "                continue\n",
    "            value1 = instantiation[new_var.name]\n",
    "            value2 = instantiation[var2.name]\n",
    "            if not cons.satisfied_by[(value1, value2)]:\n",
    "                return False\n",
    "        return True\n",
    "    \n",
    "    def backtrack(\n",
    "        self,\n",
    "        instantiation={},\n",
    "        new_var=None, nodes_explored=0,\n",
    "        pruning=False\n",
    "    ):\n",
    "        if not self.is_feasible(instantiation, new_var):\n",
    "            return False, nodes_explored\n",
    "        \n",
    "        if len(instantiation) == self.n_var:\n",
    "            return instantiation, nodes_explored\n",
    "\n",
    "        var = self.variables[len(instantiation)]\n",
    "        \n",
    "        for value in var.domain:\n",
    "            nodes_explored += 1\n",
    "            instantiation[var.name] = value\n",
    "            domain_backup = var.domain.copy()\n",
    "            var.domain = {value}\n",
    "            \n",
    "            if pruning == \"FC\":\n",
    "                discarded_values = self.forward_checking(instantiation, new_var=var)\n",
    "            elif pruning == \"MAC3\":\n",
    "                discarded_values = self.AC3()\n",
    "            elif pruning == \"MAC4\":\n",
    "                discarded_values = self.AC4()\n",
    "            \n",
    "            solution, nodes_explored = self.backtrack(\n",
    "                instantiation,\n",
    "                new_var=var, nodes_explored=nodes_explored,\n",
    "                pruning=pruning\n",
    "            )\n",
    "            if solution is not False:\n",
    "                return solution, nodes_explored\n",
    "            \n",
    "            del instantiation[var.name]\n",
    "            var.domain = domain_backup.copy()\n",
    "            \n",
    "            if pruning:\n",
    "                for var2_name in discarded_values:\n",
    "                    var2 = self.variables_by_name[var2_name]\n",
    "                    var2.domain = var2.domain.union(discarded_values[var2_name])\n",
    "        \n",
    "        return False, nodes_explored\n",
    "    \n",
    "    def forward_checking(self, instantiation, new_var):\n",
    "        new_value = instantiation[new_var.name]\n",
    "        discarded_values = defaultdict(set)\n",
    "        for cons in self.constraints_with_first_var[new_var.name]:\n",
    "            var2 = cons.var2\n",
    "            if var2.name in instantiation:\n",
    "                continue\n",
    "            for value2 in var2.domain:\n",
    "                if not cons.satisfied_by[(new_value, value2)]:\n",
    "                    discarded_values[var2.name].add(value2)\n",
    "            var2.domain = var2.domain.difference(discarded_values[var2.name])\n",
    "        return discarded_values\n",
    "    \n",
    "    def AC3(self):\n",
    "        discarded_values = defaultdict(set)\n",
    "        to_test = set(self.constraints)\n",
    "        while to_test:\n",
    "            cons = to_test.pop()\n",
    "            var1, var2 = cons.var1, cons.var2\n",
    "            domain1_changed = False\n",
    "            for value1 in var1.domain:\n",
    "                if not cons.consistent_value(value1, var2.domain):\n",
    "                    discarded_values[var1.name].add(value1)\n",
    "                    domain1_changed = True\n",
    "            if domain1_changed:\n",
    "                var1.domain = var1.domain.difference(discarded_values[var1.name])\n",
    "                for impacted_cons in self.constraints_with_second_var[var1.name]:\n",
    "                    to_test.add(impacted_cons)\n",
    "        return discarded_values\n",
    "    \n",
    "    def init_AC4(self):\n",
    "        discarded_values = defaultdict(set)\n",
    "        Q = set()\n",
    "        S = defaultdict(set)\n",
    "        count = defaultdict(int)\n",
    "        for cons in self.constraints:\n",
    "            var1, var2 = cons.var1, cons.var2\n",
    "            for value1 in var1.domain:\n",
    "                total = 0\n",
    "                for value2 in var2.domain:\n",
    "                    if cons.satisfied_by[(value1, value2)]:\n",
    "                        total += 1\n",
    "                        S[(var2, value2)].add((var1, value1))\n",
    "                count[(var1, var2, value1)] = total\n",
    "                if total == 0:\n",
    "                    discarded_values[var1.name].add(value1)\n",
    "                    Q.add((var1, value1))\n",
    "            var1.domain = var1.domain.difference(discarded_values[var1.name])\n",
    "        return Q, S, count, discarded_values\n",
    "    \n",
    "    def AC4(self):\n",
    "        Q, S, count, discarded_values = self.init_AC4()\n",
    "        while Q:\n",
    "            (var2, value2) = Q.pop()\n",
    "            for (var1, value1) in S[(var2, value2)]:\n",
    "                count[(var1, var2, value1)] -= 1\n",
    "                if count[(var1, var2, value1)] == 0 and value1 in var1.domain:\n",
    "                    var1.domain.discard(value1)\n",
    "                    discarded_values[var1.name].add(value1)\n",
    "                    Q.add((var1, value1))\n",
    "        return discarded_values\n",
    "                \n",
    "            "
   ]
  },
  {
   "cell_type": "code",
   "execution_count": 29,
   "metadata": {
    "ExecuteTime": {
     "end_time": "2019-01-26T23:45:35.454725Z",
     "start_time": "2019-01-26T23:45:35.444973Z"
    }
   },
   "outputs": [],
   "source": [
    "def define_nqueens(n=8):\n",
    "\n",
    "    nqueens = BinaryCSP()\n",
    "\n",
    "    for row in range(n):\n",
    "        col = Variable(name=\"col_\" + str(row), domain=set(range(n)))\n",
    "        nqueens.add_variable(col)\n",
    "\n",
    "    for i in range(n):\n",
    "        for j in range(i+1, n):\n",
    "            var_i = nqueens.variables_by_name[\"col_\" + str(i)]\n",
    "            var_j = nqueens.variables_by_name[\"col_\" + str(j)]\n",
    "\n",
    "            not_threatening = Constraint(\n",
    "                var_i, var_j,\n",
    "                [\n",
    "                    (c_i, c_j) for c_i in range(n) for c_j in range(n)\n",
    "                    if (\n",
    "                        (c_i != c_j) and\n",
    "                        ((c_i - c_j) != (i - j)) and\n",
    "                        ((c_i - c_j) != -(i - j))\n",
    "                    )\n",
    "                ]\n",
    "            )\n",
    "\n",
    "            nqueens.add_constraint(not_threatening)\n",
    "            \n",
    "    return nqueens\n",
    "\n",
    "def visualize_nqueens(instantiation):\n",
    "    n = len(instantiation)\n",
    "    m = np.zeros((n, n))\n",
    "    for i in range(n):\n",
    "        col_i = instantiation[\"col_\" + str(i)]\n",
    "        m[i, col_i] = 1\n",
    "    plt.matshow(m)"
   ]
  },
  {
   "cell_type": "code",
   "execution_count": 30,
   "metadata": {},
   "outputs": [],
   "source": [
    "def define_graph_coloring(path, n_colors=3):\n",
    "    with open(path, \"r\") as file:\n",
    "        r = file.read().split(\"\\n\")\n",
    "        \n",
    "    coloring = BinaryCSP()\n",
    "    possible_colors = set(range(n_colors))\n",
    "    different_colors_couples = [\n",
    "        (c1, c2)\n",
    "        for (c1, c2) in itertools.product(possible_colors, repeat=2)\n",
    "        if c1 != c2\n",
    "    ]\n",
    "    \n",
    "    variables = []\n",
    "    \n",
    "    for line in r:\n",
    "        line_split = line.split(\" \")\n",
    "        \n",
    "        if line_split[0] == \"p\":\n",
    "            n_variables = int(line_split[2])\n",
    "            for i in range(1, n_variables+1):\n",
    "                var = Variable(str(i), possible_colors)\n",
    "                variables.append(var)\n",
    "                coloring.add_variable(var)\n",
    "                \n",
    "        elif line_split[0] == \"e\":\n",
    "            var1_name = line_split[1]\n",
    "            var2_name = line_split[2]\n",
    "            var1 = variables[int(var1_name)-1]\n",
    "            var2 = variables[int(var2_name)-1]\n",
    "            cons = Constraint(var1, var2, different_colors_couples)\n",
    "            coloring.add_constraint(cons)\n",
    "        \n",
    "    return coloring"
   ]
  },
  {
   "cell_type": "code",
   "execution_count": 31,
   "metadata": {},
   "outputs": [
    {
     "data": {
      "text/plain": [
       "({'NE': 'R', 'NW': 'G', 'SE': 'G', 'SW': 'R', 'C': 'B'}, 9)"
      ]
     },
     "execution_count": 31,
     "metadata": {},
     "output_type": "execute_result"
    }
   ],
   "source": [
    "coloring = BinaryCSP()\n",
    "\n",
    "possible_colors = {\"R\", \"B\", \"G\"}\n",
    "possible_neighbors = [\n",
    "    (col1, col2)\n",
    "    for (col1, col2) in itertools.product(possible_colors, repeat=2)\n",
    "    if col1 != col2\n",
    "]\n",
    "\n",
    "ne = Variable(\"NE\", possible_colors)\n",
    "nw = Variable(\"NW\", possible_colors)\n",
    "se = Variable(\"SE\", possible_colors)\n",
    "sw = Variable(\"SW\", possible_colors)\n",
    "c = Variable(\"C\", possible_colors)\n",
    "\n",
    "for var in [ne, nw, se, sw, c]:\n",
    "    coloring.add_variable(var)\n",
    "\n",
    "for var1, var2 in [(ne, nw), (nw, sw), (sw, se), (se, ne), (ne, c), (nw, c), (sw, c), (se, c)]:\n",
    "    cons = Constraint(var1, var2, possible_neighbors)\n",
    "    coloring.add_constraint(cons)\n",
    "    \n",
    "coloring.backtrack({})"
   ]
  },
  {
   "cell_type": "code",
   "execution_count": 36,
   "metadata": {
    "ExecuteTime": {
     "end_time": "2019-01-26T23:45:35.658845Z",
     "start_time": "2019-01-26T23:45:35.456590Z"
    }
   },
   "outputs": [
    {
     "data": {
      "image/png": "[encoded data removed]",
      "text/plain": [
       "<Figure size 288x288 with 1 Axes>"
      ]
     },
     "metadata": {
      "needs_background": "light"
     },
     "output_type": "display_data"
    }
   ],
   "source": [
    "nqueens = define_nqueens(n=8)\n",
    "queen_positions, nodes_explored = nqueens.backtrack({}, pruning=\"MAC3\")\n",
    "visualize_nqueens(queen_positions)"
   ]
  },
  {
   "cell_type": "code",
   "execution_count": 37,
   "metadata": {},
   "outputs": [
    {
     "name": "stdout",
     "output_type": "stream",
     "text": [
      "Timer unit: 1e-06 s\n",
      "\n",
      "Total time: 2.20209 s\n",
      "File: <ipython-input-28-ea36128cf789>\n",
      "Function: backtrack at line 42\n",
      "\n",
      "Line #      Hits         Time  Per Hit   % Time  Line Contents\n",
      "==============================================================\n",
      "    42                                               def backtrack(\n",
      "    43                                                   self,\n",
      "    44                                                   instantiation={},\n",
      "    45                                                   new_var=None, nodes_explored=0,\n",
      "    46                                                   pruning=False\n",
      "    47                                               ):\n",
      "    48     41221     583477.0     14.2     26.5          if not self.is_feasible(instantiation, new_var):\n",
      "    49                                                       return False, nodes_explored\n",
      "    50                                                   \n",
      "    51     41221      20940.0      0.5      1.0          if len(instantiation) == self.n_var:\n",
      "    52         1          0.0      0.0      0.0              return instantiation, nodes_explored\n",
      "    53                                           \n",
      "    54     41220      20046.0      0.5      0.9          var = self.variables[len(instantiation)]\n",
      "    55                                                   \n",
      "    56     82422      39486.0      0.5      1.8          for value in var.domain:\n",
      "    57     41220      17609.0      0.4      0.8              nodes_explored += 1\n",
      "    58     41220      20557.0      0.5      0.9              instantiation[var.name] = value\n",
      "    59     41220      24476.0      0.6      1.1              domain_backup = var.domain.copy()\n",
      "    60     41220      18873.0      0.5      0.9              var.domain = {value}\n",
      "    61                                                       \n",
      "    62     41220      15976.0      0.4      0.7              if pruning == \"FC\":\n",
      "    63     41220     902096.0     21.9     41.0                  discarded_values = self.forward_checking(instantiation, new_var=var)\n",
      "    64                                                       elif pruning == \"MAC3\":\n",
      "    65                                                           discarded_values = self.AC3()\n",
      "    66                                                       elif pruning == \"MAC4\":\n",
      "    67                                                           discarded_values = self.AC4()\n",
      "    68                                                       \n",
      "    69     41220      18289.0      0.4      0.8              solution, nodes_explored = self.backtrack(\n",
      "    70     41220      14236.0      0.3      0.6                  instantiation,\n",
      "    71     41220      14854.0      0.4      0.7                  new_var=var, nodes_explored=nodes_explored,\n",
      "    72     41220      20927.0      0.5      1.0                  pruning=pruning\n",
      "    73                                                       )\n",
      "    74     41220      16799.0      0.4      0.8              if solution is not False:\n",
      "    75        18         12.0      0.7      0.0                  return solution, nodes_explored\n",
      "    76                                                       \n",
      "    77     41202      18847.0      0.5      0.9              del instantiation[var.name]\n",
      "    78     41202      26465.0      0.6      1.2              var.domain = domain_backup.copy()\n",
      "    79                                                       \n",
      "    80     41202      15281.0      0.4      0.7              if pruning:\n",
      "    81    277543     107245.0      0.4      4.9                  for var2_name in discarded_values:\n",
      "    82    236341     100951.0      0.4      4.6                      var2 = self.variables_by_name[var2_name]\n",
      "    83    236341     169837.0      0.7      7.7                      var2.domain = var2.domain.union(discarded_values[var2_name])\n",
      "    84                                                   \n",
      "    85     41202      14807.0      0.4      0.7          return False, nodes_explored\n",
      "\n"
     ]
    }
   ],
   "source": [
    "nqueens = define_nqueens(n=18)\n",
    "lp = line_profiler.LineProfiler()\n",
    "lp_wrapper = lp(nqueens.backtrack)\n",
    "lp_wrapper({}, pruning=\"FC\")\n",
    "lp.print_stats()"
   ]
  },
  {
   "cell_type": "code",
   "execution_count": 40,
   "metadata": {
    "ExecuteTime": {
     "end_time": "2019-01-26T23:45:39.652668Z",
     "start_time": "2019-01-26T23:45:35.660658Z"
    }
   },
   "outputs": [
    {
     "name": "stdout",
     "output_type": "stream",
     "text": [
      "Mon Jan 28 11:17:32 2019    stats\n",
      "\n",
      "         10743277 function calls (10737717 primitive calls) in 3.627 seconds\n",
      "\n",
      "   Ordered by: cumulative time\n",
      "\n",
      "   ncalls  tottime  percall  cumtime  percall filename:lineno(function)\n",
      "        1    0.000    0.000    3.627    3.627 {built-in method builtins.exec}\n",
      "        1    0.000    0.000    3.627    3.627 <string>:1(<module>)\n",
      "   5561/1    0.045    0.000    3.627    3.627 <ipython-input-28-ea36128cf789>:42(backtrack)\n",
      "     5560    2.016    0.000    3.543    0.001 <ipython-input-28-ea36128cf789>:100(AC3)\n",
      "  4923696    1.129    0.000    1.129    0.000 <ipython-input-6-50b4b35ad516>:27(consistent_value)\n",
      "  3167316    0.193    0.000    0.193    0.000 {method 'pop' of 'set' objects}\n",
      "  2402353    0.175    0.000    0.175    0.000 {method 'add' of 'set' objects}\n",
      "   131601    0.030    0.000    0.030    0.000 {method 'difference' of 'set' objects}\n",
      "     5561    0.023    0.000    0.023    0.000 <ipython-input-28-ea36128cf789>:29(is_feasible)\n",
      "    79403    0.013    0.000    0.013    0.000 {method 'union' of 'set' objects}\n",
      "    11102    0.002    0.000    0.002    0.000 {method 'copy' of 'set' objects}\n",
      "    11121    0.001    0.000    0.001    0.000 {built-in method builtins.len}\n",
      "        1    0.000    0.000    0.000    0.000 {method 'disable' of '_lsprof.Profiler' objects}\n",
      "\n",
      "\n"
     ]
    },
    {
     "data": {
      "text/plain": [
       "<pstats.Stats at 0x1151bd7f0>"
      ]
     },
     "execution_count": 40,
     "metadata": {},
     "output_type": "execute_result"
    }
   ],
   "source": [
    "nqueens = define_nqueens(n=18)\n",
    "cProfile.run(\"queen_positions = nqueens.backtrack({}, pruning='MAC3')\", \"stats\")\n",
    "p = pstats.Stats(\"stats\")\n",
    "p.strip_dirs().sort_stats(\"cumtime\").print_stats()"
   ]
  },
  {
   "cell_type": "code",
   "execution_count": 14,
   "metadata": {},
   "outputs": [
    {
     "data": {
      "text/plain": [
       "(False, 390)"
      ]
     },
     "execution_count": 14,
     "metadata": {},
     "output_type": "execute_result"
    }
   ],
   "source": [
    "coloring = define_graph_coloring(\"graphs/games120.col\", n_colors=3)\n",
    "coloring.backtrack({}, pruning=\"MAC3\")"
   ]
  },
  {
   "cell_type": "code",
   "execution_count": 41,
   "metadata": {},
   "outputs": [
    {
     "name": "stdout",
     "output_type": "stream",
     "text": [
      "Mon Jan 28 11:17:55 2019    stats\n",
      "\n",
      "         17983552 function calls (17983162 primitive calls) in 7.176 seconds\n",
      "\n",
      "   Ordered by: cumulative time\n",
      "\n",
      "   ncalls  tottime  percall  cumtime  percall filename:lineno(function)\n",
      "        1    0.000    0.000    7.176    7.176 {built-in method builtins.exec}\n",
      "        1    0.000    0.000    7.176    7.176 <string>:1(<module>)\n",
      "    391/1    0.075    0.000    7.176    7.176 <ipython-input-28-ea36128cf789>:42(backtrack)\n",
      "      390    0.707    0.002    7.093    0.018 <ipython-input-28-ea36128cf789>:137(AC4)\n",
      "      390    2.944    0.008    5.780    0.015 <ipython-input-28-ea36128cf789>:117(init_AC4)\n",
      " 13808883    2.665    0.000    2.665    0.000 <ipython-input-5-b087a6124f80>:7(__hash__)\n",
      "  3061884    0.620    0.000    1.060    0.000 {method 'add' of 'set' objects}\n",
      "   995280    0.153    0.000    0.153    0.000 {method 'difference' of 'set' objects}\n",
      "    46800    0.005    0.000    0.005    0.000 {method 'union' of 'set' objects}\n",
      "    67578    0.004    0.000    0.004    0.000 {method 'pop' of 'set' objects}\n",
      "      391    0.003    0.000    0.003    0.000 <ipython-input-28-ea36128cf789>:29(is_feasible)\n",
      "      780    0.000    0.000    0.000    0.000 {method 'copy' of 'set' objects}\n",
      "      782    0.000    0.000    0.000    0.000 {built-in method builtins.len}\n",
      "        1    0.000    0.000    0.000    0.000 {method 'disable' of '_lsprof.Profiler' objects}\n",
      "\n",
      "\n"
     ]
    },
    {
     "data": {
      "text/plain": [
       "<pstats.Stats at 0x115ef7a20>"
      ]
     },
     "execution_count": 41,
     "metadata": {},
     "output_type": "execute_result"
    }
   ],
   "source": [
    "coloring = define_graph_coloring(\"graphs/games120.col\", n_colors=3)\n",
    "cProfile.run(\"coloring.backtrack({}, pruning='MAC4')\", \"stats\")\n",
    "p = pstats.Stats(\"stats\")\n",
    "p.strip_dirs().sort_stats(\"cumtime\").print_stats()"
   ]
  },
  {
   "cell_type": "code",
   "execution_count": null,
   "metadata": {},
   "outputs": [],
   "source": []
  }
 ],
 "metadata": {
  "kernelspec": {
   "display_name": "Python [conda env:optim]",
   "language": "python",
   "name": "conda-env-optim-py"
  },
  "language_info": {
   "codemirror_mode": {
    "name": "ipython",
    "version": 3
   },
   "file_extension": ".py",
   "mimetype": "text/x-python",
   "name": "python",
   "nbconvert_exporter": "python",
   "pygments_lexer": "ipython3",
   "version": "3.7.2"
  }
 },
 "nbformat": 4,
 "nbformat_minor": 2
}
